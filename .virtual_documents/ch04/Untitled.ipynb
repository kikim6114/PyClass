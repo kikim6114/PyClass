fruits = ['apple', 'banana', 'cherry', 'kiwi', 'peach']
for fruit in fruits:
  print
