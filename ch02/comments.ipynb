{
 "cells": [
  {
   "cell_type": "markdown",
   "id": "8fc2f725-4e42-474b-a481-15d279d24e37",
   "metadata": {},
   "source": [
    "#### 먼저 프로그램부터 돌려보자"
   ]
  },
  {
   "cell_type": "code",
   "execution_count": null,
   "id": "4fde61d7-7a82-438d-87ae-ad98f599fccf",
   "metadata": {},
   "outputs": [],
   "source": [
    "# 1. 간단한 인사 메시지 출력하기\n",
    "print(\"환영합니다! 자신의 표준체중과 비만도를 알아보세요.\")"
   ]
  },
  {
   "cell_type": "code",
   "execution_count": null,
   "id": "fe58664d-6944-45b8-9da8-83d7fac367f7",
   "metadata": {},
   "outputs": [],
   "source": [
    "# 덧셈 함수\n",
    "def addition(a, b):\n",
    "  return a + b  # 인수의 합을 반환"
   ]
  },
  {
   "cell_type": "code",
   "execution_count": null,
   "id": "3816268e-717d-4e4e-b984-9ac7a1b9e278",
   "metadata": {},
   "outputs": [],
   "source": [
    "\"\"\"\n",
    "표준체중대비 백분율(PIBW)과 비만도 알아보기\n",
    "\"\"\""
   ]
  },
  {
   "cell_type": "markdown",
   "id": "a594da94-59fe-4df5-b91d-f119577b17fd",
   "metadata": {},
   "source": [
    "#### One-line Docstring"
   ]
  },
  {
   "cell_type": "code",
   "execution_count": null,
   "id": "5fe3cc23-fd49-493b-9e60-672deb8f29b3",
   "metadata": {},
   "outputs": [],
   "source": [
    "def square(a):\n",
    "    '''인수 a의 제곱값이 반환된다.'''\n",
    "    return a**a"
   ]
  },
  {
   "cell_type": "code",
   "execution_count": null,
   "id": "a77b00fe-77d9-47cf-a836-a5f400baac56",
   "metadata": {},
   "outputs": [],
   "source": [
    "print(square.__doc__)"
   ]
  },
  {
   "cell_type": "code",
   "execution_count": null,
   "id": "c65d94d3-3be7-40ce-91fc-de2eac4ebaab",
   "metadata": {},
   "outputs": [],
   "source": [
    "help(square)"
   ]
  },
  {
   "cell_type": "markdown",
   "id": "faf9bc8b-e6d7-40a9-8051-3bf9ff6eaf09",
   "metadata": {},
   "source": [
    "#### Multi-line Docstring"
   ]
  },
  {
   "cell_type": "code",
   "execution_count": null,
   "id": "f0fcab0b-8b2f-4136-ad9d-08431d1b656d",
   "metadata": {},
   "outputs": [],
   "source": [
    "def some_function(argument1):\n",
    "    \"\"\"함수 요약 또는 설명\n",
    "    [매개변수]:\n",
    "        argument1 (int): arg1에 대한 설명\n",
    "    [반환]:\n",
    "        int:반환값\n",
    "    \"\"\"\n",
    "    return argument1"
   ]
  },
  {
   "cell_type": "code",
   "execution_count": null,
   "id": "52767013-8c14-42d4-a404-bbf8a94556ee",
   "metadata": {},
   "outputs": [],
   "source": [
    "print (some_function.__doc__)"
   ]
  },
  {
   "cell_type": "code",
   "execution_count": null,
   "id": "bea05400-34c1-47f0-be80-841983da4d87",
   "metadata": {},
   "outputs": [],
   "source": [
    "help(some_function)"
   ]
  },
  {
   "cell_type": "code",
   "execution_count": null,
   "id": "831569f1-5bcd-4854-ace5-c9caad4bf962",
   "metadata": {},
   "outputs": [],
   "source": []
  }
 ],
 "metadata": {
  "kernelspec": {
   "display_name": "PythonClass",
   "language": "python",
   "name": "pyclass"
  },
  "language_info": {
   "codemirror_mode": {
    "name": "ipython",
    "version": 3
   },
   "file_extension": ".py",
   "mimetype": "text/x-python",
   "name": "python",
   "nbconvert_exporter": "python",
   "pygments_lexer": "ipython3",
   "version": "3.12.3"
  }
 },
 "nbformat": 4,
 "nbformat_minor": 5
}
