{
 "cells": [
  {
   "cell_type": "markdown",
   "id": "89d198f0-c5d0-480e-b7f4-ba75e3842480",
   "metadata": {},
   "source": [
    "## 변수\n",
    "#### 다시 \"Hello Python!\" 출력"
   ]
  },
  {
   "cell_type": "code",
   "execution_count": null,
   "id": "8112f278-272f-4bf1-9ff4-c4f763c00511",
   "metadata": {},
   "outputs": [],
   "source": [
    "message = \"Hello Python!\"\n",
    "print(message)"
   ]
  },
  {
   "cell_type": "code",
   "execution_count": null,
   "id": "6617460e-bcbf-467f-b0af-410f750b9939",
   "metadata": {},
   "outputs": [],
   "source": [
    "message = \"안녕하세요?\"\n",
    "print(message)"
   ]
  }
 ],
 "metadata": {
  "kernelspec": {
   "display_name": "PythonClass",
   "language": "python",
   "name": "pyclass"
  },
  "language_info": {
   "codemirror_mode": {
    "name": "ipython",
    "version": 3
   },
   "file_extension": ".py",
   "mimetype": "text/x-python",
   "name": "python",
   "nbconvert_exporter": "python",
   "pygments_lexer": "ipython3",
   "version": "3.12.3"
  }
 },
 "nbformat": 4,
 "nbformat_minor": 5
}
