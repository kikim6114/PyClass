{
 "cells": [
  {
   "cell_type": "markdown",
   "id": "a0e0b8bf-2208-431f-8d29-93cd2a92c461",
   "metadata": {},
   "source": [
    "## 숫자(Numbers)"
   ]
  },
  {
   "cell_type": "markdown",
   "id": "0f6c9eea-1506-466b-9bb8-feee6da7500b",
   "metadata": {},
   "source": [
    "#### 정수의 사칙연산"
   ]
  },
  {
   "cell_type": "code",
   "execution_count": null,
   "id": "245cc5ea-9983-41f4-bcf5-e9e1b4ad86fa",
   "metadata": {},
   "outputs": [],
   "source": [
    "3 + 2"
   ]
  },
  {
   "cell_type": "code",
   "execution_count": null,
   "id": "cffce6de-a95e-41c5-9eb8-8752b69f3aec",
   "metadata": {},
   "outputs": [],
   "source": [
    "3 - 2"
   ]
  },
  {
   "cell_type": "code",
   "execution_count": null,
   "id": "c6aa25da-a856-4757-a306-85bddb974360",
   "metadata": {},
   "outputs": [],
   "source": [
    "3 * 2"
   ]
  },
  {
   "cell_type": "code",
   "execution_count": null,
   "id": "cfb25e4d-188c-447c-ad31-1a0b4c5744e5",
   "metadata": {},
   "outputs": [],
   "source": [
    "3 / 2"
   ]
  },
  {
   "cell_type": "markdown",
   "id": "da142b2b-aa9e-4eda-baf6-407f43756e84",
   "metadata": {},
   "source": [
    "#### 거듭제곱"
   ]
  },
  {
   "cell_type": "code",
   "execution_count": null,
   "id": "8233be3b-e109-48a4-bfe8-a1bebeab8a20",
   "metadata": {},
   "outputs": [],
   "source": [
    "3**2"
   ]
  },
  {
   "cell_type": "code",
   "execution_count": null,
   "id": "7c855829-971e-468c-bc93-00c5407d18ed",
   "metadata": {},
   "outputs": [],
   "source": [
    "3**3"
   ]
  },
  {
   "cell_type": "code",
   "execution_count": null,
   "id": "5d45828a-bae9-4c06-9488-d32a429d4a38",
   "metadata": {},
   "outputs": [],
   "source": [
    "10**6"
   ]
  },
  {
   "cell_type": "markdown",
   "id": "678600cd-0771-4a7c-b73f-2dc7d8129261",
   "metadata": {},
   "source": [
    "#### 실수의 사칙연산"
   ]
  },
  {
   "cell_type": "code",
   "execution_count": null,
   "id": "5db2aa49-531d-4e55-9ab4-6f526f36a817",
   "metadata": {},
   "outputs": [],
   "source": [
    "0.1 + 0.1"
   ]
  },
  {
   "cell_type": "code",
   "execution_count": null,
   "id": "1763e5f3-e5c4-4dea-a702-48a0b63873ff",
   "metadata": {},
   "outputs": [],
   "source": [
    "0.2 - 0.1"
   ]
  },
  {
   "cell_type": "code",
   "execution_count": null,
   "id": "65961459-9427-45bf-bbc7-2c71b792edaa",
   "metadata": {},
   "outputs": [],
   "source": [
    "2 * 0.1"
   ]
  },
  {
   "cell_type": "code",
   "execution_count": null,
   "id": "03f63696-05c6-4605-af84-af835f9c6bd4",
   "metadata": {},
   "outputs": [],
   "source": [
    "1.5 / 3"
   ]
  },
  {
   "cell_type": "markdown",
   "id": "d1fe4ad4-8290-4b36-8bd8-279437b7a415",
   "metadata": {},
   "source": [
    "#### 실수 연산의 오차"
   ]
  },
  {
   "cell_type": "code",
   "execution_count": null,
   "id": "34a81721-436d-4f7f-b34b-79e366b43dae",
   "metadata": {},
   "outputs": [],
   "source": [
    "print(0.1 + 0.1)\n",
    "print(0.1 + 0.2)\n",
    "print(0.1 + 0.3)\n",
    "print(0.1 + 0.4)\n",
    "print(0.1 + 0.5)\n",
    "print(0.1 + 0.6)\n",
    "print(0.1 + 0.7)\n",
    "print(0.1 + 0.8)\n",
    "print(0.1 + 0.9)"
   ]
  },
  {
   "cell_type": "markdown",
   "id": "92292862-85d6-443d-929a-22d2bdf8413a",
   "metadata": {},
   "source": [
    "#### 정수와 실수"
   ]
  },
  {
   "cell_type": "code",
   "execution_count": null,
   "id": "352b4f3f-c929-4600-bbe9-f49985b3b32d",
   "metadata": {},
   "outputs": [],
   "source": [
    "1 / 2"
   ]
  },
  {
   "cell_type": "code",
   "execution_count": null,
   "id": "acd0c9b6-4800-43fb-ab22-6bf505c3df06",
   "metadata": {},
   "outputs": [],
   "source": [
    "2 * 3.0"
   ]
  },
  {
   "cell_type": "code",
   "execution_count": null,
   "id": "fe21defb-c411-4959-8432-189bbbfd9a3b",
   "metadata": {},
   "outputs": [],
   "source": [
    "3.0 ** 2"
   ]
  },
  {
   "cell_type": "code",
   "execution_count": null,
   "id": "144abbca-d717-465e-bb81-77bcd49ac037",
   "metadata": {},
   "outputs": [],
   "source": [
    "1/10 + 2/10"
   ]
  },
  {
   "attachments": {},
   "cell_type": "markdown",
   "id": "72e2c521-2617-4202-be7a-3903e9ea000b",
   "metadata": {},
   "source": [
    "#### 언더스코어 사용"
   ]
  },
  {
   "cell_type": "code",
   "execution_count": null,
   "id": "19b2d72e-95e0-4b62-baf4-55335a5c6f02",
   "metadata": {},
   "outputs": [],
   "source": [
    "universe_age = 14_000_000_000\n",
    "universe_age"
   ]
  },
  {
   "cell_type": "markdown",
   "id": "b0da2d39-e6c9-4a92-a123-dd13c7bc30a6",
   "metadata": {},
   "source": [
    "#### 다중 할당"
   ]
  },
  {
   "cell_type": "code",
   "execution_count": null,
   "id": "21be9542-e0da-4151-b018-deb1954c9570",
   "metadata": {},
   "outputs": [],
   "source": [
    "x, y, z = 1, 2, 3.0\n",
    "x + y + z"
   ]
  },
  {
   "cell_type": "code",
   "execution_count": null,
   "id": "58af5206-5860-45ee-9e2c-83c7916f4713",
   "metadata": {},
   "outputs": [],
   "source": [
    "(x, y, z) = (1, 2, 3.0)\n",
    "x + y + z"
   ]
  },
  {
   "cell_type": "markdown",
   "id": "84a23f66-2a66-4ab8-adf3-3a451dde3bf0",
   "metadata": {},
   "source": [
    "#### 상수(Constants)\n",
    "- 파이썬에는 상수형 자료형이 따로 있지 않다.\n",
    "- 관행적으로, 모두 대문자로 된 식별자를 사용하고, 절대 값을 변경하지 않도록 한다."
   ]
  },
  {
   "cell_type": "code",
   "execution_count": null,
   "id": "17f74f77-28e0-45f2-87ee-80b76f098f49",
   "metadata": {},
   "outputs": [],
   "source": [
    "CONSTANT = 1000\n",
    "CONSTANT = 2000\n",
    "CONSTANT"
   ]
  },
  {
   "cell_type": "markdown",
   "id": "f23a65df-9c2e-40da-92f0-8f6e3a6a3561",
   "metadata": {},
   "source": [
    "#### 연산의 우선순위"
   ]
  },
  {
   "cell_type": "code",
   "execution_count": null,
   "id": "d197b727-d372-4021-ab6e-5ff1322b3a66",
   "metadata": {},
   "outputs": [],
   "source": [
    "4//3 + 2**2"
   ]
  },
  {
   "cell_type": "code",
   "execution_count": null,
   "id": "c66d07db-9696-42ad-86b8-a2f6b2fcdb3e",
   "metadata": {},
   "outputs": [],
   "source": [
    "(1 + 2%3)**2"
   ]
  },
  {
   "cell_type": "code",
   "execution_count": null,
   "id": "7a58debf-62ea-4d17-a13b-7441a8c3e217",
   "metadata": {},
   "outputs": [],
   "source": [
    "1 + 4**2/2"
   ]
  },
  {
   "cell_type": "code",
   "execution_count": null,
   "id": "f4ebe9ba-9a53-47eb-b189-99366ba60aab",
   "metadata": {},
   "outputs": [],
   "source": [
    "1 + 4**2/2*-2"
   ]
  }
 ],
 "metadata": {
  "kernelspec": {
   "display_name": "PythonClass",
   "language": "python",
   "name": "pyclass"
  },
  "language_info": {
   "codemirror_mode": {
    "name": "ipython",
    "version": 3
   },
   "file_extension": ".py",
   "mimetype": "text/x-python",
   "name": "python",
   "nbconvert_exporter": "python",
   "pygments_lexer": "ipython3",
   "version": "3.12.3"
  }
 },
 "nbformat": 4,
 "nbformat_minor": 5
}
