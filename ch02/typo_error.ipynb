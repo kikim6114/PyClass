{
 "cells": [
  {
   "cell_type": "markdown",
   "id": "9fead230-c79d-4276-8685-0d5c38e29547",
   "metadata": {},
   "source": [
    "## 변수명 짓기\n",
    "#### 변수명 류류"
   ]
  },
  {
   "cell_type": "code",
   "execution_count": null,
   "id": "6869ef61-71e1-4534-803b-f3b69c9df9fa",
   "metadata": {},
   "outputs": [],
   "source": [
    "message = \"Hello Python!\"\n",
    "print(mesage)"
   ]
  }
 ],
 "metadata": {
  "kernelspec": {
   "display_name": "PythonClass",
   "language": "python",
   "name": "pyclass"
  },
  "language_info": {
   "codemirror_mode": {
    "name": "ipython",
    "version": 3
   },
   "file_extension": ".py",
   "mimetype": "text/x-python",
   "name": "python",
   "nbconvert_exporter": "python",
   "pygments_lexer": "ipython3",
   "version": "3.12.3"
  }
 },
 "nbformat": 4,
 "nbformat_minor": 5
}
