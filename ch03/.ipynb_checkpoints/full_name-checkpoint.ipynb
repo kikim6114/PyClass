{
 "cells": [
  {
   "cell_type": "code",
   "execution_count": null,
   "id": "c4e9a422-31cc-4d66-a75b-7b1c122f31bc",
   "metadata": {},
   "outputs": [],
   "source": [
    "first_name = \"ada\"\n",
    "last_name = \"lovelace\"\n",
    "1full_name = f\"{first_name} {last_name}\"\n",
    "print(full_name)"
   ]
  },
  {
   "cell_type": "code",
   "execution_count": null,
   "id": "d2d471af-d99b-458a-922d-fd0fdc36c1ed",
   "metadata": {},
   "outputs": [],
   "source": [
    "message = f\"Hello, {full_name.title()}!\"\n",
    "print(message)"
   ]
  },
  {
   "cell_type": "code",
   "execution_count": null,
   "id": "5e9c3bdf-308b-4c1b-b564-3c9d0b58e086",
   "metadata": {},
   "outputs": [],
   "source": [
    "pi = 3.141592\n",
    "print(f\"{chr(960)} = {pi: .2f}\")"
   ]
  }
 ],
 "metadata": {
  "kernelspec": {
   "display_name": "PythonClass",
   "language": "python",
   "name": "pyclass"
  },
  "language_info": {
   "codemirror_mode": {
    "name": "ipython",
    "version": 3
   },
   "file_extension": ".py",
   "mimetype": "text/x-python",
   "name": "python",
   "nbconvert_exporter": "python",
   "pygments_lexer": "ipython3",
   "version": "3.12.3"
  }
 },
 "nbformat": 4,
 "nbformat_minor": 5
}
