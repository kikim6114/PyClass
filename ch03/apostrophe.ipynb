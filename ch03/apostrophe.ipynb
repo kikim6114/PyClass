{
 "cells": [
  {
   "cell_type": "code",
   "execution_count": null,
   "id": "5589c849-e3de-47ef-bcc3-a5093f3b27ca",
   "metadata": {},
   "outputs": [],
   "source": [
    "message = \"영희에게 '나는 파이썬이 재밌어!' 라고 말했다.\"\n",
    "print(message)"
   ]
  },
  {
   "cell_type": "code",
   "execution_count": null,
   "id": "ea9c38c1-f496-4139-a9a9-b651f27881f8",
   "metadata": {},
   "outputs": [],
   "source": [
    "message = \"영희에게 \"나는 파이썬이 재밌어!\" 라고 말했다.\"\n",
    "print(message)"
   ]
  }
 ],
 "metadata": {
  "kernelspec": {
   "display_name": "PythonClass",
   "language": "python",
   "name": "pyclass"
  },
  "language_info": {
   "codemirror_mode": {
    "name": "ipython",
    "version": 3
   },
   "file_extension": ".py",
   "mimetype": "text/x-python",
   "name": "python",
   "nbconvert_exporter": "python",
   "pygments_lexer": "ipython3",
   "version": "3.12.3"
  }
 },
 "nbformat": 4,
 "nbformat_minor": 5
}
