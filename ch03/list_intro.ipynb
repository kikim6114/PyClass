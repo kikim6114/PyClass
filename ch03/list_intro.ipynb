{
 "cells": [
  {
   "attachments": {},
   "cell_type": "markdown",
   "id": "bc119f08-048b-45cc-aff0-144405f6bdfc",
   "metadata": {},
   "source": [
    "#### 리스트 만들기"
   ]
  },
  {
   "cell_type": "code",
   "execution_count": null,
   "id": "ca739446-8799-4235-a431-7c1b335a0539",
   "metadata": {},
   "outputs": [],
   "source": [
    "a = []\n",
    "b = [1, 2, 3, 4, 5, 6, 7, 8, 9, 10]\n",
    "c = ['Explicit', 'is', 'better', 'than', 'implicit']\n",
    "d = ['My', 'car', 2020, '현대']\n",
    "e = [2024, 'Kia', ['K7', 'AWD', 15000]]"
   ]
  },
  {
   "cell_type": "markdown",
   "id": "4aaa921f-73ec-4b8a-a449-d8770b4f26b8",
   "metadata": {},
   "source": [
    "#### 리스트 연산"
   ]
  },
  {
   "cell_type": "code",
   "execution_count": null,
   "id": "7e9a6a17-0c17-4559-9b85-8435c0643be8",
   "metadata": {},
   "outputs": [],
   "source": [
    "a = [1, 2, 3]\n",
    "b = [4, 5, 6]\n",
    "a + b"
   ]
  },
  {
   "cell_type": "code",
   "execution_count": null,
   "id": "1ff54236-9132-4f23-8f74-463038448966",
   "metadata": {},
   "outputs": [],
   "source": [
    "a = [1, 2, 3]*3\n",
    "a"
   ]
  },
  {
   "cell_type": "code",
   "execution_count": null,
   "id": "2f18d3b6-bfb0-45ba-85e3-5e46dc11b382",
   "metadata": {},
   "outputs": [],
   "source": [
    "import operator\n",
    "a =operator.iadd(1, 3);\n",
    "print (\"The result after adding : \", end=\"\")\n",
    "print(a)"
   ]
  },
  {
   "cell_type": "markdown",
   "id": "ba0adda5-6f15-4e7e-b0c2-bad32992bc42",
   "metadata": {},
   "source": [
    "#### 리스트 원소에 접근하기"
   ]
  },
  {
   "cell_type": "code",
   "execution_count": null,
   "id": "76c7b64e-9f2f-4980-90f2-e30a08e8a4ec",
   "metadata": {},
   "outputs": [],
   "source": [
    "animals = ['elephant', 'dolphin', 'kangaroo', 'penguin', 'giraffe']\n",
    "animals"
   ]
  },
  {
   "cell_type": "code",
   "execution_count": null,
   "id": "1b594bc2-15e7-4484-888b-250b4d62ba12",
   "metadata": {},
   "outputs": [],
   "source": [
    "print(f\"1번째 원소: {animals[0]}\")  # index = 0\n",
    "print(f\"4번째 원소: {animals[3]}\")  # index = 3"
   ]
  },
  {
   "cell_type": "code",
   "execution_count": null,
   "id": "f8c48e6d-bd37-4611-a104-399238e9932b",
   "metadata": {},
   "outputs": [],
   "source": [
    "print(f\"5번째 원소: {animals[5]}\")  # index = 5"
   ]
  },
  {
   "cell_type": "markdown",
   "id": "9571de4b-35e7-4a29-8a34-2e1db3b84917",
   "metadata": {},
   "source": [
    "#### 파이썬의 모든 인덱스 시작은 0"
   ]
  },
  {
   "cell_type": "code",
   "execution_count": null,
   "id": "2783e280-3698-4020-8a04-04358a1848e6",
   "metadata": {},
   "outputs": [],
   "source": [
    "print(f\"5번째 원소: {animals[4]}\")  # index = 4"
   ]
  },
  {
   "cell_type": "code",
   "execution_count": null,
   "id": "88406316-128f-4be7-83e5-2daa7398c2fa",
   "metadata": {},
   "outputs": [],
   "source": [
    "print(f\"마지막 원소: {animals[-1]}\")  # index = -1"
   ]
  },
  {
   "cell_type": "code",
   "execution_count": null,
   "id": "cf045196-efb1-44b4-80e3-8c05b2936e50",
   "metadata": {},
   "outputs": [],
   "source": [
    "print(f\"끝에서 3번째 원소: {animals[-3]}\")  # index = -3"
   ]
  },
  {
   "cell_type": "code",
   "execution_count": null,
   "id": "2d1d4bd9-7e57-4227-9900-7442b75fb1c6",
   "metadata": {},
   "outputs": [],
   "source": [
    "empty_list = []\n",
    "print(f\"마지막 원소: {empty_list[-1]}\")"
   ]
  },
  {
   "cell_type": "markdown",
   "id": "b8e88315-51af-4ee5-ac61-fea096c55b16",
   "metadata": {},
   "source": [
    "#### 리스트 개별 원소 값 사용하기"
   ]
  },
  {
   "cell_type": "code",
   "execution_count": null,
   "id": "db8d030d-44df-4c9b-9017-51e0f997dc3f",
   "metadata": {},
   "outputs": [],
   "source": [
    "animals = ['elephant', 'dolphin', 'kangaroo', 'penguin', 'giraffe']\n",
    "message = f\"My favorite animal is {animals[1].title()}.\"\n",
    "print(message)"
   ]
  },
  {
   "cell_type": "code",
   "execution_count": null,
   "id": "335c0ab0-0c2a-4311-a628-b09fb4ed1cf0",
   "metadata": {},
   "outputs": [],
   "source": [
    "numbers = [1, 2, 3, 4, 5, 6, 7, 8, 9, 10]\n",
    "print(numbers[2]+numbers[4])"
   ]
  },
  {
   "cell_type": "code",
   "execution_count": null,
   "id": "20c3765d-593b-4c61-a921-e824d8cc9618",
   "metadata": {},
   "outputs": [],
   "source": [
    "used_cars = [[2024, 'Kia', ['K7', 'AWD', 15000]],\n",
    "             [2021, 'Hyundai', ['Avante', '2WD', 34000]],\n",
    "             [2005, 'Hyundai', ['Sonata', '2WD', 250000]]\n",
    "            ]\n",
    "print(f\"My choice is {used_cars[1][2][0]}\")"
   ]
  },
  {
   "cell_type": "markdown",
   "id": "d291e364-36ce-45d9-a96f-b645d5efce85",
   "metadata": {},
   "source": [
    "## 원소의 변경, 추가 및 삭제\n",
    "#### 리스트 원소의 변경"
   ]
  },
  {
   "cell_type": "code",
   "execution_count": null,
   "id": "baa0e40b-9e6c-4823-8ecb-a9cac2e324ab",
   "metadata": {},
   "outputs": [],
   "source": [
    "animals = ['elephant', 'dolphin', 'kangaroo', 'penguin', 'giraffe']\n",
    "print(animals)\n",
    "animals[0] = 'crocodile'\n",
    "print(animals)"
   ]
  },
  {
   "cell_type": "markdown",
   "id": "981be2d5-c854-4519-9b14-e2c848175059",
   "metadata": {},
   "source": [
    "#### 원소 추가\n",
    "##### 리스트 끝에 추가하기"
   ]
  },
  {
   "cell_type": "code",
   "execution_count": null,
   "id": "302ee6ba-dd77-4f5e-827e-6a9766adc0da",
   "metadata": {},
   "outputs": [],
   "source": [
    "flowers = ['rose', 'tulip', 'lily']\n",
    "print(flowers)\n",
    "flowers.append('daffodil')\n",
    "print(flowers)"
   ]
  },
  {
   "cell_type": "code",
   "execution_count": null,
   "id": "78b0c059-86d4-49e0-abe2-ac1c63abcb17",
   "metadata": {},
   "outputs": [],
   "source": [
    "flowers = []\n",
    "print(flowers)\n",
    "flowers.append('lily')\n",
    "flowers.append('tulip')\n",
    "flowers.append('rose')\n",
    "print(flowers)"
   ]
  },
  {
   "cell_type": "markdown",
   "id": "f973098f-2b18-47bf-b202-77793b0d9837",
   "metadata": {},
   "source": [
    "##### 리스트에 삽입하기"
   ]
  },
  {
   "cell_type": "code",
   "execution_count": null,
   "id": "b9a03de8-e73b-4133-9d3c-383fa110a11c",
   "metadata": {},
   "outputs": [],
   "source": [
    "flowers = ['rose', 'tulip', 'lily']\n",
    "print(flowers)\n",
    "flowers.insert(0, 'daffodil')\n",
    "print(flowers)"
   ]
  },
  {
   "cell_type": "code",
   "execution_count": null,
   "id": "f10a1f8f-93ce-44a4-b0b8-4ba1d496cc9a",
   "metadata": {},
   "outputs": [],
   "source": [
    "next(flowers)"
   ]
  },
  {
   "cell_type": "markdown",
   "id": "c27488b2-ed9e-4314-98b0-1bd42664d1c9",
   "metadata": {},
   "source": [
    "#### 리스트 원소의 삭제\n",
    "##### del 문으로 삭제하기"
   ]
  },
  {
   "cell_type": "code",
   "execution_count": null,
   "id": "0bc97120-3aa0-4190-80cb-45844852f122",
   "metadata": {},
   "outputs": [],
   "source": [
    "flowers = ['daffodil', 'rose', 'tulip', 'lily']\n",
    "print(flowers)\n",
    "del flowers[1]\n",
    "print(flowers)"
   ]
  },
  {
   "cell_type": "markdown",
   "id": "b4ff20d8-7ccb-4d02-a31e-19fb8ed34fec",
   "metadata": {},
   "source": [
    "##### del 문은 모든 객체를 완전히 삭제한다."
   ]
  },
  {
   "cell_type": "code",
   "execution_count": null,
   "id": "b13f48f4-9b9d-4b7a-907c-b7f20ece98ad",
   "metadata": {},
   "outputs": [],
   "source": [
    "del flowers\n",
    "print(flowers)"
   ]
  },
  {
   "cell_type": "markdown",
   "id": "d7d1c58c-55e2-432b-82f7-0a5327e7499b",
   "metadata": {},
   "source": [
    "##### pop() 메서드로 삭제하기"
   ]
  },
  {
   "cell_type": "code",
   "execution_count": null,
   "id": "1e815e10-8115-4bb3-8d55-74fbd4a69be0",
   "metadata": {},
   "outputs": [],
   "source": [
    "flowers = ['daffodil', 'rose', 'tulip', 'lily']\n",
    "print(flowers)\n",
    "popped_flowers = flowers.pop()\n",
    "print(flowers)\n",
    "print(popped_flowers)"
   ]
  },
  {
   "cell_type": "code",
   "execution_count": null,
   "id": "69dabedc-a3d9-4279-907b-12fdafa9a8ca",
   "metadata": {},
   "outputs": [],
   "source": [
    "popped_flowers = flowers.pop()\n",
    "print(popped_flowers)\n",
    "popped_flowers = flowers.pop()\n",
    "print(popped_flowers)"
   ]
  },
  {
   "cell_type": "markdown",
   "id": "3c80f9bf-8a7c-49c6-bab3-306589cbf1e1",
   "metadata": {},
   "source": [
    "##### pop() 와 append()의 응용"
   ]
  },
  {
   "cell_type": "code",
   "execution_count": null,
   "id": "100064aa-a43b-4e72-9524-8616c37bef39",
   "metadata": {},
   "outputs": [],
   "source": [
    "flowers = [['daffodil', 100], ['rose', 150], ['tulip', 170], ['lily', 90]]\n",
    "popped_flowers = flowers.pop()\n",
    "print(f\"{popped_flowers[0]}이(가) {popped_flowers[1]}원에 팔렸습니다.\")\n",
    "popped_flowers = flowers.pop()\n",
    "print(f\"{popped_flowers[0]}이(가) {popped_flowers[1]}원에 팔렸습니다.\")\n",
    "stocked_flower = ['sunflower', 120]\n",
    "flowers.append(stocked_flower)\n",
    "print(f\"{stocked_flower[0]}이(가) {stocked_flower[1]}에 입고되었습니다.\")\n",
    "popped_flowers = flowers.pop()\n",
    "print(f\"{popped_flowers[0]}이(가) {popped_flowers[1]}원에 팔렸습니다.\")\n",
    "print(f\"현재 재고는 {flowers} 입니다.\")"
   ]
  },
  {
   "cell_type": "markdown",
   "id": "1af30b37-6a0d-4959-b74f-395cebb12954",
   "metadata": {},
   "source": [
    "##### 리스트 특정 위치에서 pop() 하기"
   ]
  },
  {
   "cell_type": "code",
   "execution_count": null,
   "id": "845d68cb-377b-42cd-8be3-b3cdb78d6bc1",
   "metadata": {},
   "outputs": [],
   "source": [
    "flowers = ['daffodil', 'rose', 'tulip', 'lily']\n",
    "favorite_flower = flowers.pop(0)\n",
    "print(favorite_flower)"
   ]
  },
  {
   "cell_type": "markdown",
   "id": "dea22d8d-f753-420b-b823-9cc2391da781",
   "metadata": {},
   "source": [
    "##### 원소 값으로 삭제하기"
   ]
  },
  {
   "cell_type": "code",
   "execution_count": null,
   "id": "3405a40f-0bb6-4b17-87fd-caced437893e",
   "metadata": {},
   "outputs": [],
   "source": [
    "flowers = ['daffodil', 'rose', 'tulip', 'lily']\n",
    "print(flowers)\n",
    "flowers.remove('daffodil')\n",
    "print(flowers)"
   ]
  },
  {
   "cell_type": "markdown",
   "id": "ae6db708-c8a5-4196-873a-5d90795d657c",
   "metadata": {},
   "source": [
    "## 리스트 정리하기\n",
    "#### 리스트 정렬하기"
   ]
  },
  {
   "cell_type": "markdown",
   "id": "ef22f749-2fbd-486f-9861-c0844149cde5",
   "metadata": {},
   "source": [
    "##### sort() 메서드: 영구히 정렬"
   ]
  },
  {
   "cell_type": "code",
   "execution_count": null,
   "id": "829ff951-ae4d-419a-a3ed-584f1d5dfdbd",
   "metadata": {},
   "outputs": [],
   "source": [
    "animals = ['elephant', 'dolphin', 'kangaroo', 'penguin', 'giraffe']\n",
    "animals.sort()\n",
    "print(animals)"
   ]
  },
  {
   "cell_type": "code",
   "execution_count": null,
   "id": "3cd27ea1-8301-4d23-84d2-bdbaea478d81",
   "metadata": {},
   "outputs": [],
   "source": [
    "animals.sort(reverse=True)\n",
    "print(animals)"
   ]
  },
  {
   "cell_type": "code",
   "execution_count": null,
   "id": "a38d080b-3653-47f0-98bb-f5e11cc599cd",
   "metadata": {},
   "outputs": [],
   "source": [
    "animals.reverse()\n",
    "print(animals)"
   ]
  },
  {
   "cell_type": "markdown",
   "id": "a3de225b-9200-41da-8386-a977c647b072",
   "metadata": {},
   "source": [
    "##### sorted() 함수: 임시로 정렬"
   ]
  },
  {
   "cell_type": "code",
   "execution_count": null,
   "id": "25672ce2-eebd-490d-9563-e8b098f02089",
   "metadata": {},
   "outputs": [],
   "source": [
    "animals = ['elephant', 'dolphin', 'kangaroo', 'penguin', 'giraffe']\n",
    "print(\"원래의 리스트: \", animals)\n",
    "print(\"정렬된 리스트: \", sorted(animals))\n",
    "print(\"원래의 리스트: \", animals)"
   ]
  },
  {
   "cell_type": "code",
   "execution_count": null,
   "id": "8a6f1c6c-21b4-49ce-8c1a-11319498d3b6",
   "metadata": {},
   "outputs": [],
   "source": [
    "animals = ['elephant', 'dolphin', 'kangaroo', 'penguin', 'giraffe']\n",
    "animals.reverse()\n",
    "print(animals)"
   ]
  },
  {
   "cell_type": "code",
   "execution_count": null,
   "id": "f09aa0c8-1da9-4b9d-82ef-9ac85664eeb2",
   "metadata": {},
   "outputs": [],
   "source": [
    "animals = ['elephant', 'dolphin', 'kangaroo', 'penguin', 'giraffe']\n",
    "print(\"원래의 리스트: \", animals)\n",
    "print(\"정렬된 리스트: \", sorted(animals, reverse=True))\n",
    "print(\"원래의 리스트: \", animals)"
   ]
  },
  {
   "cell_type": "markdown",
   "id": "1420c95a-1e76-4c57-a8e1-875f543a3bc4",
   "metadata": {},
   "source": [
    "#### 기타 리스트 메서드들"
   ]
  },
  {
   "cell_type": "markdown",
   "id": "fd420132-b38b-4555-b75a-7ecc6f0df3a2",
   "metadata": {},
   "source": [
    "##### clear()"
   ]
  },
  {
   "cell_type": "code",
   "execution_count": null,
   "id": "83f56d42-66e2-4746-aecc-7f2d8018c783",
   "metadata": {},
   "outputs": [],
   "source": [
    "animals = ['elephant', 'dolphin', 'kangaroo', 'penguin', 'giraffe']\n",
    "animals.clear()\n",
    "print(animals)"
   ]
  },
  {
   "cell_type": "code",
   "execution_count": null,
   "id": "86965985-4e8c-4e70-a03f-d4e393a7974f",
   "metadata": {},
   "outputs": [],
   "source": [
    "animals = ['elephant', 'dolphin', 'kangaroo', 'penguin', 'giraffe']\n",
    "animals = []\n",
    "print(animals)"
   ]
  },
  {
   "cell_type": "markdown",
   "id": "f64fc84e-ccb9-42b2-a8fb-fb3b6d6c4f05",
   "metadata": {},
   "source": [
    "##### copy()"
   ]
  },
  {
   "cell_type": "code",
   "execution_count": null,
   "id": "d237f9d8-93f7-437a-b12c-79fabe31c2fd",
   "metadata": {},
   "outputs": [],
   "source": [
    "animals = ['elephant', 'dolphin', 'kangaroo', 'penguin', 'giraffe']\n",
    "copied_animals = animals.copy()\n",
    "print(copied_animals)"
   ]
  },
  {
   "cell_type": "code",
   "execution_count": null,
   "id": "0818e0ac-f55d-4a5a-979c-9af6ebad3892",
   "metadata": {},
   "outputs": [],
   "source": [
    "animals = ['elephant', 'dolphin', 'kangaroo', 'penguin', 'giraffe']\n",
    "copied_animals = animals.copy()\n",
    "dual_animals = animals\n",
    "dual_animals.sort()\n",
    "print(copied_animals)\n",
    "print(dual_animals)\n",
    "print(animals)"
   ]
  },
  {
   "cell_type": "markdown",
   "id": "f26f8595-4742-4df1-841a-347fd39aeb3c",
   "metadata": {},
   "source": [
    "##### count()"
   ]
  },
  {
   "cell_type": "code",
   "execution_count": null,
   "id": "4322d657-2c83-4a8c-8c7e-202e73b64181",
   "metadata": {},
   "outputs": [],
   "source": [
    "animals = ['dolphin', 'dolphin', 'kangaroo', 'penguin', 'giraffe']\n",
    "print(animals.count('dolphin'))"
   ]
  },
  {
   "cell_type": "markdown",
   "id": "ff698869-39ce-41f3-b92b-2e58ce97e994",
   "metadata": {},
   "source": [
    "##### extend()"
   ]
  },
  {
   "cell_type": "code",
   "execution_count": null,
   "id": "ce19e45d-d42a-4f0b-bf19-05a74f1c31cf",
   "metadata": {},
   "outputs": [],
   "source": [
    "animals = ['elephant', 'dolphin', 'kangaroo', 'penguin', 'giraffe']\n",
    "new_animals = ['lion', 'monkey']\n",
    "animals.extend(new_animals)\n",
    "print(animals)"
   ]
  },
  {
   "cell_type": "markdown",
   "id": "4302de11-2a1d-490a-8d52-7f2edfc934fe",
   "metadata": {},
   "source": [
    "##### index()"
   ]
  },
  {
   "cell_type": "code",
   "execution_count": null,
   "id": "fa4e36f1-7a3e-428b-9fe5-47be6f6c4bc5",
   "metadata": {},
   "outputs": [],
   "source": [
    "animals = ['elephant', 'dolphin', 'kangaroo', 'penguin', 'giraffe']\n",
    "idx = animals.index('dolphin')\n",
    "print(idx)"
   ]
  },
  {
   "cell_type": "code",
   "execution_count": null,
   "id": "14912d93-13f8-40cc-b436-6166a4fd7dd4",
   "metadata": {},
   "outputs": [],
   "source": []
  }
 ],
 "metadata": {
  "kernelspec": {
   "display_name": "PythonClass",
   "language": "python",
   "name": "pyclass"
  },
  "language_info": {
   "codemirror_mode": {
    "name": "ipython",
    "version": 3
   },
   "file_extension": ".py",
   "mimetype": "text/x-python",
   "name": "python",
   "nbconvert_exporter": "python",
   "pygments_lexer": "ipython3",
   "version": "3.12.9"
  }
 },
 "nbformat": 4,
 "nbformat_minor": 5
}
