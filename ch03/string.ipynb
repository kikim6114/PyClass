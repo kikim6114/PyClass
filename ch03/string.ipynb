{
 "cells": [
  {
   "attachments": {},
   "cell_type": "markdown",
   "id": "11b07009-d7ec-40e6-b9bf-dfe8b363665e",
   "metadata": {},
   "source": [
    "## 문자열 다루기\n",
    "#### 메서드를 사용해 대소문자 바꾸기"
   ]
  },
  {
   "cell_type": "code",
   "execution_count": null,
   "id": "81c822f8-cc96-46a5-98f6-d504449504a4",
   "metadata": {},
   "outputs": [],
   "source": [
    "name = \"ada lovelace\"\n",
    "print(name.title())"
   ]
  },
  {
   "cell_type": "markdown",
   "id": "ba8ae43c-4d36-4683-84f6-a697301ac706",
   "metadata": {},
   "source": [
    "#### `upper()`, `lower()`: 소문자 ⟷ 대문자\n"
   ]
  },
  {
   "cell_type": "code",
   "execution_count": null,
   "id": "db1b9ec0-c292-460e-b972-403a9c890c0a",
   "metadata": {},
   "outputs": [],
   "source": [
    "name = \"Ada Lovelace\"\n",
    "print(name.upper())\n",
    "print(name.lower())"
   ]
  },
  {
   "attachments": {},
   "cell_type": "markdown",
   "id": "dea30441-1e36-4d45-8064-1db02aaec0ac",
   "metadata": {},
   "source": [
    "#### 문자열에서 변수 사용하기"
   ]
  },
  {
   "cell_type": "code",
   "execution_count": null,
   "id": "21c520c1-dce0-4039-9acd-3f54ed6e0aec",
   "metadata": {},
   "outputs": [],
   "source": [
    "first_name = \"ada\"\n",
    "last_name = \"lovelace\"\n",
    "full_name = f\"{first_name} {last_name}\"\n",
    "print(full_name)"
   ]
  },
  {
   "cell_type": "markdown",
   "id": "4baf26c8-2021-490b-bbaf-f0cb7ab32f04",
   "metadata": {},
   "source": [
    "#### f-string 사용하기\n",
    "##### full_name을 사용해 인사말 출력"
   ]
  },
  {
   "cell_type": "code",
   "execution_count": null,
   "id": "860e8929-64a0-4448-a98c-e25092cc1231",
   "metadata": {},
   "outputs": [],
   "source": [
    "message = f\"Hello, {full_name.title()}!\"\n",
    "print(message)"
   ]
  },
  {
   "cell_type": "markdown",
   "id": "c65b644f-000b-4a87-a15e-3be8f07e399b",
   "metadata": {},
   "source": [
    "##### 실수 𝜋 를 소수점 2자리까지 출력"
   ]
  },
  {
   "cell_type": "code",
   "execution_count": null,
   "id": "7b7e64fd-7bee-42ae-a829-40beb32fd318",
   "metadata": {},
   "outputs": [],
   "source": [
    "pi = 3.141592\n",
    "print(f\"{chr(960)} = {pi: .2f}\")"
   ]
  },
  {
   "cell_type": "markdown",
   "id": "151b223d-895e-445c-bf89-56cadc12c847",
   "metadata": {},
   "source": [
    "#### 문자열에 whitespace 추가하기"
   ]
  },
  {
   "cell_type": "code",
   "execution_count": null,
   "id": "2fc16fae-5ba2-414b-9d36-cbfe409925e2",
   "metadata": {},
   "outputs": [],
   "source": [
    "print(\"Python\")\n",
    "print(\"\\tPython\")"
   ]
  },
  {
   "cell_type": "code",
   "execution_count": null,
   "id": "ddbc651d-82f1-49b9-887d-2fe4de749d7d",
   "metadata": {},
   "outputs": [],
   "source": [
    "print(\"프로그래밍 언어: \\n\\tPython\\n\\tC++\\n\\tJavaScript\")"
   ]
  },
  {
   "cell_type": "markdown",
   "id": "c9fc10af-8fb7-40ae-80f6-d6477f33ae60",
   "metadata": {},
   "source": [
    "#### 화이트스페이스 제거하기"
   ]
  },
  {
   "cell_type": "code",
   "execution_count": null,
   "id": "13bda42b-7a19-496d-a820-cb70c47c788a",
   "metadata": {},
   "outputs": [],
   "source": [
    "favorite_language = 'python '\n",
    "print(favorite_language)\n",
    "favorite_language"
   ]
  },
  {
   "cell_type": "code",
   "execution_count": null,
   "id": "84d201c7-c49a-456c-a940-e364ac6c2d06",
   "metadata": {},
   "outputs": [],
   "source": [
    "favorite_language.rstrip(), favorite_language"
   ]
  },
  {
   "cell_type": "code",
   "execution_count": null,
   "id": "c65f8dcc-d254-4ac1-bcaf-771d555700f1",
   "metadata": {},
   "outputs": [],
   "source": [
    "favorite_language = ' py thon '\n",
    "favorite_language.rstrip(), favorite_language.lstrip(), favorite_language.strip()"
   ]
  },
  {
   "cell_type": "markdown",
   "id": "95c5a92f-a4b8-430f-9c7b-03f2cbdc83c5",
   "metadata": {},
   "source": [
    "#### 문자열의 앞 또는 뒤 일부 제거  "
   ]
  },
  {
   "cell_type": "code",
   "execution_count": null,
   "id": "2c9eac67-48b1-485e-81f1-84c85635fde5",
   "metadata": {},
   "outputs": [],
   "source": [
    "khcu_url = 'https://www.khcu.ac.kr/main/index.do'\n",
    "khcu_url.removeprefix('https://')"
   ]
  },
  {
   "cell_type": "code",
   "execution_count": null,
   "id": "fb8b417b-dfc5-4b4c-b0cd-d8deae85f775",
   "metadata": {},
   "outputs": [],
   "source": [
    "khcu_url.removesuffix('/main/index.do')"
   ]
  },
  {
   "cell_type": "code",
   "execution_count": null,
   "id": "13122bfb-c639-4486-85da-1820624d6341",
   "metadata": {},
   "outputs": [],
   "source": [
    "khcu_url.removeprefix('https://').removesuffix('/main/index.do')"
   ]
  },
  {
   "cell_type": "code",
   "execution_count": null,
   "id": "e68319d7-589a-4185-9569-1e443603e13e",
   "metadata": {},
   "outputs": [],
   "source": [
    "khcu_url_simple = khcu_url.removeprefix('https://').removesuffix('/main/index.do')\n",
    "khcu_url_simple"
   ]
  }
 ],
 "metadata": {
  "kernelspec": {
   "display_name": "PythonClass",
   "language": "python",
   "name": "pyclass"
  },
  "language_info": {
   "codemirror_mode": {
    "name": "ipython",
    "version": 3
   },
   "file_extension": ".py",
   "mimetype": "text/x-python",
   "name": "python",
   "nbconvert_exporter": "python",
   "pygments_lexer": "ipython3",
   "version": "3.12.3"
  }
 },
 "nbformat": 4,
 "nbformat_minor": 5
}
