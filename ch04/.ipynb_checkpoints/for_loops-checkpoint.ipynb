{
 "cells": [
  {
   "cell_type": "markdown",
   "id": "28225662-3611-40d6-ba31-d06ccf5ba5fc",
   "metadata": {},
   "source": [
    "#### 기본적인 `for` 루프"
   ]
  },
  {
   "cell_type": "code",
   "execution_count": null,
   "id": "a2a7a2a4-9e30-426c-b382-00c80ea9cb68",
   "metadata": {},
   "outputs": [],
   "source": [
    "flowers = ['rose', 'tulip', 'lily']\n",
    "for flower in flowers:\n",
    "    print(flower)\n",
    "print(\"Good job!\")"
   ]
  },
  {
   "cell_type": "markdown",
   "id": "60ea158b-b2ba-442a-a6b2-1b4865355bd4",
   "metadata": {},
   "source": [
    "#### Iterable"
   ]
  },
  {
   "cell_type": "code",
   "execution_count": 1,
   "id": "afd35ddf-7bac-460b-8901-9458a687f8c0",
   "metadata": {},
   "outputs": [
    {
     "name": "stdout",
     "output_type": "stream",
     "text": [
      "rose\n",
      "tulip\n",
      "lily\n"
     ]
    }
   ],
   "source": [
    "flowers = ['rose', 'tulip', 'lily']\n",
    "my_iter = iter(flowers)\n",
    "print(next(my_iter))\n",
    "print(next(my_iter))\n",
    "print(next(my_iter))"
   ]
  },
  {
   "attachments": {},
   "cell_type": "markdown",
   "id": "2ac5f84e-3f17-46f3-945e-2cf3c2929878",
   "metadata": {},
   "source": [
    "#### `for` 루프에서 더 많은 일을 할 수 있다\n"
   ]
  },
  {
   "cell_type": "code",
   "execution_count": null,
   "id": "6a338bcf-17ec-4a97-b44f-3a572dace982",
   "metadata": {},
   "outputs": [],
   "source": [
    "cities = [['Seoul', 13, 9.96], \n",
    "          ['London', 11, 9.05], \n",
    "          ['Paris', 12, 10.90]]\n",
    "\n",
    "for city in cities:\n",
    "    print(city)"
   ]
  },
  {
   "cell_type": "markdown",
   "id": "67bda9ea-953e-4b87-8a1f-bdadfeda382f",
   "metadata": {},
   "source": [
    "#### 조금 더"
   ]
  },
  {
   "cell_type": "code",
   "execution_count": null,
   "id": "8cdbefce-8865-4510-8ea1-1c420f666242",
   "metadata": {
    "scrolled": true
   },
   "outputs": [],
   "source": [
    "for city in cities:\n",
    "    print(f\"{city[0]}의 연평균기온은 {city[1]}{chr(176)}C 입니다.\")\n",
    "    print(f\"       화씨로는 {city[1]*1.8+32: .1f}{chr(176)}F 입니다.\")"
   ]
  },
  {
   "cell_type": "markdown",
   "id": "c33182b9-1cd9-4868-b39a-79a651c00f8d",
   "metadata": {},
   "source": [
    "#### `for` 루프 앞뒤에서 할 일이 있는 경우"
   ]
  },
  {
   "cell_type": "code",
   "execution_count": null,
   "id": "04ea12f0-346e-429e-b7fd-ede5f6d31021",
   "metadata": {},
   "outputs": [],
   "source": [
    "cities = [['Seoul', 13, 9.96], ['London1', 11, 9.05], ['Paris', 12, 10.90]]\n",
    "total_temp = 0\n",
    "total_pop = 0\n",
    "\n",
    "for city in cities:\n",
    "    total_temp += city[1]\n",
    "    total_pop += city[2]\n",
    "\n",
    "average_temp = total_temp/len(cities)\n",
    "print(f\"Average temperature of {len(cities)} cities is {total_temp/len(cities): .1f}{chr(176)}C.\")\n",
    "print(f\"Total of populations for {len(cities)} cities are {total_pop: .1f} millions.\")"
   ]
  },
  {
   "cell_type": "markdown",
   "id": "89228467-87e1-4258-9e78-5b51f9ee5f3b",
   "metadata": {},
   "source": [
    "#### 중첩 `for` 루프와 들여쓰기"
   ]
  },
  {
   "cell_type": "code",
   "execution_count": null,
   "id": "8c29a412-998a-4d07-8b57-9f850dba25be",
   "metadata": {},
   "outputs": [],
   "source": [
    "scores = [[4, 5, 14, 8], [3, 12, 3, 9], [11, 7, 19, 1]]\n",
    "max_score = 0\n",
    "for grp in scores:\n",
    "    for s in grp:\n",
    "        if s > max_score:\n",
    "            max_score = s\n",
    "print(max_score)"
   ]
  }
 ],
 "metadata": {
  "kernelspec": {
   "display_name": "PythonClass",
   "language": "python",
   "name": "pyclass"
  },
  "language_info": {
   "codemirror_mode": {
    "name": "ipython",
    "version": 3
   },
   "file_extension": ".py",
   "mimetype": "text/x-python",
   "name": "python",
   "nbconvert_exporter": "python",
   "pygments_lexer": "ipython3",
   "version": "3.12.3"
  }
 },
 "nbformat": 4,
 "nbformat_minor": 5
}
