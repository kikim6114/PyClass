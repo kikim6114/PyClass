{
 "cells": [
  {
   "cell_type": "code",
   "execution_count": 1,
   "id": "9bb6440b-89c0-4a73-9635-ae0d073d44c7",
   "metadata": {},
   "outputs": [
    {
     "data": {
      "text/plain": [
       "['mon', 'tues', 'wed']"
      ]
     },
     "execution_count": 1,
     "metadata": {},
     "output_type": "execute_result"
    }
   ],
   "source": [
    "weekdays = ['mon', 'tues', 'wed', 'thurs', 'fri']\n",
    "weekdays[0:3]"
   ]
  },
  {
   "cell_type": "code",
   "execution_count": 3,
   "id": "cc313c41-5fd7-4345-a0e2-fdb0237b76e2",
   "metadata": {},
   "outputs": [
    {
     "data": {
      "text/plain": [
       "['tues', 'wed', 'thurs']"
      ]
     },
     "execution_count": 3,
     "metadata": {},
     "output_type": "execute_result"
    }
   ],
   "source": [
    "weekdays[1:4]"
   ]
  },
  {
   "cell_type": "code",
   "execution_count": 4,
   "id": "c85ed0b5-5f67-4600-a395-5a095723f020",
   "metadata": {},
   "outputs": [
    {
     "data": {
      "text/plain": [
       "['mon', 'tues', 'wed', 'thurs']"
      ]
     },
     "execution_count": 4,
     "metadata": {},
     "output_type": "execute_result"
    }
   ],
   "source": [
    "weekdays[:4]"
   ]
  },
  {
   "cell_type": "code",
   "execution_count": 5,
   "id": "0403867e-0c3f-4687-b864-44d439e62891",
   "metadata": {},
   "outputs": [
    {
     "data": {
      "text/plain": [
       "['wed', 'thurs', 'fri']"
      ]
     },
     "execution_count": 5,
     "metadata": {},
     "output_type": "execute_result"
    }
   ],
   "source": [
    "weekdays[2:]"
   ]
  },
  {
   "cell_type": "code",
   "execution_count": 6,
   "id": "b06a2ed2-e7d9-4a93-a262-220539b88d3d",
   "metadata": {},
   "outputs": [
    {
     "data": {
      "text/plain": [
       "['thurs', 'fri']"
      ]
     },
     "execution_count": 6,
     "metadata": {},
     "output_type": "execute_result"
    }
   ],
   "source": [
    "weekdays[-2:]"
   ]
  },
  {
   "cell_type": "code",
   "execution_count": 7,
   "id": "dfcd3eb3-ea08-479e-941d-bdb35ce9f4f7",
   "metadata": {},
   "outputs": [
    {
     "data": {
      "text/plain": [
       "['mon', 'wed', 'fri']"
      ]
     },
     "execution_count": 7,
     "metadata": {},
     "output_type": "execute_result"
    }
   ],
   "source": [
    "weekdays[::2]"
   ]
  },
  {
   "cell_type": "code",
   "execution_count": 8,
   "id": "d70cd662-a9ee-49a8-88eb-050937cf8c08",
   "metadata": {},
   "outputs": [
    {
     "data": {
      "text/plain": [
       "['fri', 'thurs', 'wed', 'tues', 'mon']"
      ]
     },
     "execution_count": 8,
     "metadata": {},
     "output_type": "execute_result"
    }
   ],
   "source": [
    "weekdays[::-1]"
   ]
  },
  {
   "cell_type": "code",
   "execution_count": 9,
   "id": "1f17d770-f9b3-42b8-8686-40e431a98dd5",
   "metadata": {},
   "outputs": [
    {
     "data": {
      "text/plain": [
       "['fri', 'thurs', 'wed', 'tues', 'mon']"
      ]
     },
     "execution_count": 9,
     "metadata": {},
     "output_type": "execute_result"
    }
   ],
   "source": [
    "list(reversed(weekdays))"
   ]
  },
  {
   "cell_type": "code",
   "execution_count": 10,
   "id": "ecf87ec8-ee8a-4930-8816-09cf35ae6b68",
   "metadata": {},
   "outputs": [
    {
     "data": {
      "text/plain": [
       "['mon', 'tues', 'wed', 'thurs', 'fri']"
      ]
     },
     "execution_count": 10,
     "metadata": {},
     "output_type": "execute_result"
    }
   ],
   "source": [
    "weekdays"
   ]
  },
  {
   "cell_type": "markdown",
   "id": "ad7fc47f-5c7d-42c2-bb47-38ec635eec65",
   "metadata": {},
   "source": [
    "#### 슬라이스에서 `for` 루프"
   ]
  },
  {
   "cell_type": "code",
   "execution_count": 13,
   "id": "1f98faba-a438-4544-a27c-678c0ebd13af",
   "metadata": {},
   "outputs": [
    {
     "name": "stdout",
     "output_type": "stream",
     "text": [
      "The first three weekdays are:\n",
      "Mon\n",
      "Tues\n",
      "Wed\n"
     ]
    }
   ],
   "source": [
    "weekdays = ['mon', 'tues', 'wed', 'thurs', 'fri']\n",
    "\n",
    "print(\"The first three weekdays are:\")\n",
    "for day in weekdays[:3]:\n",
    "    print(day.title())"
   ]
  },
  {
   "cell_type": "markdown",
   "id": "7022ec5a-201b-4c36-babc-0e671f73cfde",
   "metadata": {},
   "source": [
    "#### 슬라이스 복제"
   ]
  },
  {
   "cell_type": "code",
   "execution_count": 34,
   "id": "59afd01d-35ca-4e1e-9085-d1186122963b",
   "metadata": {},
   "outputs": [],
   "source": [
    "flowers = ['daffodil', 'rose', 'tulip', 'lily']\n",
    "original_flowers = flowers.copy()  # copy() 메서드로 안전하게 복사본을 저장해두자. \n",
    "\n",
    "naive_copy = flowers\n",
    "copied_by_copy = flowers.copy()\n",
    "copied_by_slicing = flowers[:]\n",
    "\n",
    "naive_copy.append('violet')\n",
    "copied_by_copy.pop()\n",
    "copied_by_slicing.append('daisy')"
   ]
  },
  {
   "cell_type": "code",
   "execution_count": 46,
   "id": "2c52bd85-04b1-4870-9ff0-7688f7d0c44b",
   "metadata": {},
   "outputs": [
    {
     "name": "stdout",
     "output_type": "stream",
     "text": [
      "stored original list :               ['daffodil', 'rose', 'tulip', 'lily']\n",
      "original list after copy :           ['daffodil', 'rose', 'tulip', 'lily', 'violet']\n",
      "naive_copy & append violet :         ['daffodil', 'rose', 'tulip', 'lily', 'violet']\n",
      "copied_by_copy & pop() :             ['daffodil', 'rose', 'tulip']\n",
      "copied_by_slicing & append daisy :   ['daffodil', 'rose', 'tulip', 'lily', 'daisy']\n"
     ]
    }
   ],
   "source": [
    "print(f\"{'stored original list :':<37}{original_flowers}\")\n",
    "print(f\"{'original list after copy :':<37}{flowers}\")\n",
    "print(f\"{'naive_copy & append violet :':<37}{naive_copy}\")\n",
    "print(f\"{'copied_by_copy & pop() :':<37}{copied_by_copy}\")\n",
    "print(f\"{'copied_by_slicing & append daisy :':<37}{copied_by_slicing}\")"
   ]
  },
  {
   "cell_type": "code",
   "execution_count": null,
   "id": "0eb43421-515c-4a98-9df7-834387fb0f88",
   "metadata": {},
   "outputs": [],
   "source": []
  }
 ],
 "metadata": {
  "kernelspec": {
   "display_name": "PythonClass",
   "language": "python",
   "name": "pyclass"
  },
  "language_info": {
   "codemirror_mode": {
    "name": "ipython",
    "version": 3
   },
   "file_extension": ".py",
   "mimetype": "text/x-python",
   "name": "python",
   "nbconvert_exporter": "python",
   "pygments_lexer": "ipython3",
   "version": "3.12.3"
  }
 },
 "nbformat": 4,
 "nbformat_minor": 5
}
