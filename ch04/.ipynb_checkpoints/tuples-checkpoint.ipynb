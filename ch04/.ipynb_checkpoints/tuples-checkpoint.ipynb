{
 "cells": [
  {
   "cell_type": "markdown",
   "id": "3acb28ac-fca3-4872-af4c-1486ca7594c2",
   "metadata": {},
   "source": [
    "#### 튜플 만들기"
   ]
  },
  {
   "cell_type": "code",
   "execution_count": null,
   "id": "7b1e4354-3476-448f-a55a-d900dd0038e1",
   "metadata": {},
   "outputs": [],
   "source": [
    "dimension = (1024, 768, 'RGB')\n",
    "print(dimension)\n",
    "print(dimension[0])\n",
    "print(dimension[1])"
   ]
  },
  {
   "cell_type": "markdown",
   "id": "b4744ed0-f2a9-404b-8f94-c586bfbdb264",
   "metadata": {},
   "source": [
    "#### 튜플은 불변형이다"
   ]
  },
  {
   "cell_type": "code",
   "execution_count": null,
   "id": "7bd0f7f2-e7b0-478d-b3f1-a23382f5739a",
   "metadata": {},
   "outputs": [],
   "source": [
    "dimension[0] = 1920"
   ]
  },
  {
   "cell_type": "markdown",
   "id": "476c0de4-1ee7-4665-8d07-5220dad0153e",
   "metadata": {},
   "source": [
    "#### `tuple()` 사용하여 튜플 만들기"
   ]
  },
  {
   "cell_type": "code",
   "execution_count": null,
   "id": "16242455-8cc1-4271-b42a-293312781dcc",
   "metadata": {},
   "outputs": [],
   "source": [
    "flowers = tuple(['rose', 'tulip', 'lily'])  # reate a tuple from a list\n",
    "flowers"
   ]
  },
  {
   "cell_type": "code",
   "execution_count": null,
   "id": "94b72baf-3758-4cb7-a730-5fb5b7251ccc",
   "metadata": {},
   "outputs": [],
   "source": [
    "hello = tuple('hello')\n",
    "hello"
   ]
  },
  {
   "cell_type": "code",
   "execution_count": null,
   "id": "879437ac-166e-473b-9506-ecc29b551336",
   "metadata": {},
   "outputs": [],
   "source": [
    "pets = tuple({'cat':1, 'dog':2})\n",
    "pets"
   ]
  },
  {
   "cell_type": "markdown",
   "id": "d6234a98-7365-40c9-957b-d0f5f848b7df",
   "metadata": {},
   "source": [
    "#### 원소 1 개짜리 튜플"
   ]
  },
  {
   "cell_type": "code",
   "execution_count": null,
   "id": "e835b8d3-bcc1-4dae-ae95-e305e02aba6e",
   "metadata": {},
   "outputs": [],
   "source": [
    "one = (1,)\n",
    "two = (2)\n",
    "print(one, two)"
   ]
  },
  {
   "cell_type": "markdown",
   "id": "75c9d065-c778-4a76-b2bf-7dcd25a434a3",
   "metadata": {},
   "source": [
    "#### 튜플 들여다 보기"
   ]
  },
  {
   "cell_type": "code",
   "execution_count": null,
   "id": "9dac373d-49a0-49c1-ab98-b3886e438d38",
   "metadata": {},
   "outputs": [],
   "source": [
    "print(hello[1])\n",
    "print(len(hello))\n",
    "print(hello.count('l'))\n",
    "print(hello.index('l'))"
   ]
  },
  {
   "cell_type": "markdown",
   "id": "c199155c-c011-4594-a089-a7c82edf8863",
   "metadata": {},
   "source": [
    "#### 튜플 연산 또는 변경(?)"
   ]
  },
  {
   "cell_type": "code",
   "execution_count": null,
   "id": "a362d972-2f6f-4b92-97d2-85abb4258636",
   "metadata": {},
   "outputs": [],
   "source": [
    "dimension = (1024, 768, 'RGB')\n",
    "dimension = (1920, 1024, 'RGB')\n",
    "dimension"
   ]
  },
  {
   "cell_type": "code",
   "execution_count": null,
   "id": "b69cfe21-146c-4f10-9c07-141cc207767d",
   "metadata": {},
   "outputs": [],
   "source": [
    "dimension + (1000, 2000)"
   ]
  },
  {
   "cell_type": "code",
   "execution_count": null,
   "id": "af7b2f2e-f732-4b85-81ac-e9d45b6f4f1c",
   "metadata": {},
   "outputs": [],
   "source": [
    "addon = 'remote'\n",
    "dimension + (addon,)"
   ]
  },
  {
   "cell_type": "code",
   "execution_count": null,
   "id": "c36563ae-b086-4091-9083-38dc8c141bcd",
   "metadata": {},
   "outputs": [],
   "source": [
    "(3, 4) * 2"
   ]
  },
  {
   "cell_type": "code",
   "execution_count": null,
   "id": "37248047-e645-4154-b2e9-76aa3670a0b3",
   "metadata": {},
   "outputs": [],
   "source": []
  }
 ],
 "metadata": {
  "kernelspec": {
   "display_name": "PythonClass",
   "language": "python",
   "name": "pyclass"
  },
  "language_info": {
   "codemirror_mode": {
    "name": "ipython",
    "version": 3
   },
   "file_extension": ".py",
   "mimetype": "text/x-python",
   "name": "python",
   "nbconvert_exporter": "python",
   "pygments_lexer": "ipython3",
   "version": "3.12.3"
  }
 },
 "nbformat": 4,
 "nbformat_minor": 5
}
