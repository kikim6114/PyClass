{
 "cells": [
  {
   "cell_type": "code",
   "execution_count": 13,
   "id": "698b5f3a-59da-4511-b49a-5350cd7bc6a1",
   "metadata": {},
   "outputs": [
    {
     "name": "stdout",
     "output_type": "stream",
     "text": [
      "Binary: 0b10110, Octal: 0o26, Hexadecimal: 0x16\n"
     ]
    }
   ],
   "source": [
    "number = 22\n",
    " \n",
    "binary = bin(number)\n",
    "octal = oct(number) \n",
    "hexadecimal = hex(number)\n",
    " \n",
    "print(f\"Binary: {binary}, Octal: {octal}, Hexadecimal: {hexadecimal}\")"
   ]
  },
  {
   "cell_type": "code",
   "execution_count": 12,
   "id": "194364a8-45ce-4b8f-967a-d256272a0c83",
   "metadata": {},
   "outputs": [
    {
     "name": "stdout",
     "output_type": "stream",
     "text": [
      "From Binary: 22, From Octal: 2025, From Hexadecimal: 2025\n"
     ]
    }
   ],
   "source": [
    "binary_str = \"0b10110\"\n",
    "octal_str = \"0o3751\"\n",
    "hexadecimal_str = \"0x7e9\"\n",
    " \n",
    "decimal_from_binary = int(binary_str, 2)  \n",
    "decimal_from_octal = int(octal_str, 8)\n",
    "decimal_from_hexadecimal = int(hexadecimal_str, 16)\n",
    " \n",
    "print(f\"From Binary: {decimal_from_binary}, From Octal: {decimal_from_octal}, From Hexadecimal: {decimal_from_hexadecimal}\")"
   ]
  }
 ],
 "metadata": {
  "kernelspec": {
   "display_name": "PythonClass",
   "language": "python",
   "name": "pyclass"
  },
  "language_info": {
   "codemirror_mode": {
    "name": "ipython",
    "version": 3
   },
   "file_extension": ".py",
   "mimetype": "text/x-python",
   "name": "python",
   "nbconvert_exporter": "python",
   "pygments_lexer": "ipython3",
   "version": "3.12.3"
  }
 },
 "nbformat": 4,
 "nbformat_minor": 5
}
