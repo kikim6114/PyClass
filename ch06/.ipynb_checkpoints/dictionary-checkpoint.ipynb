{
 "cells": [
  {
   "cell_type": "markdown",
   "metadata": {},
   "source": [
    "# Dictionary\n"
   ]
  },
  {
   "cell_type": "code",
   "execution_count": null,
   "metadata": {},
   "outputs": [
    {
     "name": "stdout",
     "output_type": "stream",
     "text": [
      "{'color': 'green', 'points': 5, 'speed': 'slow'}\n",
      "{'name': 'pey', 'phone': '010-9999-1234', 'birth': '1118'}\n",
      "{'Korea': 'Seoul', 'France': 'Paris', 'England': 'London'}\n",
      "{10: 'Ten', 20: 'Twenty', 30: 'Thirty', 40: 'Forty'}\n",
      "{'Tom': 67, 'Mary': 88, 'Kevin': 91, 'David': 49}\n",
      "{'Fruit': ['Mango', 'Banana'], 'Flower': ['Rose', 'Lotus']}\n",
      "{'Korea, USA': 'Countries', ('Seoul', 'New York'): 'Capitals'}\n"
     ]
    }
   ],
   "source": [
    "alien = {'color': 'green', 'points': 5, 'speed': 'slow'}\n",
    "students = {'name': 'pey', 'phone': '010-9999-1234', 'birth': '1118'}\n",
    "capitals = {\"Korea\": \"Seoul\", \"France\": \"Paris\", \"England\": \"London\"}\n",
    "numbers = {10: 'Ten', 20: 'Twenty', 30: 'Thirty',40: 'Forty'}\n",
    "marks = {'Tom': 67, 'Mary': 88, \"Kevin\": 91, \"David\": 49}\n",
    "data1 = {\"Fruit\": ['Mango', 'Banana'], \"Flower\": ['Rose', 'Lotus']}\n",
    "data2 = {('Korea, USA'): 'Countries', ('Seoul', 'New York'): 'Capitals'}\n",
    "print(alien); print(students); print(capitals); print(numbers); print(marks); print(data1); print(data2)"
   ]
  },
  {
   "cell_type": "markdown",
   "metadata": {},
   "source": [
    "## 딕셔너리 key로 사용 가능한 객체들(해시 가능 객체들) \n",
    "#### 정수, 실수, 부울 객체\n"
   ]
  },
  {
   "cell_type": "code",
   "execution_count": null,
   "metadata": {},
   "outputs": [
    {
     "name": "stdout",
     "output_type": "stream",
     "text": [
      "dict_keys([42, 2.78, True])\n"
     ]
    }
   ],
   "source": [
    "my_dict = {42: \"aaa\", 2.78: \"bbb\", True: \"ccc\"}  # 정수, 실수, 부울\n",
    "\n",
    "print(my_dict.keys())"
   ]
  },
  {
   "cell_type": "markdown",
   "metadata": {},
   "source": [
    "#### 자료형"
   ]
  },
  {
   "cell_type": "code",
   "execution_count": null,
   "metadata": {},
   "outputs": [
    {
     "name": "stdout",
     "output_type": "stream",
     "text": [
      "dict_keys([<class 'int'>, <class 'float'>, <class 'bool'>])\n"
     ]
    }
   ],
   "source": [
    "my_dict = {int: 1, float: 2, bool: 3}  # int, float, bool\n",
    "\n",
    "print(my_dict.keys())"
   ]
  },
  {
   "cell_type": "markdown",
   "metadata": {},
   "source": [
    "#### 함수"
   ]
  },
  {
   "cell_type": "code",
   "execution_count": 31,
   "metadata": {},
   "outputs": [
    {
     "name": "stdout",
     "output_type": "stream",
     "text": [
      "{<function hey at 0x0000020E8C268B80>: 100, <function buddy at 0x0000020E8C268C20>: 200}\n"
     ]
    }
   ],
   "source": [
    "def hey():\n",
    "    print('hey')\n",
    "\n",
    "def buddy():\n",
    "    print('buddy')\n",
    "\n",
    "funcs = {hey: 100, buddy: 200}\n",
    "print(funcs)"
   ]
  },
  {
   "cell_type": "code",
   "execution_count": 33,
   "metadata": {},
   "outputs": [
    {
     "name": "stdout",
     "output_type": "stream",
     "text": [
      "hey\n",
      "buddy\n",
      "{<function hey at 0x0000020E8C268B80>: 102, <function buddy at 0x0000020E8C268C20>: 202}\n"
     ]
    }
   ],
   "source": [
    "for func in funcs:\n",
    "    func()\n",
    "    funcs[func] += 1\n",
    "\n",
    "print(funcs)"
   ]
  },
  {
   "cell_type": "markdown",
   "metadata": {},
   "source": [
    "#### 해시 불가능한 리스트를 key로 사용한 오류"
   ]
  },
  {
   "cell_type": "code",
   "execution_count": 44,
   "metadata": {},
   "outputs": [
    {
     "name": "stdout",
     "output_type": "stream",
     "text": [
      "[5, 10]\n"
     ]
    }
   ],
   "source": [
    "alien = {'color': 'red', 'points': [5, 10], 'speed': 'slow'}\n",
    "\n",
    "print(alien['points'])"
   ]
  },
  {
   "cell_type": "code",
   "execution_count": 45,
   "metadata": {},
   "outputs": [
    {
     "ename": "TypeError",
     "evalue": "unhashable type: 'list'",
     "output_type": "error",
     "traceback": [
      "\u001b[1;31m---------------------------------------------------------------------------\u001b[0m",
      "\u001b[1;31mTypeError\u001b[0m                                 Traceback (most recent call last)",
      "Cell \u001b[1;32mIn[45], line 1\u001b[0m\n\u001b[1;32m----> 1\u001b[0m alien \u001b[38;5;241m=\u001b[39m {[\u001b[38;5;124m'\u001b[39m\u001b[38;5;124mcolor\u001b[39m\u001b[38;5;124m'\u001b[39m, \u001b[38;5;124m'\u001b[39m\u001b[38;5;124mweapon\u001b[39m\u001b[38;5;124m'\u001b[39m]: \u001b[38;5;124m'\u001b[39m\u001b[38;5;124mred laser\u001b[39m\u001b[38;5;124m'\u001b[39m, \u001b[38;5;124m'\u001b[39m\u001b[38;5;124mpoints\u001b[39m\u001b[38;5;124m'\u001b[39m: \u001b[38;5;241m5\u001b[39m, \u001b[38;5;124m'\u001b[39m\u001b[38;5;124mspeed\u001b[39m\u001b[38;5;124m'\u001b[39m: \u001b[38;5;124m'\u001b[39m\u001b[38;5;124mslow\u001b[39m\u001b[38;5;124m'\u001b[39m}\n\u001b[0;32m      3\u001b[0m \u001b[38;5;28mprint\u001b[39m(alien[\u001b[38;5;124m'\u001b[39m\u001b[38;5;124mspeed\u001b[39m\u001b[38;5;124m'\u001b[39m])\n",
      "\u001b[1;31mTypeError\u001b[0m: unhashable type: 'list'"
     ]
    }
   ],
   "source": [
    "alien = {['color', 'weapon']: 'red laser', 'points': 5, 'speed': 'slow'}\n",
    "\n",
    "print(alien['speed'])"
   ]
  },
  {
   "cell_type": "markdown",
   "metadata": {},
   "source": [
    "## 딕셔너리 다루기\n",
    "#### 읽기"
   ]
  },
  {
   "cell_type": "code",
   "execution_count": 81,
   "metadata": {},
   "outputs": [
    {
     "name": "stdout",
     "output_type": "stream",
     "text": [
      "green\n"
     ]
    }
   ],
   "source": [
    "alien = {'color': 'green', 'points': 5}\n",
    "\n",
    "print(alien['color'])"
   ]
  },
  {
   "cell_type": "markdown",
   "metadata": {},
   "source": [
    "#### 추가"
   ]
  },
  {
   "cell_type": "code",
   "execution_count": 82,
   "metadata": {},
   "outputs": [
    {
     "name": "stdout",
     "output_type": "stream",
     "text": [
      "{'color': 'green', 'points': 5}\n",
      "{'color': 'green', 'points': 5, 'x_position': 0, 'y_position': 25}\n"
     ]
    }
   ],
   "source": [
    "print(alien)\n",
    "alien['x_position'] = 0\n",
    "alien['y_position'] = 25\n",
    "print(alien)"
   ]
  },
  {
   "cell_type": "markdown",
   "metadata": {},
   "source": [
    "#### 접근 및 변경 연습"
   ]
  },
  {
   "cell_type": "code",
   "execution_count": null,
   "metadata": {},
   "outputs": [],
   "source": [
    "alien = {'x_position': 0, 'y_position': 25, 'speed': 'medium'}\n",
    "print(f\"Original position: {alien['x_position']}\")\n",
    "# Move the alien to the right.\n",
    "# Determine how far to move the alien based on its current speed.\n",
    "if alien['speed'] == 'slow':\n",
    "    x_increment = 1\n",
    "elif alien['speed'] == 'medium':\n",
    "    x_increment = 2\n",
    "else:\n",
    "    # This must be a fast alien.\n",
    "    x_increment = 3\n",
    "\n",
    "# The new position is the old position plus the increment.\n",
    "alien['x_position'] = alien['x_position'] + x_increment\n",
    "\n",
    "print(f\"New position: {alien['x_position']}\")"
   ]
  },
  {
   "cell_type": "markdown",
   "metadata": {},
   "source": [
    "#### 읽되, 없으면 default 값으로 추가하기"
   ]
  },
  {
   "cell_type": "code",
   "execution_count": 60,
   "metadata": {},
   "outputs": [
    {
     "name": "stdout",
     "output_type": "stream",
     "text": [
      "5\n",
      "None\n",
      "10\n",
      "{'color': 'green', 'points': 5, 'speed': None, 'size': 10}\n"
     ]
    }
   ],
   "source": [
    "alien = {'color': 'green', 'points': 5, }\n",
    "value = alien.setdefault('points')\n",
    "print(value)\n",
    "value = alien.setdefault('speed')\n",
    "print(value)\n",
    "value = alien.setdefault('size', 10)\n",
    "print(value)\n",
    "print(alien)"
   ]
  },
  {
   "cell_type": "markdown",
   "metadata": {},
   "source": [
    "#### 읽되, 없으면 default 값 반환"
   ]
  },
  {
   "cell_type": "code",
   "execution_count": 83,
   "metadata": {},
   "outputs": [
    {
     "name": "stdout",
     "output_type": "stream",
     "text": [
      "d\n",
      "e\n",
      "{1: 'a', 2: 'b', 3: 'c', 5: 'e'}\n"
     ]
    }
   ],
   "source": [
    "dict = {1:\"a\",2:\"b\",3:\"c\"}\n",
    "\n",
    "test_1 = dict.get(4,\"d\")\n",
    "print(test_1)\n",
    "\n",
    "test_2 = dict.setdefault(5,\"e\")\n",
    "print(test_2)\n",
    "\n",
    "print(dict)"
   ]
  },
  {
   "cell_type": "markdown",
   "metadata": {},
   "source": [
    "### 딕셔너리 병합 및 변경"
   ]
  },
  {
   "cell_type": "code",
   "execution_count": null,
   "metadata": {},
   "outputs": [
    {
     "data": {
      "text/plain": [
       "{'color': 'red',\n",
       " 'width': 42,\n",
       " 'height': 100,\n",
       " 'font': 'Arial',\n",
       " 'path': '/home',\n",
       " 'position': (200, 100)}"
      ]
     },
     "execution_count": 64,
     "metadata": {},
     "output_type": "execute_result"
    }
   ],
   "source": [
    "config = {\"color\": \"green\", \"width\": 42, \"height\": 100, \"font\": \"Courier\"}\n",
    "user_config = {\"path\": \"/home\", \"color\": \"red\", \"font\": \"Arial\", \"position\": (200, 100)}\n",
    "config.update(user_config)\n",
    "config"
   ]
  },
  {
   "cell_type": "markdown",
   "metadata": {},
   "source": [
    "### 삭제하기"
   ]
  },
  {
   "cell_type": "markdown",
   "metadata": {},
   "source": [
    "#### key-value 쌍 삭제하면서 value 반환"
   ]
  },
  {
   "cell_type": "code",
   "execution_count": 68,
   "metadata": {},
   "outputs": [
    {
     "name": "stdout",
     "output_type": "stream",
     "text": [
      "5\n",
      "{'color': 'green'}\n"
     ]
    }
   ],
   "source": [
    "alien = {'color': 'green', 'points': 5}\n",
    "poped_value = alien.pop('points')\n",
    "print(poped_value)\n",
    "print(alien)"
   ]
  },
  {
   "cell_type": "markdown",
   "metadata": {},
   "source": [
    "##### default를 명시하지 않았는데 key 없으면 KeyError"
   ]
  },
  {
   "cell_type": "code",
   "execution_count": null,
   "metadata": {},
   "outputs": [
    {
     "ename": "KeyError",
     "evalue": "'points'",
     "output_type": "error",
     "traceback": [
      "\u001b[1;31m---------------------------------------------------------------------------\u001b[0m",
      "\u001b[1;31mKeyError\u001b[0m                                  Traceback (most recent call last)",
      "Cell \u001b[1;32mIn[69], line 1\u001b[0m\n\u001b[1;32m----> 1\u001b[0m alien\u001b[38;5;241m.\u001b[39mpop(\u001b[38;5;124m'\u001b[39m\u001b[38;5;124mpoints\u001b[39m\u001b[38;5;124m'\u001b[39m)\n",
      "\u001b[1;31mKeyError\u001b[0m: 'points'"
     ]
    }
   ],
   "source": [
    "alien.pop('points')"
   ]
  },
  {
   "cell_type": "markdown",
   "metadata": {},
   "source": [
    "##### default를 명시했으면, key 없을 때 default 값이 반환되며 KeyError 없음"
   ]
  },
  {
   "cell_type": "code",
   "execution_count": 70,
   "metadata": {},
   "outputs": [
    {
     "data": {
      "text/plain": [
       "0"
      ]
     },
     "execution_count": 70,
     "metadata": {},
     "output_type": "execute_result"
    }
   ],
   "source": [
    "alien.pop('points', 0)"
   ]
  },
  {
   "cell_type": "markdown",
   "metadata": {},
   "source": [
    "#### 딕셔너리 끝 아이템 삭제하고 튜플 (key, value) 반환"
   ]
  },
  {
   "cell_type": "code",
   "execution_count": 74,
   "metadata": {},
   "outputs": [
    {
     "name": "stdout",
     "output_type": "stream",
     "text": [
      "('speed', 'slow')\n",
      "('points', 5)\n",
      "{'color': 'green'}\n"
     ]
    }
   ],
   "source": [
    "alien = {'color': 'green', 'points': 5, 'speed': 'slow'}\n",
    "print(alien.popitem())\n",
    "print(alien.popitem())\n",
    "print(alien)"
   ]
  },
  {
   "cell_type": "markdown",
   "metadata": {},
   "source": [
    "##### 단순 삭제"
   ]
  },
  {
   "cell_type": "code",
   "execution_count": 75,
   "metadata": {},
   "outputs": [
    {
     "name": "stdout",
     "output_type": "stream",
     "text": [
      "{'color': 'green', 'points': 5}\n",
      "{'color': 'green'}\n"
     ]
    }
   ],
   "source": [
    "alien = {'color': 'green', 'points': 5}\n",
    "print(alien)\n",
    "del alien['points']\n",
    "print(alien)"
   ]
  },
  {
   "cell_type": "markdown",
   "metadata": {},
   "source": [
    "#### 딕셔너리 비우기"
   ]
  },
  {
   "cell_type": "code",
   "execution_count": 76,
   "metadata": {},
   "outputs": [
    {
     "name": "stdout",
     "output_type": "stream",
     "text": [
      "{'color': 'green', 'points': 5}\n",
      "{}\n"
     ]
    }
   ],
   "source": [
    "alien = {'color': 'green', 'points': 5}\n",
    "print(alien)\n",
    "alien.clear()\n",
    "print(alien)"
   ]
  },
  {
   "cell_type": "markdown",
   "metadata": {},
   "source": [
    "#### 유사한 객체들의 딕셔너리 코딩 스타일"
   ]
  },
  {
   "cell_type": "code",
   "execution_count": null,
   "metadata": {},
   "outputs": [
    {
     "name": "stdout",
     "output_type": "stream",
     "text": [
      "Sarah's favorite language is C.\n"
     ]
    }
   ],
   "source": [
    "favorite_languages = {\n",
    "    'jen': 'python',\n",
    "    'sarah': 'c',\n",
    "    'edward': 'rust',\n",
    "    'phil': 'python',\n",
    "    }\n",
    "\n",
    "language = favorite_languages['sarah'].title()\n",
    "print(f\"Sarah's favorite language is {language}.\")"
   ]
  }
 ],
 "metadata": {
  "kernelspec": {
   "display_name": "pyclass",
   "language": "python",
   "name": "python3"
  },
  "language_info": {
   "codemirror_mode": {
    "name": "ipython",
    "version": 3
   },
   "file_extension": ".py",
   "mimetype": "text/x-python",
   "name": "python",
   "nbconvert_exporter": "python",
   "pygments_lexer": "ipython3",
   "version": "3.12.3"
  }
 },
 "nbformat": 4,
 "nbformat_minor": 2
}
