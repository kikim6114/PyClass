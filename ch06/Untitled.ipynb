{
 "cells": [
  {
   "cell_type": "code",
   "execution_count": 7,
   "id": "6c85da75-e1f0-4e00-b3f0-f158f3f24e24",
   "metadata": {},
   "outputs": [
    {
     "name": "stdout",
     "output_type": "stream",
     "text": [
      "dict_keys([42, 2.78, True])\n"
     ]
    }
   ],
   "source": [
    "my_dict = {42: \"aaa\", 2.78: \"bbb\", True: \"ccc\"}\n",
    "print(my_dict.keys())"
   ]
  },
  {
   "cell_type": "code",
   "execution_count": 12,
   "id": "b6214d04-5070-46c1-9b61-2f3284103725",
   "metadata": {},
   "outputs": [
    {
     "name": "stdout",
     "output_type": "stream",
     "text": [
      "{<function hey at 0x000001FE7C91F560>: 100, <function buddy at 0x000001FE7D8D5940>: 200}\n"
     ]
    }
   ],
   "source": [
    "def hey():\n",
    "    print('hey')\n",
    "\n",
    "def buddy():\n",
    "    print('buddy')\n",
    "\n",
    "funcs = {hey: 100, buddy: 200}\n",
    "print(funcs)"
   ]
  },
  {
   "cell_type": "code",
   "execution_count": 11,
   "id": "7ee128c4-56c7-48e4-a8ff-d7ebb149ec42",
   "metadata": {},
   "outputs": [
    {
     "name": "stdout",
     "output_type": "stream",
     "text": [
      "hey\n",
      "buddy\n",
      "{<function hey at 0x000001FE7D8D4540>: 101, <function buddy at 0x000001FE7D8D58A0>: 201}\n"
     ]
    }
   ],
   "source": [
    "for func in funcs:\n",
    "    func()    # hi\n",
    "    funcs[func] += 1\n",
    "\n",
    "print(funcs)  # {<function hi at 0x........>: 1}"
   ]
  },
  {
   "cell_type": "code",
   "execution_count": 13,
   "id": "e5825442-95b1-405d-904d-13b9dfada148",
   "metadata": {},
   "outputs": [
    {
     "name": "stdout",
     "output_type": "stream",
     "text": [
      "5\n",
      "{'color': 'green'}\n"
     ]
    }
   ],
   "source": [
    "alien = {'color': 'green', 'points': 5}\n",
    "poped_value = alien.pop('points')\n",
    "print(poped_value)\n",
    "print(alien)"
   ]
  },
  {
   "cell_type": "code",
   "execution_count": 14,
   "id": "810ad7e4-93ab-4088-844a-6cf80c201c8b",
   "metadata": {},
   "outputs": [
    {
     "ename": "KeyError",
     "evalue": "'points'",
     "output_type": "error",
     "traceback": [
      "\u001b[1;31m---------------------------------------------------------------------------\u001b[0m",
      "\u001b[1;31mKeyError\u001b[0m                                  Traceback (most recent call last)",
      "Cell \u001b[1;32mIn[14], line 1\u001b[0m\n\u001b[1;32m----> 1\u001b[0m alien\u001b[38;5;241m.\u001b[39mpop(\u001b[38;5;124m'\u001b[39m\u001b[38;5;124mpoints\u001b[39m\u001b[38;5;124m'\u001b[39m)\n",
      "\u001b[1;31mKeyError\u001b[0m: 'points'"
     ]
    }
   ],
   "source": [
    "alien.pop('points')"
   ]
  },
  {
   "cell_type": "code",
   "execution_count": 16,
   "id": "15166e9d-3ea0-4686-9f4a-0524e8ca0d62",
   "metadata": {},
   "outputs": [
    {
     "name": "stdout",
     "output_type": "stream",
     "text": [
      "Sarah's favorite language is C.\n"
     ]
    }
   ],
   "source": [
    "favorite_languages = {\n",
    "    'jen': 'python',\n",
    "    'sarah': 'c',\n",
    "    'edward': 'rust',\n",
    "    'phil': 'python',\n",
    "    }\n",
    "\n",
    "language = favorite_languages['sarah'].title()\n",
    "print(f\"Sarah's favorite language is {language}.\")"
   ]
  },
  {
   "cell_type": "code",
   "execution_count": 17,
   "id": "a658a1be-99de-4e17-af12-b6b27071654a",
   "metadata": {},
   "outputs": [
    {
     "ename": "KeyError",
     "evalue": "'lee'",
     "output_type": "error",
     "traceback": [
      "\u001b[1;31m---------------------------------------------------------------------------\u001b[0m",
      "\u001b[1;31mKeyError\u001b[0m                                  Traceback (most recent call last)",
      "Cell \u001b[1;32mIn[17], line 1\u001b[0m\n\u001b[1;32m----> 1\u001b[0m favorite_languages[\u001b[38;5;124m'\u001b[39m\u001b[38;5;124mlee\u001b[39m\u001b[38;5;124m'\u001b[39m]\n",
      "\u001b[1;31mKeyError\u001b[0m: 'lee'"
     ]
    }
   ],
   "source": [
    "favorite_languages['lee']"
   ]
  },
  {
   "cell_type": "code",
   "execution_count": 18,
   "id": "0cf13432-19ed-4ca7-9b07-de0e1567f397",
   "metadata": {},
   "outputs": [
    {
     "name": "stdout",
     "output_type": "stream",
     "text": [
      "5\n",
      "None\n",
      "10\n",
      "{'color': 'green', 'points': 5, 'speed': None, 'size': 10}\n"
     ]
    }
   ],
   "source": [
    "alien = {'color': 'green', 'points': 5, }\n",
    "value = alien.setdefault('points')\n",
    "print(value)\n",
    "value = alien.setdefault('speed')\n",
    "print(value)\n",
    "value = alien.setdefault('size', 10)\n",
    "print(value)\n",
    "print(alien)"
   ]
  },
  {
   "cell_type": "code",
   "execution_count": 19,
   "id": "546f6ee7-9112-409f-b0ba-927fc2aa7adf",
   "metadata": {},
   "outputs": [],
   "source": [
    "alien['size'] = 20"
   ]
  },
  {
   "cell_type": "code",
   "execution_count": 20,
   "id": "6aa8c8f4-c65c-4cd0-9fbb-204115afd432",
   "metadata": {},
   "outputs": [
    {
     "data": {
      "text/plain": [
       "{'color': 'green', 'points': 5, 'speed': None, 'size': 20}"
      ]
     },
     "execution_count": 20,
     "metadata": {},
     "output_type": "execute_result"
    }
   ],
   "source": [
    "alien"
   ]
  },
  {
   "cell_type": "code",
   "execution_count": 21,
   "id": "8036e6b5-a895-45f2-b105-9b8a27477f2d",
   "metadata": {},
   "outputs": [
    {
     "data": {
      "text/plain": [
       "{'color': 'green', 'points': 5, 'speed': None}"
      ]
     },
     "execution_count": 21,
     "metadata": {},
     "output_type": "execute_result"
    }
   ],
   "source": [
    "del alien['size'] \n",
    "alien"
   ]
  },
  {
   "cell_type": "code",
   "execution_count": 22,
   "id": "83bf125f-3ee4-49cf-9c5c-030591d485fe",
   "metadata": {},
   "outputs": [
    {
     "ename": "KeyError",
     "evalue": "'size'",
     "output_type": "error",
     "traceback": [
      "\u001b[1;31m---------------------------------------------------------------------------\u001b[0m",
      "\u001b[1;31mKeyError\u001b[0m                                  Traceback (most recent call last)",
      "Cell \u001b[1;32mIn[22], line 1\u001b[0m\n\u001b[1;32m----> 1\u001b[0m alien[\u001b[38;5;124m'\u001b[39m\u001b[38;5;124msize\u001b[39m\u001b[38;5;124m'\u001b[39m]\n",
      "\u001b[1;31mKeyError\u001b[0m: 'size'"
     ]
    }
   ],
   "source": [
    "alien['size'] "
   ]
  },
  {
   "cell_type": "code",
   "execution_count": 23,
   "id": "9f20f9be-6e45-4bed-ac8b-11bc8cab8cf0",
   "metadata": {},
   "outputs": [
    {
     "name": "stdout",
     "output_type": "stream",
     "text": [
      "d\n",
      "e\n",
      "{1: 'a', 2: 'b', 3: 'c', 5: 'e'}\n"
     ]
    }
   ],
   "source": [
    "dict = {1:\"a\",2:\"b\",3:\"c\"}\n",
    "\n",
    "test_1 = dict.get(4,\"d\")\n",
    "print(test_1)\n",
    "\n",
    "test_2 = dict.setdefault(5,\"e\")\n",
    "print(test_2)\n",
    "\n",
    "print(dict)"
   ]
  },
  {
   "cell_type": "code",
   "execution_count": 24,
   "id": "df160e4d-bf63-4524-abda-1563f8ede110",
   "metadata": {},
   "outputs": [
    {
     "name": "stdout",
     "output_type": "stream",
     "text": [
      "0\n",
      "{'color': 'green', 'points': 5}\n"
     ]
    }
   ],
   "source": [
    "alien = {'color': 'green', 'points': 5}\n",
    "poped_value = alien.pop('size', 0)\n",
    "print(poped_value)\n",
    "print(alien)\n"
   ]
  },
  {
   "cell_type": "code",
   "execution_count": 25,
   "id": "41969d20-b308-4d57-970d-47d50a1f847c",
   "metadata": {},
   "outputs": [
    {
     "data": {
      "text/plain": [
       "['__class__',\n",
       " '__class_getitem__',\n",
       " '__contains__',\n",
       " '__delattr__',\n",
       " '__delitem__',\n",
       " '__dir__',\n",
       " '__doc__',\n",
       " '__eq__',\n",
       " '__format__',\n",
       " '__ge__',\n",
       " '__getattribute__',\n",
       " '__getitem__',\n",
       " '__getstate__',\n",
       " '__gt__',\n",
       " '__hash__',\n",
       " '__init__',\n",
       " '__init_subclass__',\n",
       " '__ior__',\n",
       " '__iter__',\n",
       " '__le__',\n",
       " '__len__',\n",
       " '__lt__',\n",
       " '__ne__',\n",
       " '__new__',\n",
       " '__or__',\n",
       " '__reduce__',\n",
       " '__reduce_ex__',\n",
       " '__repr__',\n",
       " '__reversed__',\n",
       " '__ror__',\n",
       " '__setattr__',\n",
       " '__setitem__',\n",
       " '__sizeof__',\n",
       " '__str__',\n",
       " '__subclasshook__',\n",
       " 'clear',\n",
       " 'copy',\n",
       " 'fromkeys',\n",
       " 'get',\n",
       " 'items',\n",
       " 'keys',\n",
       " 'pop',\n",
       " 'popitem',\n",
       " 'setdefault',\n",
       " 'update',\n",
       " 'values']"
      ]
     },
     "execution_count": 25,
     "metadata": {},
     "output_type": "execute_result"
    }
   ],
   "source": [
    "dir(alien)"
   ]
  },
  {
   "cell_type": "code",
   "execution_count": 27,
   "id": "2edb1228-81a9-4a72-ab4a-64d6cfed8a78",
   "metadata": {},
   "outputs": [
    {
     "data": {
      "text/plain": [
       "dict_items"
      ]
     },
     "execution_count": 27,
     "metadata": {},
     "output_type": "execute_result"
    }
   ],
   "source": [
    "type(alien.items())"
   ]
  },
  {
   "cell_type": "code",
   "execution_count": 28,
   "id": "278975fa-ff33-4d36-85f4-15b42587aed2",
   "metadata": {},
   "outputs": [
    {
     "ename": "NameError",
     "evalue": "name 'dict_items' is not defined",
     "output_type": "error",
     "traceback": [
      "\u001b[1;31m---------------------------------------------------------------------------\u001b[0m",
      "\u001b[1;31mNameError\u001b[0m                                 Traceback (most recent call last)",
      "Cell \u001b[1;32mIn[28], line 1\u001b[0m\n\u001b[1;32m----> 1\u001b[0m \u001b[38;5;28mtype\u001b[39m(dict_items)\n",
      "\u001b[1;31mNameError\u001b[0m: name 'dict_items' is not defined"
     ]
    }
   ],
   "source": [
    "type(dict_items)"
   ]
  },
  {
   "cell_type": "code",
   "execution_count": 29,
   "id": "cf6f3dfb-29d5-4e29-b5da-af0f096d6691",
   "metadata": {},
   "outputs": [
    {
     "name": "stdout",
     "output_type": "stream",
     "text": [
      "color\n",
      "points\n"
     ]
    }
   ],
   "source": [
    "for name in alien:\n",
    "    print(name)"
   ]
  },
  {
   "cell_type": "code",
   "execution_count": null,
   "id": "5cb1b5dc-50df-4566-ae40-ec27501f50f6",
   "metadata": {},
   "outputs": [],
   "source": []
  }
 ],
 "metadata": {
  "kernelspec": {
   "display_name": "PythonClass",
   "language": "python",
   "name": "pyclass"
  },
  "language_info": {
   "codemirror_mode": {
    "name": "ipython",
    "version": 3
   },
   "file_extension": ".py",
   "mimetype": "text/x-python",
   "name": "python",
   "nbconvert_exporter": "python",
   "pygments_lexer": "ipython3",
   "version": "3.12.3"
  }
 },
 "nbformat": 4,
 "nbformat_minor": 5
}
