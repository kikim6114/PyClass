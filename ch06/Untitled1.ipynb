{
 "cells": [
  {
   "cell_type": "code",
   "execution_count": 5,
   "id": "36f91a5e-7cec-4adb-a36b-0d59dee7e972",
   "metadata": {},
   "outputs": [
    {
     "name": "stdout",
     "output_type": "stream",
     "text": [
      "username: efermi\n",
      "first: enrico\n",
      "last: fermi\n"
     ]
    }
   ],
   "source": [
    "user_0 = {\n",
    "    'username': 'efermi',\n",
    "    'first': 'enrico',\n",
    "    'last': 'fermi',\n",
    "    }\n",
    "for key, value in user_0.items():\n",
    "    print(f\"{key}: {value}\")"
   ]
  },
  {
   "cell_type": "code",
   "execution_count": 22,
   "id": "105bfa53-b226-4553-b4ff-c2658f8c7bd2",
   "metadata": {},
   "outputs": [
    {
     "name": "stdout",
     "output_type": "stream",
     "text": [
      "username: efermi\n",
      "first: enrico\n",
      "last: fermi\n"
     ]
    }
   ],
   "source": [
    "for key in user_0:\n",
    "    print(f\"{key}: {user_0[key]}\")"
   ]
  },
  {
   "cell_type": "code",
   "execution_count": 26,
   "id": "31f1e556-13bc-4e4d-bba8-64ff6cdb3136",
   "metadata": {},
   "outputs": [
    {
     "data": {
      "text/plain": [
       "dict_items([('username', 'efermi'), ('first', 'enrico'), ('last', 'fermi')])"
      ]
     },
     "execution_count": 26,
     "metadata": {},
     "output_type": "execute_result"
    }
   ],
   "source": [
    "user_0.items()"
   ]
  },
  {
   "cell_type": "code",
   "execution_count": 24,
   "id": "364a5717-e28b-486f-b1d3-303b8b2d8d2d",
   "metadata": {},
   "outputs": [
    {
     "data": {
      "text/plain": [
       "dict_keys(['username', 'first', 'last'])"
      ]
     },
     "execution_count": 24,
     "metadata": {},
     "output_type": "execute_result"
    }
   ],
   "source": [
    "user_0.keys()"
   ]
  },
  {
   "cell_type": "code",
   "execution_count": 27,
   "id": "4f6ad317-d99c-41a1-ab7a-b691038db53b",
   "metadata": {},
   "outputs": [
    {
     "data": {
      "text/plain": [
       "dict_values(['efermi', 'enrico', 'fermi'])"
      ]
     },
     "execution_count": 27,
     "metadata": {},
     "output_type": "execute_result"
    }
   ],
   "source": [
    "user_0.values()"
   ]
  },
  {
   "cell_type": "code",
   "execution_count": null,
   "id": "b4280559-4375-4509-8b6a-27512e5de490",
   "metadata": {},
   "outputs": [],
   "source": []
  }
 ],
 "metadata": {
  "kernelspec": {
   "display_name": "PythonClass",
   "language": "python",
   "name": "pyclass"
  },
  "language_info": {
   "codemirror_mode": {
    "name": "ipython",
    "version": 3
   },
   "file_extension": ".py",
   "mimetype": "text/x-python",
   "name": "python",
   "nbconvert_exporter": "python",
   "pygments_lexer": "ipython3",
   "version": "3.12.3"
  }
 },
 "nbformat": 4,
 "nbformat_minor": 5
}
