{
 "cells": [
  {
   "cell_type": "markdown",
   "id": "5b833312-6406-44fe-8972-d88c518e3730",
   "metadata": {},
   "source": [
    "## while 루프 \n",
    "#### 단순 while 루프"
   ]
  },
  {
   "cell_type": "code",
   "execution_count": 27,
   "id": "6ea134fe-1b86-4247-b7d4-4e6e1faeaf91",
   "metadata": {},
   "outputs": [
    {
     "name": "stdout",
     "output_type": "stream",
     "text": [
      "count = 1\n",
      "count = 2\n",
      "count = 3\n",
      "count = 4\n",
      "count = 5\n",
      "while 루프 종료.\n"
     ]
    }
   ],
   "source": [
    "count = 0\n",
    "\n",
    "while count < 5:\n",
    "    count += 1\n",
    "    print(f\"count = {count}\")\n",
    "\n",
    "print(f\"while 루프 종료.\")"
   ]
  },
  {
   "attachments": {},
   "cell_type": "markdown",
   "id": "dbb95f5b-6134-4652-ab10-6a4ffe835032",
   "metadata": {},
   "source": [
    "#### 탈출 시점의 선택\n",
    "##### 루프 탈출 조건"
   ]
  },
  {
   "cell_type": "code",
   "execution_count": 1,
   "id": "479be8e2-4ac3-4b3a-94bc-b031ee181864",
   "metadata": {},
   "outputs": [
    {
     "name": "stdin",
     "output_type": "stream",
     "text": [
      "\n",
      "저에게 무엇이든지 얘기해 보세요. 그대로 돌려드릴게요:\n",
      "프로그램을 끝내고 싶으면 언제든지 '-'를 치세요. 반가워요 여러분!\n"
     ]
    },
    {
     "name": "stdout",
     "output_type": "stream",
     "text": [
      "반가워요 여러분!\n"
     ]
    },
    {
     "name": "stdin",
     "output_type": "stream",
     "text": [
      "\n",
      "저에게 무엇이든지 얘기해 보세요. 그대로 돌려드릴게요:\n",
      "프로그램을 끝내고 싶으면 언제든지 '-'를 치세요. -\n"
     ]
    },
    {
     "name": "stdout",
     "output_type": "stream",
     "text": [
      "-\n",
      "프로그램을 끝냅니다. 안녕히 계세요.\n"
     ]
    }
   ],
   "source": [
    "prompt = \"\\n저에게 무엇이든지 얘기해 보세요. 그대로 돌려드릴게요:\"\n",
    "prompt += \"\\n프로그램을 끝내고 싶으면 언제든지 '-'를 치세요.\"\n",
    "\n",
    "message = \"\"\n",
    "while message != '-':\n",
    "    message = input(prompt)\n",
    "    print(message)\n",
    "\n",
    "print(\"프로그램을 끝냅니다. 안녕히 계세요.\")"
   ]
  },
  {
   "attachments": {},
   "cell_type": "markdown",
   "id": "ed58ac37-bb8e-48a4-b858-9992d1177c8c",
   "metadata": {},
   "source": [
    "#### 탈출 조건 '-'를 일반 message 처럼 출력하는 것은 거슬린다."
   ]
  },
  {
   "cell_type": "code",
   "execution_count": 41,
   "id": "e6e2276a-eb3f-4ff4-b045-5fbae4e9de0a",
   "metadata": {},
   "outputs": [
    {
     "name": "stdin",
     "output_type": "stream",
     "text": [
      "\n",
      "저에게 무엇이든지 얘기해 보세요. 그대로 돌려 드릴께요:\n",
      "프로그램을 끝내고 싶으면 언제든지 '-'를 치세요. -\n"
     ]
    },
    {
     "name": "stdout",
     "output_type": "stream",
     "text": [
      "프로그램을 끝냅니다. 안녕히 계세요.\n"
     ]
    }
   ],
   "source": [
    "prompt = \"\\n저에게 무엇이든지 얘기해 보세요. 그대로 돌려 드릴께요:\"\n",
    "prompt += \"\\n프로그램을 끝내고 싶으면 언제든지 '-'를 치세요.\"\n",
    "\n",
    "message = \"\"\n",
    "while message != '-':\n",
    "    message = input(prompt)\n",
    "    if message != '-':\n",
    "        print(message)\n",
    "\n",
    "print(\"프로그램을 끝냅니다. 안녕히 계세요.\")"
   ]
  },
  {
   "attachments": {},
   "cell_type": "markdown",
   "id": "827cf9b3-8435-41a0-b7a5-3f33c25d0432",
   "metadata": {},
   "source": [
    "#### count 변수의 위치"
   ]
  },
  {
   "cell_type": "code",
   "execution_count": 44,
   "id": "14699c68-f0ea-4e60-a3dd-a199da7287ab",
   "metadata": {},
   "outputs": [
    {
     "name": "stdout",
     "output_type": "stream",
     "text": [
      "count = 1\n",
      "count = 2\n",
      "count = 3\n",
      "count 탈출값 = 3\n"
     ]
    }
   ],
   "source": [
    "count = 0\n",
    "while count < 3:\n",
    "    count += 1\n",
    "    print(f\"count = {count}\")\n",
    "print(f\"count 탈출값 = {count}\")"
   ]
  },
  {
   "cell_type": "code",
   "execution_count": 45,
   "id": "2ef65274-8ecc-4c09-9520-136a682dde8b",
   "metadata": {},
   "outputs": [
    {
     "name": "stdout",
     "output_type": "stream",
     "text": [
      "count = 1\n",
      "count = 2\n",
      "count = 3\n",
      "count = 4\n",
      "count 탈출값 = 4\n"
     ]
    }
   ],
   "source": [
    "count = 0\n",
    "while count <= 3:\n",
    "    count += 1\n",
    "    print(f\"count = {count}\")\n",
    "print(f\"count 탈출값 = {count}\")"
   ]
  },
  {
   "cell_type": "code",
   "execution_count": 46,
   "id": "1078721c-0a93-4a65-af6b-30433a2f5dd4",
   "metadata": {},
   "outputs": [
    {
     "name": "stdout",
     "output_type": "stream",
     "text": [
      "count = 0\n",
      "count = 1\n",
      "count = 2\n",
      "count 탈출값 = 3\n"
     ]
    }
   ],
   "source": [
    "count = 0\n",
    "while count < 3:\n",
    "    print(f\"count = {count}\")\n",
    "    count += 1\n",
    "print(f\"count 탈출값 = {count}\")"
   ]
  },
  {
   "cell_type": "code",
   "execution_count": 47,
   "id": "1c02b552-57df-4f66-93cb-1ae57c74717f",
   "metadata": {},
   "outputs": [
    {
     "name": "stdout",
     "output_type": "stream",
     "text": [
      "count = 0\n",
      "count = 1\n",
      "count = 2\n",
      "count = 3\n",
      "count 탈출값 = 4\n"
     ]
    }
   ],
   "source": [
    "count = 0\n",
    "while count <= 3:\n",
    "    print(f\"count = {count}\")\n",
    "    count += 1\n",
    "print(f\"count 탈출값 = {count}\")"
   ]
  },
  {
   "cell_type": "markdown",
   "id": "b5372937-5393-4e59-98b4-7ebfc020d4aa",
   "metadata": {},
   "source": [
    "#### 플래그 변수의 사용"
   ]
  },
  {
   "cell_type": "code",
   "execution_count": 48,
   "id": "2bf39567-e524-46a9-bbc7-816d7f9cd15c",
   "metadata": {},
   "outputs": [
    {
     "name": "stdin",
     "output_type": "stream",
     "text": [
      "\n",
      "저에게 무엇이든지 얘기해 보세요. 그대로 돌려 드릴께요:\n",
      "프로그램을 끝내고 싶으면 언제든지 '-'를 치세요. -\n"
     ]
    },
    {
     "name": "stdout",
     "output_type": "stream",
     "text": [
      "프로그램을 끝냅니다. 안녕히 계세요.\n"
     ]
    }
   ],
   "source": [
    "prompt = \"\\n저에게 무엇이든지 얘기해 보세요. 그대로 돌려 드릴께요:\"\n",
    "prompt += \"\\n프로그램을 끝내고 싶으면 언제든지 '-'를 치세요.\"\n",
    "\n",
    "active = True\n",
    "while active:\n",
    "    message = input(prompt)\n",
    "    if message == '-':\n",
    "        active = False\n",
    "    else:\n",
    "        print(message)       \n",
    "\n",
    "print(\"프로그램을 끝냅니다. 안녕히 계세요.\")"
   ]
  },
  {
   "cell_type": "markdown",
   "id": "5c6050d1-4fb1-4daa-9b18-6be564f666ef",
   "metadata": {},
   "source": [
    "#### 즉시 탈출: `break`"
   ]
  },
  {
   "cell_type": "code",
   "execution_count": 51,
   "id": "4f754a61-cce7-4392-82c7-08384b6303b1",
   "metadata": {},
   "outputs": [
    {
     "name": "stdin",
     "output_type": "stream",
     "text": [
      "\n",
      "방문해 보신 도시를 말해보세요:\n",
      "끝내려면 '-'를 입력하세요. 파리\n"
     ]
    },
    {
     "name": "stdout",
     "output_type": "stream",
     "text": [
      "저도 파리에 가보고 싶어요.\n"
     ]
    },
    {
     "name": "stdin",
     "output_type": "stream",
     "text": [
      "\n",
      "방문해 보신 도시를 말해보세요:\n",
      "끝내려면 '-'를 입력하세요. -\n"
     ]
    }
   ],
   "source": [
    "prompt = \"\\n방문해 보신 도시를 말해보세요:\"\n",
    "prompt += \"\\n끝내려면 '-'를 입력하세요.\"\n",
    "\n",
    "while True:\n",
    "    city = input(prompt)\n",
    "\n",
    "    if city == '-':\n",
    "        break\n",
    "    else:\n",
    "        print(f\"저도 {city}에 가보고 싶어요.\")"
   ]
  },
  {
   "cell_type": "markdown",
   "id": "72339b39-6c32-4732-941d-eb1d10677d02",
   "metadata": {},
   "source": [
    "#### while 문 처음으로 돌아가기"
   ]
  },
  {
   "cell_type": "code",
   "execution_count": 57,
   "id": "dd6e5a81-60d1-4522-b084-fae14fba8daa",
   "metadata": {},
   "outputs": [
    {
     "name": "stdout",
     "output_type": "stream",
     "text": [
      "17는 17의 배수\n",
      "34는 17의 배수\n",
      "51는 17의 배수\n",
      "68는 17의 배수\n",
      "85는 17의 배수\n"
     ]
    }
   ],
   "source": [
    "number = 1\n",
    "while number < 100:\n",
    "    number += 1\n",
    "    if number % 17 != 0:\n",
    "        continue\n",
    "    \n",
    "    print(f\"{number}는 17의 배수\")"
   ]
  },
  {
   "cell_type": "markdown",
   "id": "35ef0ad6-b4bc-4d8a-bc27-5076b1d28748",
   "metadata": {},
   "source": [
    "##### `for` 문에서의 `continue`"
   ]
  },
  {
   "cell_type": "code",
   "execution_count": 54,
   "id": "49a13d6d-98f7-4764-a826-824a84ba84d7",
   "metadata": {},
   "outputs": [
    {
     "name": "stdout",
     "output_type": "stream",
     "text": [
      "17는 17의 배수\n",
      "34는 17의 배수\n",
      "51는 17의 배수\n",
      "68는 17의 배수\n",
      "85는 17의 배수\n"
     ]
    }
   ],
   "source": [
    "for number in range(1, 100):\n",
    "    if number % 17 != 0:\n",
    "        continue\n",
    "\n",
    "    print(f\"{number}는 17의 배수\")"
   ]
  },
  {
   "cell_type": "markdown",
   "id": "c33ccfd7-bb6d-4775-8f0e-2b60a5188cf1",
   "metadata": {},
   "source": [
    "### 무한 루프 \n",
    "#### 오류 - 마지막 증가 코드 잊지 않기\n",
    "##### 정상 동작"
   ]
  },
  {
   "cell_type": "code",
   "execution_count": 59,
   "id": "6171690c-883c-4ed5-b258-c0eebe79310e",
   "metadata": {},
   "outputs": [
    {
     "name": "stdout",
     "output_type": "stream",
     "text": [
      "17는 17의 배수\n",
      "34는 17의 배수\n",
      "51는 17의 배수\n",
      "68는 17의 배수\n",
      "85는 17의 배수\n"
     ]
    }
   ],
   "source": [
    "number = 1\n",
    "while number < 100:\n",
    "    if number % 17 == 0:\n",
    "        print(f\"{number}는 17의 배수\")\n",
    "    number += 1    "
   ]
  },
  {
   "cell_type": "markdown",
   "id": "eaf1387a-682a-4a46-bcec-d74f3c3253e4",
   "metadata": {},
   "source": [
    "##### 무한 루프"
   ]
  },
  {
   "cell_type": "code",
   "execution_count": 61,
   "id": "c9bccd16-6c62-44b1-a7cd-7fdf97baf8a4",
   "metadata": {},
   "outputs": [
    {
     "ename": "KeyboardInterrupt",
     "evalue": "",
     "output_type": "error",
     "traceback": [
      "\u001b[1;31m---------------------------------------------------------------------------\u001b[0m",
      "\u001b[1;31mKeyboardInterrupt\u001b[0m                         Traceback (most recent call last)",
      "Cell \u001b[1;32mIn[61], line 2\u001b[0m\n\u001b[0;32m      1\u001b[0m number \u001b[38;5;241m=\u001b[39m \u001b[38;5;241m1\u001b[39m\n\u001b[1;32m----> 2\u001b[0m \u001b[38;5;28;01mwhile\u001b[39;00m number \u001b[38;5;241m<\u001b[39m \u001b[38;5;241m100\u001b[39m:\n\u001b[0;32m      3\u001b[0m     \u001b[38;5;28;01mif\u001b[39;00m number \u001b[38;5;241m%\u001b[39m \u001b[38;5;241m17\u001b[39m \u001b[38;5;241m==\u001b[39m \u001b[38;5;241m0\u001b[39m:\n\u001b[0;32m      4\u001b[0m         \u001b[38;5;28mprint\u001b[39m(\u001b[38;5;124mf\u001b[39m\u001b[38;5;124m\"\u001b[39m\u001b[38;5;132;01m{\u001b[39;00mnumber\u001b[38;5;132;01m}\u001b[39;00m\u001b[38;5;124m는 17의 배수\u001b[39m\u001b[38;5;124m\"\u001b[39m)\n",
      "\u001b[1;31mKeyboardInterrupt\u001b[0m: "
     ]
    }
   ],
   "source": [
    "number = 1\n",
    "while number < 100:\n",
    "    if number % 17 == 0:\n",
    "        print(f\"{number}는 17의 배수\")"
   ]
  },
  {
   "cell_type": "markdown",
   "id": "c2b5eae3-9534-45ad-b3fb-d3e6d10e900d",
   "metadata": {},
   "source": [
    "#### 오류 - 로직 에러"
   ]
  },
  {
   "cell_type": "code",
   "execution_count": 63,
   "id": "35caa069-8d1a-4d6c-82a7-36ae4179a3cc",
   "metadata": {},
   "outputs": [
    {
     "ename": "KeyboardInterrupt",
     "evalue": "",
     "output_type": "error",
     "traceback": [
      "\u001b[1;31m---------------------------------------------------------------------------\u001b[0m",
      "\u001b[1;31mKeyboardInterrupt\u001b[0m                         Traceback (most recent call last)",
      "Cell \u001b[1;32mIn[63], line 3\u001b[0m\n\u001b[0;32m      1\u001b[0m number \u001b[38;5;241m=\u001b[39m \u001b[38;5;241m5\u001b[39m\n\u001b[0;32m      2\u001b[0m a \u001b[38;5;241m=\u001b[39m \u001b[38;5;241m0\u001b[39m\n\u001b[1;32m----> 3\u001b[0m \u001b[38;5;28;01mwhile\u001b[39;00m number \u001b[38;5;241m!=\u001b[39m \u001b[38;5;241m0\u001b[39m:\n\u001b[0;32m      4\u001b[0m     a \u001b[38;5;241m=\u001b[39m number\n\u001b[0;32m      5\u001b[0m     \u001b[38;5;66;03m# print(number)\u001b[39;00m\n",
      "\u001b[1;31mKeyboardInterrupt\u001b[0m: "
     ]
    }
   ],
   "source": [
    "number = 5\n",
    "while number != 0:\n",
    "    print(number)\n",
    "    number -= 2"
   ]
  },
  {
   "cell_type": "markdown",
   "id": "b67913c8-b199-42f9-9b4b-93dcb1d913be",
   "metadata": {},
   "source": [
    "#### 의도적 무한 루프"
   ]
  },
  {
   "cell_type": "code",
   "execution_count": 1,
   "id": "8ecce16e-2c54-42c5-84bd-a63ee36d87fd",
   "metadata": {},
   "outputs": [
    {
     "name": "stdin",
     "output_type": "stream",
     "text": [
      "\n",
      "방문해 보신 도시를 말해보세요:\n",
      "끝내려면 '-'를 입력하세요. 파리\n"
     ]
    },
    {
     "name": "stdout",
     "output_type": "stream",
     "text": [
      "저도 파리에 가보고 싶어요.\n"
     ]
    },
    {
     "name": "stdin",
     "output_type": "stream",
     "text": [
      "\n",
      "방문해 보신 도시를 말해보세요:\n",
      "끝내려면 '-'를 입력하세요. -\n"
     ]
    }
   ],
   "source": [
    "prompt = \"\\n방문해 보신 도시를 말해보세요:\"\n",
    "prompt += \"\\n끝내려면 '-'를 입력하세요.\"\n",
    "\n",
    "while True:\n",
    "    city = input(prompt)\n",
    "\n",
    "    if city == '-':\n",
    "        break\n",
    "    else:\n",
    "        print(f\"저도 {city}에 가보고 싶어요.\")"
   ]
  },
  {
   "cell_type": "markdown",
   "id": "db438cd2-4f4e-4b79-ba63-379fcec4f445",
   "metadata": {},
   "source": [
    "### while else 문"
   ]
  },
  {
   "cell_type": "code",
   "execution_count": 69,
   "id": "277eb0a2-7942-491b-be92-f2ad72e0f113",
   "metadata": {},
   "outputs": [
    {
     "name": "stdin",
     "output_type": "stream",
     "text": [
      "ID를 입력하세요 :  hello\n",
      "ID를 입력하세요 :  Mr.\n",
      "ID를 입력하세요 :  Monkey\n"
     ]
    },
    {
     "name": "stdout",
     "output_type": "stream",
     "text": [
      "3번 실패했습니다. 종료합니다.\n"
     ]
    }
   ],
   "source": [
    "max_tries = 3\n",
    "attempts = 0\n",
    "while attempts < max_tries:\n",
    "    attempts += 1\n",
    "    password = input(\"ID를 입력하세요 : \")\n",
    "    if password == 'pyclass':\n",
    "        print(\"Welcome to Python Class!\")\n",
    "        break\n",
    "else:\n",
    "    print(\"3번 실패했습니다. 종료합니다.\")       "
   ]
  }
 ],
 "metadata": {
  "kernelspec": {
   "display_name": "PythonClass",
   "language": "python",
   "name": "pyclass"
  },
  "language_info": {
   "codemirror_mode": {
    "name": "ipython",
    "version": 3
   },
   "file_extension": ".py",
   "mimetype": "text/x-python",
   "name": "python",
   "nbconvert_exporter": "python",
   "pygments_lexer": "ipython3",
   "version": "3.12.9"
  }
 },
 "nbformat": 4,
 "nbformat_minor": 5
}
