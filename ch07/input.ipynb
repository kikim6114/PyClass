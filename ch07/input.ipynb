{
 "cells": [
  {
   "attachments": {},
   "cell_type": "markdown",
   "id": "6b44dfa6-b948-4619-a803-31f9fdc02cd9",
   "metadata": {},
   "source": [
    "## 사용자 입력과 while 루프\n",
    "#### `input()` 입력 함수의 동작: `input(prompt)`\n"
   ]
  },
  {
   "cell_type": "code",
   "execution_count": 9,
   "id": "89037777-3153-4778-936a-775b43cc1003",
   "metadata": {},
   "outputs": [
    {
     "name": "stdin",
     "output_type": "stream",
     "text": [
      "성별(남=0, 여자=1) :  0\n",
      "신장(cm) :  174\n",
      "체중(Kg) :  73\n"
     ]
    }
   ],
   "source": [
    "gender = -1\n",
    "while gender < 0:\n",
    "    gender = int(input(\"성별(남=0, 여자=1) : \"))\n",
    "    # 5. 조건문\n",
    "    if gender == 0 or gender == 1:\n",
    "        height = int(input(\"신장(cm) : \"))\n",
    "        weight = int(input(\"체중(Kg) : \"))\n",
    "    else:\n",
    "        print(\"성별 입력 값을 바르게 입력하세요.\")\n",
    "        gender = -1"
   ]
  },
  {
   "attachments": {},
   "cell_type": "markdown",
   "id": "352c8ecd-7275-46ab-8ae9-bae41e16907f",
   "metadata": {},
   "source": [
    "#### 프롬프트 작성하기"
   ]
  },
  {
   "cell_type": "code",
   "execution_count": 16,
   "id": "2188ffd2-459b-4f25-80d9-dd68d3264be2",
   "metadata": {},
   "outputs": [
    {
     "name": "stdin",
     "output_type": "stream",
     "text": [
      "개인정보(성함과 전화번호)를 제공하시면 앞으로의 모든 처리가 고객님의 존함으로\n",
      "개인화되어 제공됩니다. 동의하십니까 ([Y]/n)?  Y\n"
     ]
    }
   ],
   "source": [
    "prompt = \"개인정보(성함과 전화번호)를 제공하시면 앞으로의 모든 처리가 고객님의 존함으로\"\n",
    "prompt += \"\\n개인화되어 제공됩니다. 동의하십니까 ([Y]/n)? \"\n",
    "name = input(prompt)"
   ]
  },
  {
   "cell_type": "code",
   "execution_count": 2,
   "id": "d003c9bd-f8db-415f-9238-0b987d1ce06c",
   "metadata": {},
   "outputs": [
    {
     "name": "stdout",
     "output_type": "stream",
     "text": [
      "개인정보(성함과 전화번호)를 제공하시면 앞으로의 모든 처리가 고객님의 존함으로\n"
     ]
    },
    {
     "name": "stdin",
     "output_type": "stream",
     "text": [
      "개인화되어 제공됩니다. 동의하십니까 ([Y]/n)?  Y\n"
     ]
    }
   ],
   "source": [
    "print(\"개인정보(성함과 전화번호)를 제공하시면 앞으로의 모든 처리가 고객님의 존함으로\")\n",
    "prompt = \"개인화되어 제공됩니다. 동의하십니까 ([Y]/n)? \"\n",
    "name = input(prompt)"
   ]
  },
  {
   "cell_type": "code",
   "execution_count": 15,
   "id": "50a457d8-75cf-433c-a8e9-593057a86326",
   "metadata": {},
   "outputs": [
    {
     "name": "stdin",
     "output_type": "stream",
     "text": [
      "개인정보(성함과 전화번호)를 제공하시면 앞으로의 모든 처리가 고객님의 존함으로 개인화되어 제공됩니다. 동의하십니까 ([Y]/n)?  1\n"
     ]
    }
   ],
   "source": [
    "prompt = \"개인정보(성함과 전화번호)를 제공하시면 앞으로의 모든 처리가 고객님의 존함으로 개인화되어 제공됩니다. 동의하십니까 ([Y]/n)? \"\n",
    "name = input(prompt)"
   ]
  },
  {
   "attachments": {},
   "cell_type": "markdown",
   "id": "fc579377-911e-4417-b61b-cb92954b2cd1",
   "metadata": {},
   "source": [
    "#### 정수 입력 받기\n",
    "##### 정수로 변환: `int(number=0, base)`"
   ]
  },
  {
   "cell_type": "code",
   "execution_count": 17,
   "id": "cf2dac00-6bc2-47ba-8007-d6c60511f78f",
   "metadata": {},
   "outputs": [
    {
     "name": "stdin",
     "output_type": "stream",
     "text": [
      "체중(Kg) :  240\n"
     ]
    }
   ],
   "source": [
    "weight = input(\"체중(Kg) : \")"
   ]
  },
  {
   "cell_type": "code",
   "execution_count": 18,
   "id": "e903a873-1d74-4f3a-9663-8063f9687791",
   "metadata": {},
   "outputs": [
    {
     "ename": "TypeError",
     "evalue": "'>' not supported between instances of 'str' and 'int'",
     "output_type": "error",
     "traceback": [
      "\u001b[1;31m---------------------------------------------------------------------------\u001b[0m",
      "\u001b[1;31mTypeError\u001b[0m                                 Traceback (most recent call last)",
      "Cell \u001b[1;32mIn[18], line 1\u001b[0m\n\u001b[1;32m----> 1\u001b[0m \u001b[38;5;28;01mif\u001b[39;00m weight \u001b[38;5;241m>\u001b[39m \u001b[38;5;241m200\u001b[39m:\n\u001b[0;32m      2\u001b[0m     \u001b[38;5;28mprint\u001b[39m(\u001b[38;5;124m\"\u001b[39m\u001b[38;5;124m지원하지 않습니다.\u001b[39m\u001b[38;5;124m\"\u001b[39m)\n",
      "\u001b[1;31mTypeError\u001b[0m: '>' not supported between instances of 'str' and 'int'"
     ]
    }
   ],
   "source": [
    "if weight > 200:\n",
    "    print(\"지원하지 않습니다.\")"
   ]
  },
  {
   "cell_type": "code",
   "execution_count": 19,
   "id": "bb92a7d4-0e5c-4ef1-86ff-4d44a5e2aee5",
   "metadata": {},
   "outputs": [
    {
     "name": "stdout",
     "output_type": "stream",
     "text": [
      "지원하지 않습니다.\n"
     ]
    }
   ],
   "source": [
    "weight = int(weight)\n",
    "if weight > 200:\n",
    "    print(\"지원하지 않습니다.\")"
   ]
  },
  {
   "attachments": {},
   "cell_type": "markdown",
   "id": "406c60b4-f5de-4f62-812c-f5922b4b4c3d",
   "metadata": {},
   "source": [
    "## 모듈로(Modulo) 연산자: `%`"
   ]
  },
  {
   "cell_type": "code",
   "execution_count": 3,
   "id": "bae6c9e6-9f5b-40e9-89a8-522c263e298f",
   "metadata": {},
   "outputs": [
    {
     "data": {
      "text/plain": [
       "(1, 2, 0, 1)"
      ]
     },
     "execution_count": 3,
     "metadata": {},
     "output_type": "execute_result"
    }
   ],
   "source": [
    "4 % 3, 5 % 3, 6 % 3, 7 % 3"
   ]
  },
  {
   "cell_type": "code",
   "execution_count": 4,
   "id": "940b1ce9-16ef-419f-98af-bef2228f8510",
   "metadata": {},
   "outputs": [
    {
     "data": {
      "text/plain": [
       "(1.0, -6.0)"
      ]
     },
     "execution_count": 4,
     "metadata": {},
     "output_type": "execute_result"
    }
   ],
   "source": [
    "15.0 % 7.0, 15.0 % -7.0"
   ]
  },
  {
   "cell_type": "code",
   "execution_count": 5,
   "id": "c0034702-4b66-4db0-9996-4610e88e02a8",
   "metadata": {},
   "outputs": [
    {
     "data": {
      "text/plain": [
       "(1.5, 3.0)"
      ]
     },
     "execution_count": 5,
     "metadata": {},
     "output_type": "execute_result"
    }
   ],
   "source": [
    "10.5 % 3, 10 % 3.5"
   ]
  },
  {
   "cell_type": "code",
   "execution_count": 7,
   "id": "2a11a087-beaf-4a0e-8e94-cd1400fab02e",
   "metadata": {},
   "outputs": [
    {
     "name": "stdout",
     "output_type": "stream",
     "text": [
      "2 시간 10 분\n"
     ]
    }
   ],
   "source": [
    "total_minutes = 130\n",
    "hours = total_minutes // 60\n",
    "minutes = total_minutes % 60\n",
    "print(f\"{hours} 시간 {minutes} 분\")  # 출력: 2 시간 10 분"
   ]
  },
  {
   "cell_type": "code",
   "execution_count": null,
   "id": "e6bf5a25-1c21-4853-ad91-07d4fc41c1e3",
   "metadata": {},
   "outputs": [],
   "source": []
  }
 ],
 "metadata": {
  "kernelspec": {
   "display_name": "Python 3 (ipykernel)",
   "language": "python",
   "name": "python3"
  },
  "language_info": {
   "codemirror_mode": {
    "name": "ipython",
    "version": 3
   },
   "file_extension": ".py",
   "mimetype": "text/x-python",
   "name": "python",
   "nbconvert_exporter": "python",
   "pygments_lexer": "ipython3",
   "version": "3.12.7"
  }
 },
 "nbformat": 4,
 "nbformat_minor": 5
}
