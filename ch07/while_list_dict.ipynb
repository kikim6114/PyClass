{
 "cells": [
  {
   "attachments": {},
   "cell_type": "markdown",
   "id": "d01f1925-1d28-4187-a3cc-96aa6c4bab72",
   "metadata": {},
   "source": [
    "## while 문에서 리스트와 딕셔너리 \n",
    "### 리스트를 변경해야 할 때\n",
    "#### 리스트 사용시 for 루프와 while 루프"
   ]
  },
  {
   "cell_type": "code",
   "execution_count": 2,
   "id": "3f445787-60aa-4b64-8dcd-717be6acb880",
   "metadata": {},
   "outputs": [
    {
     "name": "stdout",
     "output_type": "stream",
     "text": [
      "lily\n",
      "tulip\n",
      "rose\n",
      "daffodil\n",
      "[]\n"
     ]
    }
   ],
   "source": [
    "flowers = ['daffodil', 'rose', 'tulip', 'lily']\n",
    "while flowers:\n",
    "    flower = flowers.pop()\n",
    "    print(flower)\n",
    "print(flowers)"
   ]
  },
  {
   "cell_type": "code",
   "execution_count": 8,
   "id": "abe88f2e-ae44-464e-bda4-1ad4f0967453",
   "metadata": {},
   "outputs": [
    {
     "name": "stdout",
     "output_type": "stream",
     "text": [
      "회원 확인중: Candace\n",
      "회원 확인중: Brian\n",
      "회원 확인중: Alice\n",
      "\n",
      "다음 회원들이 확인되었습니다:\n",
      "Candace\n",
      "Brian\n",
      "Alice\n"
     ]
    }
   ],
   "source": [
    "# 미확인 회원 리스트와 확인된 회원을 옮겨 담을 빈 확인완료 리스트로 시작\n",
    "unconfirmed_users = ['alice', 'brian', 'candace']\n",
    "confirmed_users = []\n",
    "# 모든 미확인 회원을 확인한 이후 확인완료 목록으로 옮긴다.\n",
    "while unconfirmed_users:\n",
    "    current_user = unconfirmed_users.pop()\n",
    "    \n",
    "    print(\"회원 확인중: \" + current_user.title())\n",
    "    confirmed_users.append(current_user)\n",
    "    \n",
    "# 확인된 회원 전체 출력\n",
    "print(\"\\n다음 회원들이 확인되었습니다:\")\n",
    "for confirmed_user in confirmed_users:\n",
    "    print(confirmed_user.title())"
   ]
  },
  {
   "attachments": {},
   "cell_type": "markdown",
   "id": "5b1e5db1-0de3-4445-a56d-24198e18eb6a",
   "metadata": {},
   "source": [
    "#### 리스트에서 특정 값을 갖는 원소들을 모두 제거"
   ]
  },
  {
   "cell_type": "code",
   "execution_count": 10,
   "id": "3b4372c2-88df-4667-a682-3c9ba3800b85",
   "metadata": {},
   "outputs": [
    {
     "name": "stdout",
     "output_type": "stream",
     "text": [
      "['dog', 'cat', 'dog', 'goldfish', 'cat', 'rabbit', 'cat']\n",
      "['dog', 'dog', 'goldfish', 'rabbit']\n"
     ]
    }
   ],
   "source": [
    "pets = ['dog', 'cat', 'dog', 'goldfish', 'cat', 'rabbit', 'cat']\n",
    "print(pets)\n",
    "while 'cat' in pets:\n",
    "    pets.remove('cat')\n",
    "    \n",
    "print(pets)"
   ]
  },
  {
   "cell_type": "markdown",
   "id": "d6dd4dcc-0362-4fc9-a40c-5b913e2abbed",
   "metadata": {},
   "source": [
    "##### for 문으로도 코딩할 수 있다"
   ]
  },
  {
   "cell_type": "code",
   "execution_count": 13,
   "id": "932e43ca-9151-45b4-b717-c4c5d541a553",
   "metadata": {},
   "outputs": [
    {
     "name": "stdout",
     "output_type": "stream",
     "text": [
      "['dog', 'cat', 'dog', 'goldfish', 'cat', 'rabbit', 'cat']\n",
      "['dog', 'dog', 'goldfish', 'rabbit']\n"
     ]
    }
   ],
   "source": [
    "pets = ['dog', 'cat', 'dog', 'goldfish', 'cat', 'rabbit', 'cat']\n",
    "print(pets)\n",
    "for pet in pets:\n",
    "    if pet == 'cat':\n",
    "        pets.remove(pet)\n",
    "\n",
    "print(pets)"
   ]
  },
  {
   "cell_type": "markdown",
   "id": "acc0bd63-f5c0-4c48-a4aa-024d8a665604",
   "metadata": {},
   "source": [
    "#### 사용자 입력으로 딕셔너리 채우기"
   ]
  },
  {
   "cell_type": "code",
   "execution_count": 20,
   "id": "9a8f119a-da8e-4fce-a2c3-f549ef5bb974",
   "metadata": {},
   "outputs": [
    {
     "name": "stdin",
     "output_type": "stream",
     "text": [
      "\n",
      "성함을 알려주세요  김광일\n",
      "앞으로 등산하고 싶은 산은 무슨 산인가요?  한라산\n",
      "이 조사를 위해 다른 분을 소개해 주시겠습니까? (yes/ no)  no\n"
     ]
    },
    {
     "name": "stdout",
     "output_type": "stream",
     "text": [
      "\n",
      "--- 설문 조사 결과 ---\n",
      "김광일 님은 한라산을 등산하고 싶어합니다.\n"
     ]
    }
   ],
   "source": [
    "responses = {}\n",
    "polling_active = True  # 설문조사가 active한 상태라는 것을 알리는 플래그 변수 설정\n",
    "\n",
    "while polling_active:\n",
    "    name = input(\"\\n성함을 알려주세요 \")\n",
    "    response = input(\"앞으로 등산하고 싶은 산은 무슨 산인가요? \")\n",
    "    responses[name] = response  # 응답을 딕셔너리에 저장\n",
    "    repeat = input(\"이 조사를 위해 다른 분을 소개해 주시겠습니까? (yes/ no) \")\n",
    "    if repeat == 'no':\n",
    "        polling_active = False\n",
    "        \n",
    "print(\"\\n--- 설문 조사 결과 ---\")\n",
    "for name, response in responses.items():\n",
    "    print(name + \" 님은 \" + response + \"을 등산하고 싶어합니다.\")"
   ]
  },
  {
   "cell_type": "code",
   "execution_count": null,
   "id": "f0de2c5a-2d5b-47df-9109-b1f2302fcf3b",
   "metadata": {},
   "outputs": [],
   "source": []
  },
  {
   "cell_type": "code",
   "execution_count": null,
   "id": "06c70977-0d8c-4d0f-ab8e-613b5e2cb421",
   "metadata": {},
   "outputs": [],
   "source": []
  }
 ],
 "metadata": {
  "kernelspec": {
   "display_name": "PythonClass",
   "language": "python",
   "name": "pyclass"
  },
  "language_info": {
   "codemirror_mode": {
    "name": "ipython",
    "version": 3
   },
   "file_extension": ".py",
   "mimetype": "text/x-python",
   "name": "python",
   "nbconvert_exporter": "python",
   "pygments_lexer": "ipython3",
   "version": "3.12.9"
  }
 },
 "nbformat": 4,
 "nbformat_minor": 5
}
