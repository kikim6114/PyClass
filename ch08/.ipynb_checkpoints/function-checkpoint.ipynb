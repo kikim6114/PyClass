{
 "cells": [
  {
   "cell_type": "markdown",
   "id": "b3e2ac14-6424-4b5e-b362-c3458748da1f",
   "metadata": {},
   "source": [
    "## 함수의 정의\n",
    "### 함수란?"
   ]
  },
  {
   "cell_type": "code",
   "execution_count": 8,
   "id": "a13b28d7-370b-4847-a2ca-6651f56a2611",
   "metadata": {},
   "outputs": [
    {
     "name": "stdout",
     "output_type": "stream",
     "text": [
      "안녕!\n"
     ]
    }
   ],
   "source": [
    "def say_hello():\n",
    "    \"\"\"인사하기\"\"\"\n",
    "    print(\"안녕!\")\n",
    "\n",
    "say_hello()"
   ]
  },
  {
   "attachments": {},
   "cell_type": "markdown",
   "id": "54bbd400-d8ad-4d18-8338-a44fc5c1f470",
   "metadata": {},
   "source": [
    "### 정보를 함수에 전달하기"
   ]
  },
  {
   "cell_type": "code",
   "execution_count": 9,
   "id": "802ef2e3-2086-49b5-9f7e-f78bd55c9fbf",
   "metadata": {},
   "outputs": [
    {
     "name": "stdout",
     "output_type": "stream",
     "text": [
      "안녕, 찬호!\n"
     ]
    }
   ],
   "source": [
    "def say_hello(username):\n",
    "    \"\"\"인사하기\"\"\"\n",
    "    print(f\"안녕, {username}!\")\n",
    "\n",
    "say_hello('찬호')"
   ]
  },
  {
   "cell_type": "markdown",
   "id": "e9c64ced-bde1-4910-9003-10c12e02eb04",
   "metadata": {},
   "source": [
    "## 위치 인수"
   ]
  },
  {
   "cell_type": "code",
   "execution_count": 67,
   "id": "5096bab1-eff1-4cb3-83be-c2cbd578e016",
   "metadata": {},
   "outputs": [
    {
     "name": "stdout",
     "output_type": "stream",
     "text": [
      "소년이 온다 / 한강 / 2014년 / 15,000원\n",
      "스토너 / 존윌리엄스 / 2015년 / 16,800원\n"
     ]
    }
   ],
   "source": [
    "def best_sellers(book_title, author, year, price):\n",
    "    \"\"\"베스트셀러 소설에 대한 정보 표시\"\"\"\n",
    "    print(f\"{book_title} / {author} / {year}년 / {price:,}원\")\n",
    "\n",
    "best_sellers('소년이 온다', '한강', 2014, 15000)\n",
    "best_sellers('스토너', '존윌리엄스', 2015, 16800)"
   ]
  },
  {
   "attachments": {},
   "cell_type": "markdown",
   "id": "eac65aaf-2b72-434b-8b1a-db10de7f19d9",
   "metadata": {},
   "source": [
    "### 위치 인수는 순서가 중요!"
   ]
  },
  {
   "cell_type": "code",
   "execution_count": 55,
   "id": "5fd3c362-f7f2-47e5-843c-ab790cda190d",
   "metadata": {},
   "outputs": [
    {
     "name": "stdout",
     "output_type": "stream",
     "text": [
      "소년이 온다 / 한강 / 15000년 / 2,014원\n",
      "스토너 / 존윌리엄스 / 16800년 / 2,015원\n"
     ]
    }
   ],
   "source": [
    "def best_sellers(book_title, author, year, price):\n",
    "    \"\"\"베스트셀러 소설에 대한 정보 표시\"\"\"\n",
    "    print(f\"{book_title} / {author} / {year}년 / {price:,}원\")\n",
    "\n",
    "best_sellers('소년이 온다', '한강', 15000, 2014)\n",
    "best_sellers('스토너', '존윌리엄스', 16800, 2015)"
   ]
  },
  {
   "cell_type": "markdown",
   "id": "6f8229b5-b8e5-4e85-8ac8-ebc213322b40",
   "metadata": {},
   "source": [
    "#### 인수 누락 오류"
   ]
  },
  {
   "cell_type": "code",
   "execution_count": 2,
   "id": "18fbb117-6dab-4720-ac7b-7f3c548e9b00",
   "metadata": {},
   "outputs": [
    {
     "ename": "TypeError",
     "evalue": "best_sellers() missing 1 required positional argument: 'price'",
     "output_type": "error",
     "traceback": [
      "\u001b[1;31m---------------------------------------------------------------------------\u001b[0m",
      "\u001b[1;31mTypeError\u001b[0m                                 Traceback (most recent call last)",
      "Cell \u001b[1;32mIn[2], line 5\u001b[0m\n\u001b[0;32m      2\u001b[0m \u001b[38;5;250m    \u001b[39m\u001b[38;5;124;03m\"\"\"베스트셀러 소설에 대한 정보 표시\"\"\"\u001b[39;00m\n\u001b[0;32m      3\u001b[0m     \u001b[38;5;28mprint\u001b[39m(\u001b[38;5;124mf\u001b[39m\u001b[38;5;124m\"\u001b[39m\u001b[38;5;132;01m{\u001b[39;00mbook_title\u001b[38;5;132;01m}\u001b[39;00m\u001b[38;5;124m / \u001b[39m\u001b[38;5;132;01m{\u001b[39;00mauthor\u001b[38;5;132;01m}\u001b[39;00m\u001b[38;5;124m / \u001b[39m\u001b[38;5;132;01m{\u001b[39;00myear\u001b[38;5;132;01m}\u001b[39;00m\u001b[38;5;124m년 / \u001b[39m\u001b[38;5;132;01m{\u001b[39;00mprice\u001b[38;5;132;01m:\u001b[39;00m\u001b[38;5;124m,\u001b[39m\u001b[38;5;132;01m}\u001b[39;00m\u001b[38;5;124m원\u001b[39m\u001b[38;5;124m\"\u001b[39m)\n\u001b[1;32m----> 5\u001b[0m best_sellers(\u001b[38;5;124m'\u001b[39m\u001b[38;5;124m소년이 온다\u001b[39m\u001b[38;5;124m'\u001b[39m, \u001b[38;5;124m'\u001b[39m\u001b[38;5;124m한강\u001b[39m\u001b[38;5;124m'\u001b[39m, \u001b[38;5;241m15000\u001b[39m)\n",
      "\u001b[1;31mTypeError\u001b[0m: best_sellers() missing 1 required positional argument: 'price'"
     ]
    }
   ],
   "source": [
    "def best_sellers(book_title, author, year, price):\n",
    "    \"\"\"베스트셀러 소설에 대한 정보 표시\"\"\"\n",
    "    print(f\"{book_title} / {author} / {year}년 / {price:,}원\")\n",
    "\n",
    "best_sellers('소년이 온다', '한강', 15000)"
   ]
  },
  {
   "cell_type": "markdown",
   "id": "f6c869ed-26c6-4eb2-b63d-dbc6c5a1b523",
   "metadata": {},
   "source": [
    "### 키워드 인수(Keyword Arguments)"
   ]
  },
  {
   "cell_type": "code",
   "execution_count": 56,
   "id": "f3bcad56-37cc-4723-8ab3-8c1bbdd528cd",
   "metadata": {},
   "outputs": [
    {
     "name": "stdout",
     "output_type": "stream",
     "text": [
      "소년이 온다 / 한강 / 2014년 / 15,000원\n",
      "스토너 / 존윌리엄스 / 2015년 / 16,800원\n"
     ]
    }
   ],
   "source": [
    "def best_sellers(book_title, author, year, price):\n",
    "    \"\"\"베스트셀러 소설에 대한 정보 표시\"\"\"\n",
    "    print(f\"{book_title} / {author} / {year}년 / {price:,}원\")\n",
    "\n",
    "best_sellers(book_title='소년이 온다', author='한강', year=2014, price=15000)\n",
    "best_sellers(book_title='스토너', author='존윌리엄스', year=2015, price=16800)"
   ]
  },
  {
   "cell_type": "markdown",
   "id": "1127270b-7825-4ec3-807f-6aa57f77aff2",
   "metadata": {},
   "source": [
    "### 기본값(Default Value)"
   ]
  },
  {
   "cell_type": "code",
   "execution_count": 60,
   "id": "bd901361-d89e-4197-87b4-9b8dc3aab104",
   "metadata": {},
   "outputs": [
    {
     "name": "stdout",
     "output_type": "stream",
     "text": [
      "소년이 온다 / 한강 / 2014년 / 15,000원\n",
      "모순 / 양귀자 / 2014년 / 10,000원\n"
     ]
    }
   ],
   "source": [
    "def best_sellers(book_title, author, year=2025, price=10000):\n",
    "    \"\"\"베스트셀러 소설에 대한 정보 표시\"\"\"\n",
    "    print(f\"{book_title} / {author} / {year}년 / {price:,}원\")\n",
    "\n",
    "best_sellers('소년이 온다', '한강', 2014, price=15000)\n",
    "best_sellers('모순', '양귀자', 2014)"
   ]
  },
  {
   "attachments": {},
   "cell_type": "markdown",
   "id": "07bc44dd-8cd9-4d0f-84e3-12f410e997f6",
   "metadata": {},
   "source": [
    "#### 기본값이 있을 때, 인수 사용법"
   ]
  },
  {
   "cell_type": "code",
   "execution_count": 61,
   "id": "87759566-07a4-4936-8c43-e9670017ffaf",
   "metadata": {},
   "outputs": [],
   "source": [
    "def best_sellers(book_title, author, year=2025, price=10000):\n",
    "    \"\"\"베스트셀러 소설에 대한 정보 표시\"\"\"\n",
    "    print(f\"{book_title} / {author} / {year}년 / {price:,}원\")"
   ]
  },
  {
   "cell_type": "code",
   "execution_count": 62,
   "id": "c2ef9334-f9e5-4d67-b2e3-84d92408718f",
   "metadata": {},
   "outputs": [
    {
     "name": "stdout",
     "output_type": "stream",
     "text": [
      "소년이 온다 / 한강 / 2014년 / 15,000원\n",
      "소년이 온다 / 한강 / 2025년 / 15,000원\n",
      "소년이 온다 / 한강 / 2014년 / 10,000원\n",
      "소년이 온다 / 한강 / 2025년 / 10,000원\n"
     ]
    }
   ],
   "source": [
    "best_sellers('소년이 온다', '한강', 2014, 15000)\n",
    "best_sellers('소년이 온다', '한강', price=15000)\n",
    "best_sellers('소년이 온다', '한강', year=2014)\n",
    "best_sellers('소년이 온다', '한강')"
   ]
  },
  {
   "cell_type": "markdown",
   "id": "76e69e08-b3a9-49f0-a9d9-87769cc68831",
   "metadata": {},
   "source": [
    "### 인수 오류 피하기"
   ]
  },
  {
   "cell_type": "code",
   "execution_count": 69,
   "id": "9b8174bf-49e7-4c89-b70f-a0613fc6f2e9",
   "metadata": {},
   "outputs": [],
   "source": [
    "def best_sellers(book_title, author, year=2025, price=10000):\n",
    "    \"\"\"베스트셀러 소설에 대한 정보 표시\"\"\"\n",
    "    print(f\"{book_title} / {author} / {year}년 / {price}원\")"
   ]
  },
  {
   "cell_type": "code",
   "execution_count": 70,
   "id": "878f334b-c36b-4395-aaac-3d36218012a8",
   "metadata": {},
   "outputs": [
    {
     "ename": "SyntaxError",
     "evalue": "positional argument follows keyword argument (2918596420.py, line 1)",
     "output_type": "error",
     "traceback": [
      "\u001b[1;36m  Cell \u001b[1;32mIn[70], line 1\u001b[1;36m\u001b[0m\n\u001b[1;33m    best_sellers('소년이 온다', '한강', year=2014, 15000)\u001b[0m\n\u001b[1;37m                                                 ^\u001b[0m\n\u001b[1;31mSyntaxError\u001b[0m\u001b[1;31m:\u001b[0m positional argument follows keyword argument\n"
     ]
    }
   ],
   "source": [
    "best_sellers('소년이 온다', '한강', year=2014, 15000)"
   ]
  },
  {
   "cell_type": "code",
   "execution_count": 71,
   "id": "c1525946-89bc-4cb3-9b92-8b53558c8fed",
   "metadata": {},
   "outputs": [
    {
     "ename": "TypeError",
     "evalue": "best_sellers() missing 1 required positional argument: 'author'",
     "output_type": "error",
     "traceback": [
      "\u001b[1;31m---------------------------------------------------------------------------\u001b[0m",
      "\u001b[1;31mTypeError\u001b[0m                                 Traceback (most recent call last)",
      "Cell \u001b[1;32mIn[71], line 1\u001b[0m\n\u001b[1;32m----> 1\u001b[0m best_sellers(\u001b[38;5;124m'\u001b[39m\u001b[38;5;124m소년이 온다\u001b[39m\u001b[38;5;124m'\u001b[39m, year\u001b[38;5;241m=\u001b[39m\u001b[38;5;241m2014\u001b[39m, price\u001b[38;5;241m=\u001b[39m\u001b[38;5;241m15000\u001b[39m)\n",
      "\u001b[1;31mTypeError\u001b[0m: best_sellers() missing 1 required positional argument: 'author'"
     ]
    }
   ],
   "source": [
    "best_sellers('소년이 온다', year=2014, price=15000)"
   ]
  },
  {
   "cell_type": "markdown",
   "id": "0c985bda-12b0-4d61-8120-7ab147f8c584",
   "metadata": {},
   "source": [
    "## 값의 반환\n",
    "### 단순 형태"
   ]
  },
  {
   "cell_type": "code",
   "execution_count": 42,
   "id": "2f2b85e3-b1b6-4780-bbe6-e5a4040b02bb",
   "metadata": {},
   "outputs": [
    {
     "name": "stdout",
     "output_type": "stream",
     "text": [
      "Jimi Hendrix\n"
     ]
    }
   ],
   "source": [
    "def get_formatted_name(first_name, last_name):\n",
    "    \"\"\"Return a full name, neatly formatted.\"\"\"\n",
    "    full_name = f\"{first_name} {last_name}\"\n",
    "    return full_name.title()\n",
    "\n",
    "musician = get_formatted_name('jimi', 'hendrix')\n",
    "print(musician)"
   ]
  },
  {
   "cell_type": "markdown",
   "id": "3a8ab3a5-b0a8-48ad-8b91-8b466460f0d8",
   "metadata": {},
   "source": [
    "#### 선택적 인수 만들기"
   ]
  },
  {
   "cell_type": "code",
   "execution_count": 47,
   "id": "e40b171f-3bfe-4718-ae0f-2a997feb9f31",
   "metadata": {},
   "outputs": [
    {
     "name": "stdout",
     "output_type": "stream",
     "text": [
      "Jimi  Hendrix\n",
      "John Lee Hooker\n"
     ]
    }
   ],
   "source": [
    "def get_formatted_name(first_name, middle_name, last_name):\n",
    "    \"\"\"Return a full name, neatly formatted.\"\"\"\n",
    "    full_name = f\"{first_name} {middle_name} {last_name}\"\n",
    "    return full_name.title()\n",
    "\n",
    "musician = get_formatted_name('jimi', '', 'hendrix')\n",
    "print(musician)\n",
    "musician = get_formatted_name('john', 'lee', 'hooker')\n",
    "print(musician)"
   ]
  },
  {
   "cell_type": "markdown",
   "id": "28e7e6a3-1d5d-4ea8-ba1e-2501f6f93d70",
   "metadata": {},
   "source": [
    "##### `middle_name=''` 로 전달하는 방법\n",
    "- 이름 사이의 공간이 어색하다."
   ]
  },
  {
   "cell_type": "code",
   "execution_count": 45,
   "id": "af5888e5-e4e5-46d6-af65-355e0713d0ec",
   "metadata": {},
   "outputs": [
    {
     "name": "stdout",
     "output_type": "stream",
     "text": [
      "John  Hooker\n"
     ]
    }
   ],
   "source": [
    "musician = get_formatted_name('john', '', 'hooker')\n",
    "print(musician)"
   ]
  },
  {
   "cell_type": "markdown",
   "id": "a9e62334-d119-4257-a0aa-b3499366819e",
   "metadata": {},
   "source": [
    "##### `middle_name`에 기본값 `''`를 적용하자"
   ]
  },
  {
   "cell_type": "code",
   "execution_count": 65,
   "id": "59d917b6-7cb6-4ab3-8c4e-a7477aefb96e",
   "metadata": {},
   "outputs": [
    {
     "name": "stdout",
     "output_type": "stream",
     "text": [
      "Jimi Hendrix\n",
      "John Hooker Lee\n"
     ]
    }
   ],
   "source": [
    "def get_formatted_name(first_name, last_name, middle_name=''):\n",
    "    \"\"\"Return a full name, neatly formatted.\"\"\"\n",
    "    if middle_name:\n",
    "        full_name = f\"{first_name} {middle_name} {last_name}\"\n",
    "    else:\n",
    "        full_name = f\"{first_name} {last_name}\"\n",
    "    return full_name.title()\n",
    "\n",
    "musician = get_formatted_name('jimi', 'hendrix')\n",
    "print(musician)\n",
    "musician = get_formatted_name('john', 'lee', 'hooker')\n",
    "print(musician)"
   ]
  },
  {
   "cell_type": "markdown",
   "id": "e0a0dec4-be85-4579-876e-f5e7be3b1d97",
   "metadata": {},
   "source": [
    "#### 딕셔너리 반환"
   ]
  },
  {
   "cell_type": "code",
   "execution_count": 72,
   "id": "b30cdb2b-1c07-41f0-a094-1eefcba10a9e",
   "metadata": {},
   "outputs": [
    {
     "name": "stdout",
     "output_type": "stream",
     "text": [
      "{'title': '소년이 온다', 'author': '한강', 'year': 2014, 'price': 15000}\n",
      "{'title': '모순', 'author': '양귀자', 'year': 2014, 'price': 10000}\n"
     ]
    }
   ],
   "source": [
    "def best_sellers(book_title, author, year=2025, price=10000):\n",
    "    \"\"\"베스트셀러 소설에 대한 정보 표시\"\"\"\n",
    "    book = {'title': book_title, 'author': author, 'year': year, 'price': price}\n",
    "    return book\n",
    "\n",
    "book = best_sellers('소년이 온다', '한강', 2014, price=15000)\n",
    "print(book)\n",
    "book = best_sellers('모순', '양귀자', 2014)\n",
    "print(book)"
   ]
  },
  {
   "attachments": {},
   "cell_type": "markdown",
   "id": "4b58c6a5-ef64-493a-a545-4c54cbc9e635",
   "metadata": {},
   "source": [
    "#### 출판사 정보가 있는 경우와 없는 경우가 있다면: "
   ]
  },
  {
   "cell_type": "code",
   "execution_count": 73,
   "id": "dc693a28-959d-43bc-8e6d-6471329d8730",
   "metadata": {},
   "outputs": [
    {
     "name": "stdout",
     "output_type": "stream",
     "text": [
      "{'title': '소년이 온다', 'author': '한강', 'year': 2014, 'price': 15000}\n",
      "{'title': '모순', 'author': '양귀자', 'year': 2014, 'price': 10000, 'publisher': '쓰다'}\n"
     ]
    }
   ],
   "source": [
    "def best_sellers(book_title, author, year=2025, price=10000, publisher=None):\n",
    "    \"\"\"베스트셀러 소설에 대한 정보 표시\"\"\"\n",
    "    book = {'title': book_title, 'author': author, 'year': year, 'price': price}\n",
    "    if publisher:\n",
    "        book['publisher'] = publisher\n",
    "    return book\n",
    "\n",
    "book = best_sellers('소년이 온다', '한강', 2014, price=15000)\n",
    "print(book)\n",
    "book = best_sellers('모순', '양귀자', 2014, publisher='쓰다')\n",
    "print(book)"
   ]
  },
  {
   "attachments": {},
   "cell_type": "markdown",
   "id": "26f7b086-2be0-457a-a342-566b015684e7",
   "metadata": {},
   "source": [
    "#### 파이썬의 모든 구조에서 함수를 사용할 수 있다\n",
    "##### 탈출 조건이 없다!"
   ]
  },
  {
   "cell_type": "code",
   "execution_count": null,
   "id": "984cae16-4d86-45ea-a3b9-e86d783465ba",
   "metadata": {},
   "outputs": [],
   "source": [
    "def get_formatted_name(first_name, last_name):\n",
    "    \"\"\"Return a full name, neatly formatted.\"\"\"\n",
    "    full_name = f\"{first_name} {last_name}\"\n",
    "    return full_name.title()\n",
    "\n",
    "# 무한루프다!\n",
    "while True:\n",
    "    print(\"\\nPlease tell me your name:\")\n",
    "    f_name = input(\"First name: \")\n",
    "    l_name = input(\"Last name: \")\n",
    "    formatted_name = get_formatted_name(f_name, l_name)\n",
    "    print(f\"\\nHello, {formatted_name}!\")"
   ]
  },
  {
   "cell_type": "markdown",
   "id": "ff505442-d747-4120-ae36-200824c84ae7",
   "metadata": {},
   "source": [
    "##### 언제라도 그만둘 수 있도록 고쳐보자."
   ]
  },
  {
   "cell_type": "code",
   "execution_count": 76,
   "id": "cdb4a4ed-585e-4618-bc48-d856fb50d7c6",
   "metadata": {},
   "outputs": [
    {
     "name": "stdout",
     "output_type": "stream",
     "text": [
      "\n",
      "Please tell me your name (enter 'q' at any time to quit) :\n"
     ]
    },
    {
     "name": "stdin",
     "output_type": "stream",
     "text": [
      "First name:  kwangil\n",
      "Last name:  kim\n"
     ]
    },
    {
     "name": "stdout",
     "output_type": "stream",
     "text": [
      "Hello, Kwangil Kim!\n",
      "\n",
      "Please tell me your name (enter 'q' at any time to quit) :\n"
     ]
    },
    {
     "name": "stdin",
     "output_type": "stream",
     "text": [
      "First name:  q\n"
     ]
    }
   ],
   "source": [
    "def get_formatted_name(first_name, last_name):\n",
    "    \"\"\"Return a full name, neatly formatted.\"\"\"\n",
    "    full_name = f\"{first_name} {last_name}\"\n",
    "    return full_name.title()\n",
    "\n",
    "while True:\n",
    "    print(\"\\nPlease tell me your name (enter 'q' at any time to quit) :\")\n",
    "    f_name = input(\"First name: \")\n",
    "    if f_name == 'q':\n",
    "        break\n",
    "    l_name = input(\"Last name: \")\n",
    "    if l_name == 'q':\n",
    "        break\n",
    "    formatted_name = get_formatted_name(f_name, l_name)\n",
    "    print(f\"Hello, {formatted_name}!\")"
   ]
  },
  {
   "cell_type": "markdown",
   "id": "9509cc8e-8450-4fdb-b531-75ec2011c7db",
   "metadata": {},
   "source": [
    "### 리스트 전달\n",
    "#### 리스트 인수 사용하기"
   ]
  },
  {
   "cell_type": "code",
   "execution_count": 78,
   "id": "2cf0eeb7-dc71-4a6b-b369-77cc22bd4e4f",
   "metadata": {},
   "outputs": [
    {
     "name": "stdout",
     "output_type": "stream",
     "text": [
      "안녕, 찬호!\n",
      "안녕, 진영!\n",
      "안녕, 인규!\n"
     ]
    }
   ],
   "source": [
    "def greet_users(names):\n",
    "    \"\"\"리스트에 있는 각 사용자에게 인사말을 출력한다.\"\"\"\n",
    "    for name in names:\n",
    "        msg = f\"안녕, {name}!\"\n",
    "        print(msg)\n",
    "\n",
    "usernames = ['찬호', '진영', '인규']\n",
    "greet_users(usernames)"
   ]
  },
  {
   "cell_type": "markdown",
   "id": "0914ecd0-79dd-4a1c-8943-e6d77d57c19e",
   "metadata": {},
   "source": [
    "#### 함수에서 리스트 변경하기"
   ]
  },
  {
   "cell_type": "code",
   "execution_count": 81,
   "id": "5f076ff1-4b93-4174-956c-60660c0bc760",
   "metadata": {},
   "outputs": [
    {
     "name": "stdout",
     "output_type": "stream",
     "text": [
      "Printing model: dodecahedron\n",
      "Printing model: robot pendant\n",
      "Printing model: phone case\n",
      "\n",
      "The following models have been printed:\n",
      "dodecahedron\n",
      "robot pendant\n",
      "phone case\n"
     ]
    }
   ],
   "source": [
    "# 3D 프린팅이 필요한 몇개의 설계도부터 시작한다.\n",
    "unprinted_designs = ['phone case', 'robot pendant', 'dodecahedron']\n",
    "completed_models = []\n",
    "\n",
    "# 각 설계도에 대한 3D 출력 시뮬레이션을 남은 도면이 없을 때까지 한다. \n",
    "# 3D 출력 후에는 각 설계도를 completed_models 리스트로 옮긴다.\n",
    "while unprinted_designs:\n",
    "    current_design = unprinted_designs.pop()\n",
    "    print(f\"Printing model: {current_design}\")\n",
    "    completed_models.append(current_design)\n",
    "\n",
    "# 완료된 모든 모델들을 출력한다.\n",
    "print(\"\\nThe following models have been printed:\")\n",
    "for completed_model in completed_models:\n",
    "    print(completed_model)"
   ]
  },
  {
   "cell_type": "code",
   "execution_count": null,
   "id": "cc2f2a4c-a5f8-4a22-a1c9-d77595be8f0f",
   "metadata": {},
   "outputs": [],
   "source": []
  },
  {
   "cell_type": "code",
   "execution_count": 84,
   "id": "769e8259-0820-4787-8c5e-a26d11726d87",
   "metadata": {},
   "outputs": [],
   "source": [
    "def print_models(unprinted_designs, completed_models):\n",
    "    \"\"\"\n",
    "    Simulate printing each design, until none are left.\n",
    "    Move each design to completed_models after printing.\n",
    "    \"\"\"\n",
    "    while unprinted_designs:\n",
    "        current_design = unprinted_designs.pop()\n",
    "        print(f\"Printing model: {current_design}\")\n",
    "        completed_models.append(current_design)"
   ]
  },
  {
   "cell_type": "code",
   "execution_count": 85,
   "id": "5384f4b3-d252-474d-9a04-d6cac6c4e9bc",
   "metadata": {},
   "outputs": [],
   "source": [
    "def show_completed_models(completed_models):\n",
    "    \"\"\"Show all the models that were printed.\"\"\"\n",
    "    print(\"\\nThe following models have been printed:\")\n",
    "    for completed_model in completed_models:\n",
    "        print(completed_model)"
   ]
  },
  {
   "cell_type": "code",
   "execution_count": 86,
   "id": "c8439110-524e-4494-9ba6-f1a63d20ff00",
   "metadata": {},
   "outputs": [
    {
     "name": "stdout",
     "output_type": "stream",
     "text": [
      "Printing model: dodecahedron\n",
      "Printing model: robot pendant\n",
      "Printing model: phone case\n",
      "\n",
      "The following models have been printed:\n",
      "dodecahedron\n",
      "robot pendant\n",
      "phone case\n"
     ]
    }
   ],
   "source": [
    "unprinted_designs = ['phone case', 'robot pendant', 'dodecahedron']\n",
    "completed_models = []\n",
    "print_models(unprinted_designs, completed_models)\n",
    "show_completed_models(completed_models)"
   ]
  },
  {
   "cell_type": "code",
   "execution_count": null,
   "id": "6040c708-d87a-408f-adb6-7a9716fec688",
   "metadata": {},
   "outputs": [],
   "source": []
  }
 ],
 "metadata": {
  "kernelspec": {
   "display_name": "PythonClass",
   "language": "python",
   "name": "pyclass"
  },
  "language_info": {
   "codemirror_mode": {
    "name": "ipython",
    "version": 3
   },
   "file_extension": ".py",
   "mimetype": "text/x-python",
   "name": "python",
   "nbconvert_exporter": "python",
   "pygments_lexer": "ipython3",
   "version": "3.12.9"
  }
 },
 "nbformat": 4,
 "nbformat_minor": 5
}
