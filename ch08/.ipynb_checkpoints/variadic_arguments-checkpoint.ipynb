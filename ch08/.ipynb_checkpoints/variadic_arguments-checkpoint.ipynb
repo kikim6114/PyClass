{
 "cells": [
  {
   "cell_type": "markdown",
   "id": "57c5d653-8fa3-4ca8-8886-9f1078bb5763",
   "metadata": {},
   "source": [
    "## 가변 인수가 필요한 경우"
   ]
  },
  {
   "cell_type": "code",
   "execution_count": 1,
   "id": "fe2681f9-a2c6-47bc-bc04-1939a756e34b",
   "metadata": {},
   "outputs": [
    {
     "name": "stdout",
     "output_type": "stream",
     "text": [
      "3.0\n"
     ]
    }
   ],
   "source": [
    "def average(data):\n",
    "    total = 0\n",
    "    for i in data:\n",
    "        total += i\n",
    "    return total/len(data)\n",
    "\n",
    "seq_data = [1, 2, 3, 4, 5]\n",
    "print(average(seq_data))"
   ]
  },
  {
   "cell_type": "markdown",
   "id": "de2ab32f-eb53-4c0d-a065-7c1f006ca986",
   "metadata": {},
   "source": [
    "#### 튜플 패킹"
   ]
  },
  {
   "cell_type": "code",
   "execution_count": 4,
   "id": "cb2528ec-8ec3-4189-9d78-b6e257a0a909",
   "metadata": {},
   "outputs": [
    {
     "name": "stdout",
     "output_type": "stream",
     "text": [
      "('소년이 온다', '한강', 2014, 15000)\n",
      "('스토너', '존윌리엄스')\n"
     ]
    }
   ],
   "source": [
    "def best_sellers(*books):\n",
    "    \"\"\"베스트셀러 소설에 대한 정보 표시\"\"\"\n",
    "    print(books)\n",
    "\n",
    "best_sellers('소년이 온다', '한강', 2014, 15000)\n",
    "best_sellers('스토너', '존윌리엄스')"
   ]
  },
  {
   "cell_type": "markdown",
   "id": "4134435b-2145-449a-b70b-107e7327d5e4",
   "metadata": {},
   "source": [
    "#### 튜플 언패킹"
   ]
  },
  {
   "cell_type": "code",
   "execution_count": 6,
   "id": "ea210c24-ff65-4eb6-b5d5-42262640c025",
   "metadata": {},
   "outputs": [
    {
     "name": "stdout",
     "output_type": "stream",
     "text": [
      "소년이 온다 / 한강 / 2014년 / 15,000원\n",
      "스토너 / 존윌리엄스 / 2025년 / 10,000원\n"
     ]
    }
   ],
   "source": [
    "def best_sellers(book_title, author, year=2025, price=10000):\n",
    "    \"\"\"베스트셀러 소설에 대한 정보 표시\"\"\"\n",
    "    print(f\"{book_title} / {author} / {year}년 / {price:,}원\")\n",
    "\n",
    "book = ('소년이 온다', '한강', 2014, 15000)\n",
    "best_sellers(*book)\n",
    "book = ('스토너', '존윌리엄스')\n",
    "best_sellers(*book)"
   ]
  },
  {
   "cell_type": "markdown",
   "id": "334f47d2-d2e2-4b9f-8a4c-5349b1cfb5f8",
   "metadata": {},
   "source": [
    "#### 위치 인수와 가변 인수의 혼합"
   ]
  },
  {
   "cell_type": "code",
   "execution_count": 7,
   "id": "ce9126b9-a8ed-448b-aa5c-b4490bd09907",
   "metadata": {},
   "outputs": [
    {
     "name": "stdout",
     "output_type": "stream",
     "text": [
      "소년이 온다 : \n",
      "- 한강\n",
      "- 2014\n",
      "- 15000\n",
      "스토너 : \n",
      "- 존윌리엄스\n"
     ]
    }
   ],
   "source": [
    "def best_sellers(book_title, *details):\n",
    "    \"\"\"베스트셀러 소설에 대한 정보 표시\"\"\"\n",
    "    print(f\"{book_title} : \")\n",
    "    for data in details:\n",
    "        print(f\"- {data}\")\n",
    "\n",
    "book = ('소년이 온다', '한강', 2014, 15000)\n",
    "best_sellers(*book)\n",
    "book = ('스토너', '존윌리엄스')\n",
    "best_sellers(*book)"
   ]
  },
  {
   "attachments": {},
   "cell_type": "markdown",
   "id": "119d38f1-1bd3-484d-934c-4cf63a029d95",
   "metadata": {},
   "source": [
    "### 임의의 개수의 키워드 인수"
   ]
  },
  {
   "cell_type": "code",
   "execution_count": 2,
   "id": "66157f36-cf30-4843-848e-d37a9c0c3be6",
   "metadata": {},
   "outputs": [
    {
     "name": "stdout",
     "output_type": "stream",
     "text": [
      "{'location': 'princeton', 'field': 'physics', 'first_name': 'albert', 'last_name': 'einstein'}\n"
     ]
    }
   ],
   "source": [
    "def build_profile(first, last, **user_info):\n",
    "    \"\"\"Build a dictionary containing everything we know about a user.\"\"\"\n",
    "    user_info['first_name'] = first\n",
    "    user_info['last_name'] = last\n",
    "    return user_info\n",
    "\n",
    "user_profile = build_profile('albert', 'einstein', location='princeton', field='physics')\n",
    "print(user_profile)"
   ]
  },
  {
   "cell_type": "markdown",
   "id": "b7620d22-e69b-4c98-b680-b54c961b2e13",
   "metadata": {},
   "source": [
    "#### (예) 설정 옵션 목록"
   ]
  },
  {
   "cell_type": "code",
   "execution_count": 5,
   "id": "41c27fb3-fc37-43d8-945e-3cd9405a8e5a",
   "metadata": {},
   "outputs": [
    {
     "name": "stdout",
     "output_type": "stream",
     "text": [
      "Foreground color : black\n",
      "Background color : white\n",
      "Width of image : 400\n",
      "지원되지 않는 설정 옵션 목록 : ['border', 'borderstyle', 'cellpadding']\n"
     ]
    }
   ],
   "source": [
    "def make_table(data, **parms):\n",
    "    fgcolor = parms.pop('fgcolor', 'black')\n",
    "    bgcolor = parms.pop('bgcolor', 'white')\n",
    "    width = parms.pop('width', None)\n",
    "    print(f'Foreground color : {fgcolor}')\n",
    "    print(f'Background color : {bgcolor}')\n",
    "    print(f'Width of image : {width}')\n",
    "\n",
    "    if parms:\n",
    "        print(f'지원되지 않는 설정 옵션 목록 : {list(parms)}')\n",
    "\n",
    "items = [1, 2, 3, 4]\n",
    "make_table(items, fgcolor='black', bgcolor='white', border=1,\n",
    "           borderstyle='grooved', cellpadding=10, width=400)"
   ]
  },
  {
   "cell_type": "markdown",
   "id": "136cd36e-1c40-40db-afb6-a02d2a254fd2",
   "metadata": {},
   "source": [
    "### 모든 입력을 받는 함수"
   ]
  },
  {
   "cell_type": "code",
   "execution_count": 9,
   "id": "552263fe-ce63-474b-a8ad-d50a837afdea",
   "metadata": {},
   "outputs": [
    {
     "name": "stdout",
     "output_type": "stream",
     "text": [
      "예약자 : 이봉자\n",
      "주문내용 : 불고기, 냉면, //\n",
      "불고기양념 = 안달게\n",
      "냉면육수 = 많이\n"
     ]
    }
   ],
   "source": [
    "def korea_house_order(name, *orders, **specials):\n",
    "    print(f'예약자 : {name}')\n",
    "    print(f'주문내용 : ', end='') \n",
    "    for order in orders:\n",
    "        print(f'{order}, ', end='')\n",
    "    print('//')\n",
    "    for key, value in specials.items():\n",
    "        print(f'{key} = {value}')\n",
    "\n",
    "korea_house_order('이봉자', '불고기', '냉면', 불고기양념='안달게', 냉면육수='많이')"
   ]
  }
 ],
 "metadata": {
  "kernelspec": {
   "display_name": "PythonClass",
   "language": "python",
   "name": "pyclass"
  },
  "language_info": {
   "codemirror_mode": {
    "name": "ipython",
    "version": 3
   },
   "file_extension": ".py",
   "mimetype": "text/x-python",
   "name": "python",
   "nbconvert_exporter": "python",
   "pygments_lexer": "ipython3",
   "version": "3.12.9"
  }
 },
 "nbformat": 4,
 "nbformat_minor": 5
}
