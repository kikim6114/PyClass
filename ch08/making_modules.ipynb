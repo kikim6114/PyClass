{
 "cells": [
  {
   "cell_type": "markdown",
   "id": "5222eec4-d7f2-4462-aad3-772c83891a38",
   "metadata": {},
   "source": [
    "### 함수를 모듈로 저장하기\n",
    "#### 모듈 만들기 - .py 파일\n",
    "##### `make_pizza()` 함수를 포함하는 모듈 만들기"
   ]
  },
  {
   "cell_type": "markdown",
   "id": "a53d7870-978c-4b41-9cd4-2caa8eeb4e76",
   "metadata": {},
   "source": [
    "#### 다음 함수를 `pizza.py`로 저장한다"
   ]
  },
  {
   "cell_type": "code",
   "execution_count": 3,
   "id": "c6d1628a-d098-4588-b0e1-cc728f8cc50e",
   "metadata": {},
   "outputs": [],
   "source": [
    "def make_pizza(size, *toppings):\n",
    "    \"\"\"Summarize the pizza we are about to make.\"\"\"\n",
    "    print(f\"\\nMaking a {size}-inch pizza with the following toppings:\")\n",
    "    for topping in toppings:\n",
    "        print(f\"- {topping}\")"
   ]
  },
  {
   "cell_type": "markdown",
   "id": "321f7996-0767-42a6-a2c5-c221f5f63fc4",
   "metadata": {},
   "source": [
    "#### 모듈을 `import`해서 함수 불러쓰기"
   ]
  },
  {
   "cell_type": "code",
   "execution_count": 4,
   "id": "727d0f80-d0d9-42da-920a-34e40531dca3",
   "metadata": {},
   "outputs": [
    {
     "name": "stdout",
     "output_type": "stream",
     "text": [
      "\n",
      "Making a 16-inch pizza with the following toppings:\n",
      "- pepperoni\n",
      "\n",
      "Making a 12-inch pizza with the following toppings:\n",
      "- mushrooms\n",
      "- green peppers\n",
      "- extra cheese\n"
     ]
    }
   ],
   "source": [
    "import pizza\n",
    "pizza.make_pizza(16, 'pepperoni')\n",
    "pizza.make_pizza(12, 'mushrooms', 'green peppers', 'extra cheese')"
   ]
  },
  {
   "cell_type": "markdown",
   "id": "539dfd73-0aea-49e4-963f-1544dd0a77f0",
   "metadata": {},
   "source": [
    "#### 특정 함수 import"
   ]
  },
  {
   "cell_type": "code",
   "execution_count": 6,
   "id": "9082a613-0b7a-46e7-bab7-414f4270893c",
   "metadata": {},
   "outputs": [
    {
     "name": "stdout",
     "output_type": "stream",
     "text": [
      "\n",
      "Making a 16-inch pizza with the following toppings:\n",
      "- pepperoni\n",
      "\n",
      "Making a 12-inch pizza with the following toppings:\n",
      "- mushrooms\n",
      "- green peppers\n",
      "- extra cheese\n"
     ]
    }
   ],
   "source": [
    "from pizza import make_pizza\n",
    "\n",
    "make_pizza(16, 'pepperoni')\n",
    "make_pizza(12, 'mushrooms', 'green peppers', 'extra cheese')"
   ]
  },
  {
   "cell_type": "code",
   "execution_count": null,
   "id": "6a8489f3-58fb-4e6c-840f-6781c937561d",
   "metadata": {},
   "outputs": [],
   "source": []
  }
 ],
 "metadata": {
  "kernelspec": {
   "display_name": "PythonClass",
   "language": "python",
   "name": "pyclass"
  },
  "language_info": {
   "codemirror_mode": {
    "name": "ipython",
    "version": 3
   },
   "file_extension": ".py",
   "mimetype": "text/x-python",
   "name": "python",
   "nbconvert_exporter": "python",
   "pygments_lexer": "ipython3",
   "version": "3.12.9"
  }
 },
 "nbformat": 4,
 "nbformat_minor": 5
}
