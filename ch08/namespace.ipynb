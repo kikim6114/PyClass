{
 "cells": [
  {
   "attachments": {},
   "cell_type": "markdown",
   "id": "5373417c-bfb0-4771-9425-a0895aff5b51",
   "metadata": {},
   "source": [
    "### Namespace와 관련된 오류들\n",
    "#### `NameError`\n",
    "(예1) 전역 네임스페이스에서 정의되지 않은 자유변수를 검색할 때 발생 "
   ]
  },
  {
   "cell_type": "code",
   "execution_count": 4,
   "id": "fe5ec163-c615-4cc9-bfb4-3cd400d88777",
   "metadata": {},
   "outputs": [
    {
     "ename": "NameError",
     "evalue": "name 'x' is not defined",
     "output_type": "error",
     "traceback": [
      "\u001b[1;31m---------------------------------------------------------------------------\u001b[0m",
      "\u001b[1;31mNameError\u001b[0m                                 Traceback (most recent call last)",
      "Cell \u001b[1;32mIn[4], line 4\u001b[0m\n\u001b[0;32m      1\u001b[0m \u001b[38;5;28;01mdef\u001b[39;00m \u001b[38;5;21mfunc\u001b[39m(x):\n\u001b[0;32m      2\u001b[0m     \u001b[38;5;28;01mpass\u001b[39;00m\n\u001b[1;32m----> 4\u001b[0m func(x)\n",
      "\u001b[1;31mNameError\u001b[0m: name 'x' is not defined"
     ]
    }
   ],
   "source": [
    "def func(x):\n",
    "    pass\n",
    "    \n",
    "func(x)"
   ]
  },
  {
   "cell_type": "markdown",
   "id": "f2301cff-ec2f-41ca-9405-ce23362610aa",
   "metadata": {},
   "source": [
    "#### `UnboundLocalError`\n",
    "(예2) 할당되지 않은 지역 변수를 찾을 때 발생"
   ]
  },
  {
   "cell_type": "code",
   "execution_count": null,
   "id": "fb4388da-3dde-4757-8c4e-acc02fe0da5f",
   "metadata": {},
   "outputs": [],
   "source": [
    "def func(x):\n",
    "    if x > 0:\n",
    "        y = 42\n",
    "    return x + y  # if 조건문이 False이면 y는 할당되지 않음\n",
    "\n",
    "print(func(10))  # 52 반환\n",
    "print(func(-10)) # UnboundLocalError: y 가 할당 전에 참조됨"
   ]
  },
  {
   "cell_type": "markdown",
   "id": "f69aad72-62cf-413f-9a67-4826dc514d81",
   "metadata": {},
   "source": [
    "(예3) 변수 명은 함수를 정의할 때 전역 변수인지 지역 변수인지가 결정되며, 일단 결정되면 절대 스코프가 바뀌지 않는다"
   ]
  },
  {
   "cell_type": "code",
   "execution_count": 5,
   "id": "a197b55e-5233-4cab-a5b8-053c750a29cf",
   "metadata": {},
   "outputs": [
    {
     "ename": "UnboundLocalError",
     "evalue": "cannot access local variable 'x' where it is not associated with a value",
     "output_type": "error",
     "traceback": [
      "\u001b[1;31m---------------------------------------------------------------------------\u001b[0m",
      "\u001b[1;31mUnboundLocalError\u001b[0m                         Traceback (most recent call last)",
      "Cell \u001b[1;32mIn[5], line 6\u001b[0m\n\u001b[0;32m      3\u001b[0m     \u001b[38;5;28mprint\u001b[39m(x) \u001b[38;5;66;03m# Fails. UnboundLocalError\u001b[39;00m\n\u001b[0;32m      4\u001b[0m     x \u001b[38;5;241m=\u001b[39m \u001b[38;5;241m13\u001b[39m\n\u001b[1;32m----> 6\u001b[0m func()\n",
      "Cell \u001b[1;32mIn[5], line 3\u001b[0m, in \u001b[0;36mfunc\u001b[1;34m()\u001b[0m\n\u001b[0;32m      2\u001b[0m \u001b[38;5;28;01mdef\u001b[39;00m \u001b[38;5;21mfunc\u001b[39m():\n\u001b[1;32m----> 3\u001b[0m     \u001b[38;5;28mprint\u001b[39m(x) \u001b[38;5;66;03m# Fails. UnboundLocalError\u001b[39;00m\n\u001b[0;32m      4\u001b[0m     x \u001b[38;5;241m=\u001b[39m \u001b[38;5;241m13\u001b[39m\n",
      "\u001b[1;31mUnboundLocalError\u001b[0m: cannot access local variable 'x' where it is not associated with a value"
     ]
    }
   ],
   "source": [
    "x = 42\n",
    "def func():\n",
    "    print(x) # Fails. UnboundLocalError\n",
    "    x = 13\n",
    "\n",
    "func()"
   ]
  },
  {
   "cell_type": "code",
   "execution_count": 6,
   "id": "02e837f2-8635-4bf9-ac70-ad706507aed6",
   "metadata": {},
   "outputs": [
    {
     "data": {
      "text/plain": [
       "42"
      ]
     },
     "execution_count": 6,
     "metadata": {},
     "output_type": "execute_result"
    }
   ],
   "source": [
    "x = 42\n",
    "def func():\n",
    "    x = 13  # 지역변수\n",
    "func()\n",
    "x  # x는 여전히 42이다. (전역변수)"
   ]
  },
  {
   "attachments": {},
   "cell_type": "markdown",
   "id": "93a92c0a-2cea-4af3-b9c6-56b214dec6ec",
   "metadata": {},
   "source": [
    "#### global 문 사용"
   ]
  },
  {
   "cell_type": "code",
   "execution_count": null,
   "id": "d1038242-b3d9-448e-bc33-b220d448527d",
   "metadata": {},
   "outputs": [],
   "source": [
    "x = 42\n",
    "y = 37\n",
    "def func():\n",
    "    global x  # 'x' 는 전역 네임스페이스에 속한다\n",
    "    x = 13\n",
    "    y = 0\n",
    "\n",
    "func()  \n",
    "# 이제 x = 13 이고 y는 아직 37이다."
   ]
  },
  {
   "cell_type": "markdown",
   "id": "944749cf-9924-4d21-87bb-9ad7aa888340",
   "metadata": {},
   "source": [
    "#### [중요] `global` 문을 사용하는 것은 좋지 않은 스타일로 여겨진다.\n",
    "함수 밖에 있는 상태를 변경할 필요가 있다면, 클래스를 사용하도록 한다."
   ]
  },
  {
   "cell_type": "code",
   "execution_count": 20,
   "id": "f34b8a14-14c7-4f06-a5fe-fe0b33d022dc",
   "metadata": {},
   "outputs": [],
   "source": [
    "class Config:\n",
    "    x = 42\n",
    "\n",
    "def func():\n",
    "    Config.x = 13"
   ]
  }
 ],
 "metadata": {
  "kernelspec": {
   "display_name": "PythonClass",
   "language": "python",
   "name": "pyclass"
  },
  "language_info": {
   "codemirror_mode": {
    "name": "ipython",
    "version": 3
   },
   "file_extension": ".py",
   "mimetype": "text/x-python",
   "name": "python",
   "nbconvert_exporter": "python",
   "pygments_lexer": "ipython3",
   "version": "3.12.9"
  }
 },
 "nbformat": 4,
 "nbformat_minor": 5
}
