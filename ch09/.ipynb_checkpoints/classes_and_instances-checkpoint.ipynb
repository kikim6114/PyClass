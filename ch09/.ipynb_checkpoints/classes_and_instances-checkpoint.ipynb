{
 "cells": [
  {
   "cell_type": "markdown",
   "id": "7d255c3d-4e8f-485f-9dc0-ed427ac3bc39",
   "metadata": {},
   "source": [
    "## 클래스와 인스턴스 다루기\n",
    "### Car 클래스"
   ]
  },
  {
   "cell_type": "code",
   "execution_count": 15,
   "id": "0fc8e465-e58c-4d65-8e9a-303cce9d8d01",
   "metadata": {},
   "outputs": [
    {
     "name": "stdout",
     "output_type": "stream",
     "text": [
      "2024 Kia K5\n"
     ]
    }
   ],
   "source": [
    "class Car:\n",
    "    \"\"\"자동차를 나타내는 단순한 시도.\"\"\"\n",
    "    \n",
    "    def __init__(self, make, model, year):\n",
    "        \"\"\"자동차를 설명하는 속성들을 초기화.\"\"\"\n",
    "        self.make = make\n",
    "        self.model = model\n",
    "        self.year = year\n",
    "\n",
    "    def get_descriptive_name(self):\n",
    "        \"\"\"깔끔하게 처리된 이름을 반환.\"\"\"\n",
    "        long_name = f\"{self.year} {self.make} {self.model}\"\n",
    "        return long_name.title()\n",
    "\n",
    "my_new_car = Car('Kia', 'K5', 2024)\n",
    "print(my_new_car.get_descriptive_name())"
   ]
  },
  {
   "cell_type": "markdown",
   "id": "b36fe2f7-6c81-4a05-90d2-168b690858b8",
   "metadata": {},
   "source": [
    "### 속성의 기본값 설정"
   ]
  },
  {
   "cell_type": "code",
   "execution_count": 16,
   "id": "f3fb2a9b-f6b1-4e7a-a7ec-ca2443fd59d7",
   "metadata": {},
   "outputs": [
    {
     "name": "stdout",
     "output_type": "stream",
     "text": [
      "2024 Kia K5\n",
      "이 차량의 주행거리는 0 Km 입니다.\n"
     ]
    }
   ],
   "source": [
    "class Car:\n",
    "    \"\"\"자동차를 나타내는 단순한 시도.\"\"\"\n",
    "    \n",
    "    def __init__(self, make, model, year):\n",
    "        \"\"\"자동차를 설명하는 속성들을 초기화.\"\"\"\n",
    "        self.make = make\n",
    "        self.model = model\n",
    "        self.year = year\n",
    "        self.odometer_reading = 0  # 주행거리를 나타내는 속성 추가하고 기본값을 0 으로 설정\n",
    "        \n",
    "    def get_descriptive_name(self):\n",
    "        \"\"\"깔끔하게 처리된 이름을 반환.\"\"\"\n",
    "        long_name = f\"{self.year} {self.make} {self.model}\"\n",
    "        return long_name.title()\n",
    "\n",
    "    def read_odometer(self):\n",
    "        \"\"\"차량의 주행거리를 보여주는 문장을 프린트.\"\"\"\n",
    "        print(f\"이 차량의 주행거리는 {self.odometer_reading} Km 입니다.\")\n",
    "\n",
    "my_new_car = Car('Kia', 'K5', 2024)\n",
    "print(my_new_car.get_descriptive_name())\n",
    "my_new_car.read_odometer()"
   ]
  },
  {
   "cell_type": "markdown",
   "id": "4fe8c9dd-d58b-4bdc-9789-c0026a52b95b",
   "metadata": {},
   "source": [
    "### 속성값의 변경\n",
    "#### 직접 변경"
   ]
  },
  {
   "cell_type": "code",
   "execution_count": 18,
   "id": "a293f22c-93fa-46e6-99b7-65c0194a8c58",
   "metadata": {},
   "outputs": [
    {
     "name": "stdout",
     "output_type": "stream",
     "text": [
      "2024 Kia K5\n",
      "이 차량의 주행거리는 23 Km 입니다.\n"
     ]
    }
   ],
   "source": [
    "my_new_car = Car('Kia', 'K5', 2024)\n",
    "print(my_new_car.get_descriptive_name())\n",
    "my_new_car.odometer_reading = 23\n",
    "my_new_car.read_odometer()"
   ]
  },
  {
   "cell_type": "markdown",
   "id": "91ad92e9-c4cb-4440-a02f-13bc2debc333",
   "metadata": {},
   "source": [
    "#### 메서드를 통한 변경"
   ]
  },
  {
   "cell_type": "code",
   "execution_count": 20,
   "id": "d07edb36-fcea-44ae-aa13-38c8b18bda28",
   "metadata": {},
   "outputs": [
    {
     "name": "stdout",
     "output_type": "stream",
     "text": [
      "2024 Kia K5\n",
      "이 차량의 주행거리는 23 Km 입니다.\n"
     ]
    }
   ],
   "source": [
    "class Car:\n",
    "    \"\"\"자동차를 나타내는 단순한 시도.\"\"\"\n",
    "    \n",
    "    def __init__(self, make, model, year):\n",
    "        \"\"\"자동차를 설명하는 속성들을 초기화.\"\"\"\n",
    "        self.make = make\n",
    "        self.model = model\n",
    "        self.year = year\n",
    "        self.odometer_reading = 0  # 주행거리를 나타내는 속성 추가하고 기본값을 0 으로 설정\n",
    "        \n",
    "    def get_descriptive_name(self):\n",
    "        \"\"\"깔끔하게 처리된 이름을 반환.\"\"\"\n",
    "        long_name = f\"{self.year} {self.make} {self.model}\"\n",
    "        return long_name.title()\n",
    "\n",
    "    def read_odometer(self):\n",
    "        \"\"\"차량의 주행거리를 보여주는 문장을 프린트.\"\"\"\n",
    "        print(f\"이 차량의 주행거리는 {self.odometer_reading} Km 입니다.\")\n",
    "\n",
    "    def update_odometer(self, mileage):  # 주행계 값을 설정하는 메서드 가가\n",
    "        \"\"\"주행계값을 주어진 값으로 설정.\"\"\"\n",
    "        self.odometer_reading = mileage\n",
    "\n",
    "my_new_car = Car('Kia', 'K5', 2024)\n",
    "print(my_new_car.get_descriptive_name())\n",
    "\n",
    "my_new_car.update_odometer(23)\n",
    "my_new_car.read_odometer()"
   ]
  },
  {
   "cell_type": "code",
   "execution_count": null,
   "id": "0bbc8e3e-47be-4af2-8a00-2b5b28bd0095",
   "metadata": {},
   "outputs": [],
   "source": []
  }
 ],
 "metadata": {
  "kernelspec": {
   "display_name": "PythonClass",
   "language": "python",
   "name": "pyclass"
  },
  "language_info": {
   "codemirror_mode": {
    "name": "ipython",
    "version": 3
   },
   "file_extension": ".py",
   "mimetype": "text/x-python",
   "name": "python",
   "nbconvert_exporter": "python",
   "pygments_lexer": "ipython3",
   "version": "3.12.9"
  }
 },
 "nbformat": 4,
 "nbformat_minor": 5
}
