{
 "cells": [
  {
   "cell_type": "markdown",
   "id": "0e537332-4317-4bb1-a8ab-9e3df9fdb0b0",
   "metadata": {},
   "source": [
    "# 객체, 타입 및 프로토콜\n",
    "#### 유용한 함수 및 연산자"
   ]
  },
  {
   "cell_type": "code",
   "execution_count": 3,
   "id": "74160c0f-36ed-432e-bd1a-c4cfa970d96a",
   "metadata": {},
   "outputs": [
    {
     "data": {
      "text/plain": [
       "True"
      ]
     },
     "execution_count": 3,
     "metadata": {},
     "output_type": "execute_result"
    }
   ],
   "source": [
    "items = list()\n",
    "isinstance(items, list)"
   ]
  },
  {
   "cell_type": "code",
   "execution_count": null,
   "id": "1d1e89cb-5943-499d-9940-b76d949c8e11",
   "metadata": {},
   "outputs": [],
   "source": [
    "# 두 객체의 비교\n",
    "def compare(a, b):\n",
    "    if a is b:\n",
    "        print('same object')\n",
    "    if a == b:\n",
    "        print('same value')\n",
    "    if type(a) is type(b):\n",
    "        print('same type')\n",
    "    print()\n",
    "a = [1, 2, 3]\n",
    "b = [1, 2, 3]\n",
    "compare(a, a)\n",
    "compare(a, b)\n",
    "compare(a, [4,5,6])"
   ]
  },
  {
   "cell_type": "markdown",
   "id": "428b534e-084a-479d-a5eb-567faec5e72d",
   "metadata": {},
   "source": [
    "## 참조 카운팅과 가비지 컬렉션"
   ]
  },
  {
   "cell_type": "code",
   "execution_count": 48,
   "id": "d7e84481-a8f4-492e-8754-9de3bdaf1a04",
   "metadata": {},
   "outputs": [],
   "source": [
    "a = 37      # 값 37로 객체 생성\n",
    "b = a       # 37에 대한 참조 카운트 증가\n",
    "c = []\n",
    "c.append(b) # 37에 대한 참조 카운트 증가"
   ]
  },
  {
   "cell_type": "code",
   "execution_count": 49,
   "id": "bdb4980d-9390-41c3-8a2c-ec462c7e1734",
   "metadata": {},
   "outputs": [],
   "source": [
    "del a       # 37에 대한 참조 카운트 감소\n",
    "b = 42      # 37에 대한 참조 카운트 감소\n",
    "c[0] = 2.0  # 37에 대한 참조 카운트 감소"
   ]
  },
  {
   "cell_type": "code",
   "execution_count": 47,
   "id": "c1501698-25c9-4fce-ae2b-0712a9b4b949",
   "metadata": {},
   "outputs": [],
   "source": [
    "a = { }\n",
    "b = { }\n",
    "a['b'] = b     # a는 b에 대한 참조를 포함\n",
    "b['a'] = a     # b는 a에 대한 참조를 포함\n",
    "del a\n",
    "del b"
   ]
  },
  {
   "cell_type": "markdown",
   "id": "97ca1d8f-bc0c-4035-9449-3c7ae8149453",
   "metadata": {},
   "source": [
    "## 참조와 복사\n",
    "#### 얕은 복사와 깊은 복사"
   ]
  },
  {
   "cell_type": "code",
   "execution_count": 52,
   "id": "b3ce9612-2920-4a55-be9c-ec4ea54bfead",
   "metadata": {},
   "outputs": [
    {
     "data": {
      "text/plain": [
       "[1, 2, 99, 4]"
      ]
     },
     "execution_count": 52,
     "metadata": {},
     "output_type": "execute_result"
    }
   ],
   "source": [
    "source = [1,2,3,4]\n",
    "sink = source   # sink는 source에 대한 참조\n",
    "sink[2] = 99\n",
    "source          # source도 변경됨"
   ]
  },
  {
   "cell_type": "code",
   "execution_count": 53,
   "id": "5fabb42f-fcc5-4bd2-b79e-4c407bdcd377",
   "metadata": {},
   "outputs": [
    {
     "name": "stdout",
     "output_type": "stream",
     "text": [
      "same object\n",
      "same value\n",
      "same type\n",
      "\n"
     ]
    }
   ],
   "source": [
    "compare(source, sink)"
   ]
  },
  {
   "cell_type": "markdown",
   "id": "b25f3096-6773-45d0-8313-7a04c9c97e12",
   "metadata": {},
   "source": [
    "#### 얕은 복사"
   ]
  },
  {
   "cell_type": "code",
   "execution_count": 55,
   "id": "35a4e1db-e6e7-40d4-83a0-3099f9205136",
   "metadata": {},
   "outputs": [
    {
     "data": {
      "text/plain": [
       "False"
      ]
     },
     "execution_count": 55,
     "metadata": {},
     "output_type": "execute_result"
    }
   ],
   "source": [
    "source = [1, 2, [3,4]]\n",
    "sink = list(source)   # shallow copy of source\n",
    "source is sink"
   ]
  },
  {
   "cell_type": "code",
   "execution_count": 56,
   "id": "c4197b86-6fcc-4696-bdaa-238ca76548df",
   "metadata": {},
   "outputs": [
    {
     "name": "stdout",
     "output_type": "stream",
     "text": [
      "same value\n",
      "same type\n",
      "\n"
     ]
    }
   ],
   "source": [
    "compare(source, sink)"
   ]
  },
  {
   "cell_type": "code",
   "execution_count": 20,
   "id": "ade31a0e-4f0a-4346-b60a-68b15541add1",
   "metadata": {},
   "outputs": [
    {
     "data": {
      "text/plain": [
       "([1, 2, [99, 4]], [1, 2, [99, 4], 100, 100])"
      ]
     },
     "execution_count": 20,
     "metadata": {},
     "output_type": "execute_result"
    }
   ],
   "source": [
    "sink.append(100)\n",
    "source, sink    # shallow copy 성공적!"
   ]
  },
  {
   "cell_type": "code",
   "execution_count": 21,
   "id": "69102a79-de4c-4163-a6ff-b9d139ccfe33",
   "metadata": {},
   "outputs": [
    {
     "data": {
      "text/plain": [
       "([1, 2, [99, 4]], [1, 2, [99, 4], 100, 100])"
      ]
     },
     "execution_count": 21,
     "metadata": {},
     "output_type": "execute_result"
    }
   ],
   "source": [
    "sink[2][0] = 99\n",
    "source, sink    # shallow copy로는 안된다!"
   ]
  },
  {
   "cell_type": "markdown",
   "id": "d9bd605d-d852-4a86-8b24-b0ca7c1c39a8",
   "metadata": {},
   "source": [
    "source와 sink가 별도의 list 객체이지만, 내부의 또 다른 list는 공유하고 있다!"
   ]
  },
  {
   "cell_type": "markdown",
   "id": "30100894-5ac4-4bde-ad11-d1f0ff1e2149",
   "metadata": {},
   "source": [
    "#### 깊은 복사"
   ]
  },
  {
   "cell_type": "code",
   "execution_count": 23,
   "id": "991adfe8-9acc-4c2f-9d2b-72cd638dc548",
   "metadata": {},
   "outputs": [
    {
     "data": {
      "text/plain": [
       "([1, 2, [3, 4]], [1, 2, [99, 4]])"
      ]
     },
     "execution_count": 23,
     "metadata": {},
     "output_type": "execute_result"
    }
   ],
   "source": [
    "import copy\n",
    "\n",
    "source = [1, 2, [3,4]]\n",
    "sink = copy.deepcopy(source)\n",
    "sink[2][0] = 99\n",
    "source, sink"
   ]
  },
  {
   "cell_type": "markdown",
   "id": "aeb64eb3-6e6f-4fc8-97e2-2fe8e0ef1b44",
   "metadata": {},
   "source": [
    "## 객체 표현과 프린팅"
   ]
  },
  {
   "cell_type": "code",
   "execution_count": 25,
   "id": "313d5e92-1083-4b7f-8f9c-84a0c5f5d5b2",
   "metadata": {},
   "outputs": [
    {
     "name": "stdout",
     "output_type": "stream",
     "text": [
      "2025-04-01\n"
     ]
    },
    {
     "data": {
      "text/plain": [
       "'2025-04-01'"
      ]
     },
     "execution_count": 25,
     "metadata": {},
     "output_type": "execute_result"
    }
   ],
   "source": [
    "from datetime import date\n",
    "day = date(2025, 4, 1)\n",
    "print(day)\n",
    "str(day)"
   ]
  },
  {
   "cell_type": "code",
   "execution_count": 26,
   "id": "2934b4b1-b23a-4e46-b7e3-7d7f80a9c9fd",
   "metadata": {},
   "outputs": [
    {
     "data": {
      "text/plain": [
       "'datetime.date(2025, 4, 1)'"
      ]
     },
     "execution_count": 26,
     "metadata": {},
     "output_type": "execute_result"
    }
   ],
   "source": [
    "day = date(2025, 4, 1)\n",
    "repr(day)"
   ]
  },
  {
   "cell_type": "code",
   "execution_count": 28,
   "id": "2c0cef19-bb62-4640-98af-f1c99e74612d",
   "metadata": {},
   "outputs": [
    {
     "name": "stdout",
     "output_type": "stream",
     "text": [
      "datetime.date(2025, 4, 1)\n",
      "The date is: datetime.date(2025, 4, 1)\n"
     ]
    }
   ],
   "source": [
    "print(repr(day))\n",
    "print(f'The date is: {day!r}')"
   ]
  },
  {
   "attachments": {},
   "cell_type": "markdown",
   "id": "d6bf3f7f-dcb5-4661-854a-7bc64450f5bd",
   "metadata": {},
   "source": [
    "## 퍼스트 클래스 객체\n",
    "#### 파이썬의 모든 객체는 퍼스트 클래스다"
   ]
  },
  {
   "cell_type": "code",
   "execution_count": 30,
   "id": "44fce301-0452-456a-acbd-8f83635d0e14",
   "metadata": {},
   "outputs": [],
   "source": [
    "items = {\n",
    "    'number' : 42,\n",
    "    'text' : \"Hello World\",\n",
    "}"
   ]
  },
  {
   "cell_type": "code",
   "execution_count": 32,
   "id": "a8f8d350-b584-476e-b15a-02187c7b560c",
   "metadata": {},
   "outputs": [
    {
     "data": {
      "text/plain": [
       "{'number': 42,\n",
       " 'text': 'Hello World',\n",
       " 'func': <function abs(x, /)>,\n",
       " 'mod': <module 'math' (built-in)>,\n",
       " 'error': ValueError,\n",
       " 'append': <function list.append(object, /)>}"
      ]
     },
     "execution_count": 32,
     "metadata": {},
     "output_type": "execute_result"
    }
   ],
   "source": [
    "items['func'] = abs           # 함수 abs() 를 추가\n",
    "import math\n",
    "items['mod'] = math           # 모듈 추가\n",
    "items['error'] = ValueError   # 예외형 추가\n",
    "nums = [1,2,3,4]\n",
    "items['append'] = nums.append # 다른 객체의 메서드 추가\n",
    "items"
   ]
  },
  {
   "cell_type": "code",
   "execution_count": 34,
   "id": "b250be13-2b45-432d-afa1-989c17a22021",
   "metadata": {},
   "outputs": [
    {
     "data": {
      "text/plain": [
       "45"
      ]
     },
     "execution_count": 34,
     "metadata": {},
     "output_type": "execute_result"
    }
   ],
   "source": [
    "items['func'](-45)              # abs(-45) 실행"
   ]
  },
  {
   "cell_type": "code",
   "execution_count": 35,
   "id": "f00dcf3d-3b17-4ca3-9891-fa6429c0ee99",
   "metadata": {},
   "outputs": [
    {
     "data": {
      "text/plain": [
       "2.0"
      ]
     },
     "execution_count": 35,
     "metadata": {},
     "output_type": "execute_result"
    }
   ],
   "source": [
    "items['mod'].sqrt(4)            # math.sqrt(4) 실행"
   ]
  },
  {
   "cell_type": "code",
   "execution_count": 37,
   "id": "5d8996bc-4651-488c-8e68-56c4d0621a95",
   "metadata": {},
   "outputs": [
    {
     "name": "stdout",
     "output_type": "stream",
     "text": [
      "Couldn't convert\n"
     ]
    }
   ],
   "source": [
    "try:\n",
    "    x = int('a lot')\n",
    "except items['error'] as e:     # except ValueError as e: 와 동일\n",
    "    print(\"Couldn't convert\")"
   ]
  },
  {
   "cell_type": "code",
   "execution_count": 38,
   "id": "7c913143-66a9-4929-898c-f58242af072a",
   "metadata": {},
   "outputs": [
    {
     "data": {
      "text/plain": [
       "[1, 2, 3, 4, 100]"
      ]
     },
     "execution_count": 38,
     "metadata": {},
     "output_type": "execute_result"
    }
   ],
   "source": [
    "items['append'](100)            # nums.append(100) 실행\n",
    "nums"
   ]
  },
  {
   "cell_type": "markdown",
   "id": "1efd2e5c-8780-41fc-9bda-2e25c1a02ac0",
   "metadata": {},
   "source": [
    "#### 퍼스트 클래스로서의 객체 활용"
   ]
  },
  {
   "cell_type": "code",
   "execution_count": 39,
   "id": "7f702493-5132-4a6c-942c-8d685bdc5086",
   "metadata": {},
   "outputs": [
    {
     "data": {
      "text/plain": [
       "['ACME', 100, 490.1]"
      ]
     },
     "execution_count": 39,
     "metadata": {},
     "output_type": "execute_result"
    }
   ],
   "source": [
    "line = 'ACME,100,490.10'\n",
    "column_types = [str, int, float]\n",
    "parts = line.split(',')\n",
    "row = [ty(val) for ty, val in zip(column_types, parts)]\n",
    "row"
   ]
  },
  {
   "cell_type": "markdown",
   "id": "77b108be-6b6e-49af-8fdd-bf63e11ba316",
   "metadata": {},
   "source": [
    "#### if-elif-else 문 대신 딕셔너리로 컴팩트하게\n"
   ]
  },
  {
   "cell_type": "markdown",
   "id": "f23738a3-7cdd-47ca-8bf9-92099400c041",
   "metadata": {},
   "source": [
    "```\n",
    "if format == 'text':\n",
    "    formatter = TextFormatter()\n",
    "elif format == 'csv':\n",
    "    formatter = CSVFormatter()\n",
    "elif format == 'html':\n",
    "    formatter = HTMLFormatter()\n",
    "else:\n",
    "    raise RuntimeError('Bad format')\n",
    "```"
   ]
  },
  {
   "cell_type": "markdown",
   "id": "fe573c1f-0e6f-4630-97c1-922dbc544b24",
   "metadata": {},
   "source": [
    "```\n",
    "_formats = {\n",
    "    'text': TextFormatter,\n",
    "    'csv': CSVFormatter,\n",
    "    'html': HTMLFormatter\n",
    "}\n",
    "\n",
    "if format in _formats:\n",
    "    formatter = _formats[format]()\n",
    "else:\n",
    "    raise RuntimeError('Bad format')\n",
    "```"
   ]
  },
  {
   "cell_type": "markdown",
   "id": "7f83ab74-b2c8-4703-9688-76ab3c45b41c",
   "metadata": {},
   "source": [
    "## 객체 프로토콜\n",
    "#### 1. 객체 생성과 초기화"
   ]
  },
  {
   "cell_type": "code",
   "execution_count": 40,
   "id": "499e706c-4014-4629-8e29-f3fb9a5fe37e",
   "metadata": {},
   "outputs": [
    {
     "name": "stdout",
     "output_type": "stream",
     "text": [
      "바둑이\n"
     ]
    }
   ],
   "source": [
    "class Dog:\n",
    "    def __init__(self, name):\n",
    "        self.name = name\n",
    "\n",
    "my_dog = Dog(\"바둑이\")\n",
    "print(my_dog.name)  # 출력: 바둑이"
   ]
  },
  {
   "cell_type": "markdown",
   "id": "e4becfe4-32bd-4c57-b3a9-12b82709237a",
   "metadata": {},
   "source": [
    "#### 2. 문자열로 표현하기"
   ]
  },
  {
   "cell_type": "code",
   "execution_count": 41,
   "id": "07f251b4-f239-4655-a4f9-bba9a90d65a7",
   "metadata": {},
   "outputs": [
    {
     "name": "stdout",
     "output_type": "stream",
     "text": [
      "강아지 이름: 바둑이\n",
      "Dog('바둑이')\n"
     ]
    }
   ],
   "source": [
    "class Dog:\n",
    "    def __init__(self, name):\n",
    "        self.name = name\n",
    "    \n",
    "    def __str__(self):\n",
    "        return f\"강아지 이름: {self.name}\"\n",
    "    \n",
    "    def __repr__(self):\n",
    "        return f\"Dog('{self.name}')\"\n",
    "\n",
    "dog = Dog(\"바둑이\")\n",
    "print(dog)        # 출력: 강아지 이름: 바둑이\n",
    "print(repr(dog))  # 출력: Dog('바둑이')"
   ]
  },
  {
   "cell_type": "markdown",
   "id": "25e3abf8-ca0d-48be-9970-2001ba1902b4",
   "metadata": {},
   "source": [
    "#### 3. 비교 연산"
   ]
  },
  {
   "cell_type": "code",
   "execution_count": 42,
   "id": "946b0a21-d54a-4da3-9d00-a481c02f24b5",
   "metadata": {},
   "outputs": [
    {
     "name": "stdout",
     "output_type": "stream",
     "text": [
      "False\n",
      "False\n"
     ]
    }
   ],
   "source": [
    "class Student:\n",
    "    def __init__(self, score):\n",
    "        self.score = score\n",
    "    \n",
    "    def __eq__(self, other):\n",
    "        return self.score == other.score\n",
    "    \n",
    "    def __lt__(self, other):\n",
    "        return self.score < other.score\n",
    "\n",
    "s1 = Student(90)\n",
    "s2 = Student(85)\n",
    "print(s1 == s2)  # 출력: False\n",
    "print(s1 < s2)   # 출력: False (90 < 85는 거짓)"
   ]
  },
  {
   "cell_type": "markdown",
   "id": "ee2846c6-02c6-424a-a5bc-09b1d198d6e6",
   "metadata": {},
   "source": [
    "#### 4. 산술 연산"
   ]
  },
  {
   "cell_type": "code",
   "execution_count": 43,
   "id": "e36d3b7b-58cd-4c4d-ace8-0c447d1e0bda",
   "metadata": {},
   "outputs": [
    {
     "name": "stdout",
     "output_type": "stream",
     "text": [
      "Point(8)\n"
     ]
    }
   ],
   "source": [
    "class Point:\n",
    "    def __init__(self, x):\n",
    "        self.x = x\n",
    "    \n",
    "    def __add__(self, other):\n",
    "        return Point(self.x + other.x)\n",
    "    \n",
    "    def __str__(self):\n",
    "        return f\"Point({self.x})\"\n",
    "\n",
    "p1 = Point(3)\n",
    "p2 = Point(5)\n",
    "p3 = p1 + p2\n",
    "print(p3)  # 출력: Point(8)"
   ]
  },
  {
   "cell_type": "markdown",
   "id": "443a6eee-309f-4d0a-b89c-07cede92abeb",
   "metadata": {},
   "source": [
    "#### 5. 컨테이너처럼 동작하기"
   ]
  },
  {
   "cell_type": "code",
   "execution_count": 44,
   "id": "8e80fbb5-081b-4da5-bc54-e69d3d2a6dff",
   "metadata": {},
   "outputs": [
    {
     "name": "stdout",
     "output_type": "stream",
     "text": [
      "2\n",
      "파이썬 배우기\n"
     ]
    }
   ],
   "source": [
    "class Bookshelf:\n",
    "    def __init__(self):\n",
    "        self.books = []\n",
    "    \n",
    "    def add_book(self, book):\n",
    "        self.books.append(book)\n",
    "    \n",
    "    def __len__(self):\n",
    "        return len(self.books)\n",
    "    \n",
    "    def __getitem__(self, index):\n",
    "        return self.books[index]\n",
    "\n",
    "shelf = Bookshelf()\n",
    "shelf.add_book(\"파이썬 배우기\")\n",
    "shelf.add_book(\"자바 배우기\")\n",
    "print(len(shelf))    # 출력: 2\n",
    "print(shelf[0])      # 출력: 파이썬 배우기"
   ]
  },
  {
   "cell_type": "markdown",
   "id": "507f6f8d-eceb-4f3f-8c51-0d497a6debce",
   "metadata": {},
   "source": [
    "#### 6. 호출 가능 객체"
   ]
  },
  {
   "cell_type": "code",
   "execution_count": 45,
   "id": "5bcbd301-b8e9-4112-8613-be09d5ff133d",
   "metadata": {},
   "outputs": [
    {
     "name": "stdout",
     "output_type": "stream",
     "text": [
      "7\n"
     ]
    }
   ],
   "source": [
    "class Calculator:\n",
    "    def __call__(self, a, b):\n",
    "        return a + b\n",
    "\n",
    "calc = Calculator()\n",
    "result = calc(3, 4)  # 객체를 함수처럼 호출\n",
    "print(result)        # 출력: 7"
   ]
  },
  {
   "cell_type": "markdown",
   "id": "1fabeae5-a8e1-4209-ae50-b7504ae49e3b",
   "metadata": {},
   "source": [
    "#### 나만의 객체 만들기"
   ]
  },
  {
   "cell_type": "code",
   "execution_count": 46,
   "id": "1d5d5d90-72b5-4122-861b-d73d72cc2e0d",
   "metadata": {},
   "outputs": [
    {
     "name": "stdout",
     "output_type": "stream",
     "text": [
      "'파이썬 기초' (200쪽)\n",
      "300\n",
      "'파이썬 기초 + 파이썬 심화' (500쪽)\n"
     ]
    }
   ],
   "source": [
    "class Book:\n",
    "    def __init__(self, title, pages):\n",
    "        self.title = title\n",
    "        self.pages = pages\n",
    "    \n",
    "    def __str__(self):\n",
    "        return f\"'{self.title}' ({self.pages}쪽)\"\n",
    "    \n",
    "    def __len__(self):\n",
    "        return self.pages\n",
    "    \n",
    "    def __add__(self, other):\n",
    "        return Book(self.title + \" + \" + other.title, self.pages + other.pages)\n",
    "\n",
    "# 테스트\n",
    "book1 = Book(\"파이썬 기초\", 200)\n",
    "book2 = Book(\"파이썬 심화\", 300)\n",
    "print(book1)            # 출력: '파이썬 기초' (200쪽)\n",
    "print(len(book2))       # 출력: 300\n",
    "combined = book1 + book2\n",
    "print(combined)         # 출력: '파이썬 기초 + 파이썬 심화' (500쪽)"
   ]
  },
  {
   "cell_type": "code",
   "execution_count": null,
   "id": "b29b07ea-2476-44b7-99d4-88e414561a40",
   "metadata": {},
   "outputs": [],
   "source": []
  }
 ],
 "metadata": {
  "kernelspec": {
   "display_name": "PythonClass",
   "language": "python",
   "name": "pyclass"
  },
  "language_info": {
   "codemirror_mode": {
    "name": "ipython",
    "version": 3
   },
   "file_extension": ".py",
   "mimetype": "text/x-python",
   "name": "python",
   "nbconvert_exporter": "python",
   "pygments_lexer": "ipython3",
   "version": "3.12.9"
  }
 },
 "nbformat": 4,
 "nbformat_minor": 5
}
