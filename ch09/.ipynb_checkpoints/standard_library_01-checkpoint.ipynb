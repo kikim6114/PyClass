{
 "cells": [
  {
   "cell_type": "markdown",
   "id": "0e537332-4317-4bb1-a8ab-9e3df9fdb0b0",
   "metadata": {},
   "source": [
    "## datetime\n",
    "#### date(), timedelta()"
   ]
  },
  {
   "cell_type": "code",
   "execution_count": 23,
   "id": "07bdaa24-47b2-4780-b275-a4e94e946bcc",
   "metadata": {},
   "outputs": [
    {
     "name": "stdout",
     "output_type": "stream",
     "text": [
      "<class 'datetime.timedelta'>\n",
      "그녀를 만난지 35일째.\n"
     ]
    }
   ],
   "source": [
    "import datetime\n",
    "\n",
    "today= datetime.date.today()\n",
    "date_met = datetime.date(2025, 3, 1)\n",
    "\n",
    "diff = today - date_met\n",
    "print(type(diff))\n",
    "print(f'그녀를 만난지 {diff.days}일째.')"
   ]
  },
  {
   "cell_type": "code",
   "execution_count": 32,
   "id": "a4b06f62-c197-4e5a-a8a4-67ebfe8e5e5c",
   "metadata": {},
   "outputs": [
    {
     "name": "stdout",
     "output_type": "stream",
     "text": [
      "100일 기념일은 2025년 6월 9일\n"
     ]
    }
   ],
   "source": [
    "day_100th = date_met + datetime.timedelta(days=100)\n",
    "print(f'100일 기념일은 {day_100th.year}년 {day_100th.month}월 {day_100th.day}일')"
   ]
  },
  {
   "cell_type": "code",
   "execution_count": 33,
   "id": "6d5e5360-26da-455d-87fb-1aac4455e057",
   "metadata": {},
   "outputs": [
    {
     "data": {
      "text/plain": [
       "0"
      ]
     },
     "execution_count": 33,
     "metadata": {},
     "output_type": "execute_result"
    }
   ],
   "source": [
    "day_100th.weekday()  # 0 가 월요일"
   ]
  },
  {
   "attachments": {},
   "cell_type": "markdown",
   "id": "118f17fc-4e0e-4174-988f-1f16a5d7c954",
   "metadata": {},
   "source": [
    "## time\n",
    "#### time(), localtime(), asctime(), ctime(), sleep()"
   ]
  },
  {
   "cell_type": "code",
   "execution_count": 34,
   "id": "2587bbc9-a750-419f-826e-580603be2c69",
   "metadata": {},
   "outputs": [
    {
     "name": "stdout",
     "output_type": "stream",
     "text": [
      "1743813813.7627277\n",
      "time.struct_time(tm_year=2025, tm_mon=4, tm_mday=5, tm_hour=9, tm_min=43, tm_sec=33, tm_wday=5, tm_yday=95, tm_isdst=0)\n",
      "Sat Apr  5 09:43:33 2025\n",
      "Sat Apr  5 09:43:33 2025\n"
     ]
    }
   ],
   "source": [
    "import time\n",
    "\n",
    "print(time.time())  # 1970년 1월 1일 0시 0분 0초부터 지금까지 지난 시간을 초 단위로 반환\n",
    "print(time.localtime(time.time()))\n",
    "print(time.asctime(time.localtime(time.time())))\n",
    "print(time.ctime())  # 현재 시간만 반환"
   ]
  },
  {
   "cell_type": "code",
   "execution_count": 35,
   "id": "05c7786c-9779-4f32-8835-533be1cdc653",
   "metadata": {},
   "outputs": [
    {
     "name": "stdout",
     "output_type": "stream",
     "text": [
      "0-1-2-3-4-5-6-7-8-9-"
     ]
    }
   ],
   "source": [
    "for i in range(10):\n",
    "    print(f'{i}-', end='')\n",
    "    time.sleep(1)  # 1초"
   ]
  },
  {
   "cell_type": "markdown",
   "id": "78f5b5a3-f135-43ff-9a22-6288727171a2",
   "metadata": {},
   "source": [
    "## random\n",
    "#### random(), randint(), randrange(), choice(), sample()"
   ]
  },
  {
   "cell_type": "code",
   "execution_count": 62,
   "id": "cd15e20b-b9a0-45a1-9aa5-1e7e66ae83f2",
   "metadata": {},
   "outputs": [
    {
     "name": "stdout",
     "output_type": "stream",
     "text": [
      "0.06688397634275167\n",
      "53\n",
      "13\n"
     ]
    }
   ],
   "source": [
    "import random\n",
    "\n",
    "random.seed(49)\n",
    "print(random.random())  # 0과 1사이의 float(또는 구간 (0, 1)의 균일분포에서 샘플링)\n",
    "print(random.randint(1, 100))  # 0과 100 사이의 난수 (1과 100도 가능)\n",
    "print(random.randrange(10, 50, 3))  # 10과 50 사이의 3씩 증가하는 수들의 난수"
   ]
  },
  {
   "cell_type": "code",
   "execution_count": 53,
   "id": "4519b8b9-241b-4781-8995-fc2815afc949",
   "metadata": {},
   "outputs": [],
   "source": [
    "state = random.getstate()\n",
    "random.setstate(state)"
   ]
  },
  {
   "cell_type": "code",
   "execution_count": 64,
   "id": "c6674b94-912e-4d01-a2e0-cd6d828f0d5e",
   "metadata": {},
   "outputs": [
    {
     "name": "stdout",
     "output_type": "stream",
     "text": [
      "6\n",
      "[9, 10, 1, 6, 8, 3, 2, 4, 7, 5]\n",
      "[10, 5, 6, 4]\n"
     ]
    }
   ],
   "source": [
    "data = [1, 2, 3, 4, 5, 6, 7, 8, 9, 10]\n",
    "print(random.choice(data))\n",
    "print(random.sample(data, len(data)))\n",
    "print(random.sample(data, 4))"
   ]
  },
  {
   "cell_type": "code",
   "execution_count": null,
   "id": "3d88f7ff-2813-4a72-ba50-8605731cd53d",
   "metadata": {},
   "outputs": [],
   "source": []
  }
 ],
 "metadata": {
  "kernelspec": {
   "display_name": "PythonClass",
   "language": "python",
   "name": "pyclass"
  },
  "language_info": {
   "codemirror_mode": {
    "name": "ipython",
    "version": 3
   },
   "file_extension": ".py",
   "mimetype": "text/x-python",
   "name": "python",
   "nbconvert_exporter": "python",
   "pygments_lexer": "ipython3",
   "version": "3.12.9"
  }
 },
 "nbformat": 4,
 "nbformat_minor": 5
}
