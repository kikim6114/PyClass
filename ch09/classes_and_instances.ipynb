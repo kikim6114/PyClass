{
 "cells": [
  {
   "cell_type": "markdown",
   "id": "7d255c3d-4e8f-485f-9dc0-ed427ac3bc39",
   "metadata": {},
   "source": [
    "## 클래스와 인스턴스 다루기\n",
    "### Car 클래스"
   ]
  },
  {
   "cell_type": "code",
   "execution_count": 15,
   "id": "0fc8e465-e58c-4d65-8e9a-303cce9d8d01",
   "metadata": {},
   "outputs": [
    {
     "name": "stdout",
     "output_type": "stream",
     "text": [
      "2024 Kia K5\n"
     ]
    }
   ],
   "source": [
    "class Car:\n",
    "    \"\"\"자동차를 나타내는 단순한 시도.\"\"\"\n",
    "    \n",
    "    def __init__(self, make, model, year):\n",
    "        \"\"\"자동차를 설명하는 속성들을 초기화.\"\"\"\n",
    "        self.make = make\n",
    "        self.model = model\n",
    "        self.year = year\n",
    "\n",
    "    def get_descriptive_name(self):\n",
    "        \"\"\"깔끔하게 처리된 이름을 반환.\"\"\"\n",
    "        long_name = f\"{self.year} {self.make} {self.model}\"\n",
    "        return long_name.title()\n",
    "\n",
    "my_new_car = Car('kia', 'k5', 2024)\n",
    "print(my_new_car.get_descriptive_name())"
   ]
  },
  {
   "cell_type": "markdown",
   "id": "b36fe2f7-6c81-4a05-90d2-168b690858b8",
   "metadata": {},
   "source": [
    "### 속성의 기본값 설정"
   ]
  },
  {
   "cell_type": "code",
   "execution_count": 9,
   "id": "f3fb2a9b-f6b1-4e7a-a7ec-ca2443fd59d7",
   "metadata": {},
   "outputs": [
    {
     "name": "stdout",
     "output_type": "stream",
     "text": [
      "2024 Kia K5\n",
      "이 차량의 주행거리는 0 Km 입니다.\n"
     ]
    }
   ],
   "source": [
    "class Car:\n",
    "    \"\"\"자동차를 나타내는 단순한 시도.\"\"\"\n",
    "    \n",
    "    def __init__(self, make, model, year):\n",
    "        \"\"\"자동차를 설명하는 속성들을 초기화.\"\"\"\n",
    "        self.make = make\n",
    "        self.model = model\n",
    "        self.year = year\n",
    "        self.odometer_reading = 0  # 주행거리를 나타내는 속성 추가하고 기본값을 0 으로 설정\n",
    "        \n",
    "    def get_descriptive_name(self):\n",
    "        \"\"\"깔끔하게 처리된 이름을 반환.\"\"\"\n",
    "        long_name = f\"{self.year} {self.make} {self.model}\"\n",
    "        return long_name.title()\n",
    "\n",
    "    def read_odometer(self):\n",
    "        \"\"\"차량의 주행거리를 보여주는 문장을 프린트.\"\"\"\n",
    "        print(f\"이 차량의 주행거리는 {self.odometer_reading} Km 입니다.\")\n",
    "\n",
    "my_new_car = Car('kia', 'k5', 2024)\n",
    "print(my_new_car.get_descriptive_name())\n",
    "my_new_car.read_odometer()"
   ]
  },
  {
   "cell_type": "markdown",
   "id": "4fe8c9dd-d58b-4bdc-9789-c0026a52b95b",
   "metadata": {},
   "source": [
    "### 속성값의 변경\n",
    "#### 직접 변경"
   ]
  },
  {
   "cell_type": "code",
   "execution_count": 10,
   "id": "a293f22c-93fa-46e6-99b7-65c0194a8c58",
   "metadata": {},
   "outputs": [
    {
     "name": "stdout",
     "output_type": "stream",
     "text": [
      "2024 Kia K5\n",
      "이 차량의 주행거리는 23 Km 입니다.\n"
     ]
    }
   ],
   "source": [
    "my_new_car = Car('kia', 'k5', 2024)\n",
    "print(my_new_car.get_descriptive_name())\n",
    "my_new_car.odometer_reading = 23  # 주행계 값을 직접 변경\n",
    "my_new_car.read_odometer()"
   ]
  },
  {
   "cell_type": "markdown",
   "id": "91ad92e9-c4cb-4440-a02f-13bc2debc333",
   "metadata": {},
   "source": [
    "#### 메서드를 통한 변경"
   ]
  },
  {
   "cell_type": "code",
   "execution_count": 11,
   "id": "d07edb36-fcea-44ae-aa13-38c8b18bda28",
   "metadata": {},
   "outputs": [
    {
     "name": "stdout",
     "output_type": "stream",
     "text": [
      "2024 Kia K5\n",
      "이 차량의 주행거리는 23 Km 입니다.\n"
     ]
    }
   ],
   "source": [
    "class Car:\n",
    "    \"\"\"자동차를 나타내는 단순한 시도.\"\"\"\n",
    "    \n",
    "    def __init__(self, make, model, year):\n",
    "        \"\"\"자동차를 설명하는 속성들을 초기화.\"\"\"\n",
    "        self.make = make\n",
    "        self.model = model\n",
    "        self.year = year\n",
    "        self.odometer_reading = 0  # 주행거리를 나타내는 속성 추가하고 기본값을 0 으로 설정\n",
    "        \n",
    "    def get_descriptive_name(self):\n",
    "        \"\"\"깔끔하게 처리된 이름을 반환.\"\"\"\n",
    "        long_name = f\"{self.year} {self.make} {self.model}\"\n",
    "        return long_name.title()\n",
    "\n",
    "    def read_odometer(self):\n",
    "        \"\"\"차량의 주행거리를 보여주는 문장을 프린트.\"\"\"\n",
    "        print(f\"이 차량의 주행거리는 {self.odometer_reading} Km 입니다.\")\n",
    "\n",
    "    def update_odometer(self, mileage):  # 주행계 값을 설정하는 메서드 추가\n",
    "        \"\"\"주행계값을 주어진 값으로 설정.\"\"\"\n",
    "        self.odometer_reading = mileage\n",
    "\n",
    "my_new_car = Car('kia', 'k5', 2024)\n",
    "print(my_new_car.get_descriptive_name())\n",
    "\n",
    "my_new_car.update_odometer(23)\n",
    "my_new_car.read_odometer()"
   ]
  },
  {
   "attachments": {},
   "cell_type": "markdown",
   "id": "130d7e8e-296c-442b-9f86-7a44ddc374c5",
   "metadata": {},
   "source": [
    "##### 주행거리가 줄어들게 조작하지 못하도록 `update_odometer()` 업그레이드"
   ]
  },
  {
   "cell_type": "code",
   "execution_count": 13,
   "id": "98e507e1-70ca-40b9-9898-a9e9c60e3aa8",
   "metadata": {},
   "outputs": [
    {
     "name": "stdout",
     "output_type": "stream",
     "text": [
      "2024 Kia K5\n",
      "이 차량의 주행거리는 1000 Km 입니다.\n",
      "주행계는 되돌릴 수 없습니다!\n"
     ]
    }
   ],
   "source": [
    "class Car:\n",
    "    \"\"\"자동차를 나타내는 단순한 시도.\"\"\"\n",
    "    \n",
    "    def __init__(self, make, model, year):\n",
    "        \"\"\"자동차를 설명하는 속성들을 초기화.\"\"\"\n",
    "        self.make = make\n",
    "        self.model = model\n",
    "        self.year = year\n",
    "        self.odometer_reading = 0  # 주행거리를 나타내는 속성 추가하고 기본값을 0 으로 설정\n",
    "        \n",
    "    def get_descriptive_name(self):\n",
    "        \"\"\"깔끔하게 처리된 이름을 반환.\"\"\"\n",
    "        long_name = f\"{self.year} {self.make} {self.model}\"\n",
    "        return long_name.title()\n",
    "\n",
    "    def read_odometer(self):\n",
    "        \"\"\"차량의 주행거리를 보여주는 문장을 프린트.\"\"\"\n",
    "        print(f\"이 차량의 주행거리는 {self.odometer_reading} Km 입니다.\")\n",
    "\n",
    "    def update_odometer(self, mileage):  # 주행계 값을 설정하는 메서드 추가\n",
    "        \"\"\"\n",
    "        주행계 값을 주어진 값으로 설정.\n",
    "        주행계 값을 뒤로 돌리려는 시도는 거부.\n",
    "        \"\"\"\n",
    "        if mileage >= self.odometer_reading:\n",
    "            self.odometer_reading = mileage\n",
    "        else:\n",
    "            print(\"주행계는 되돌릴 수 없습니다!\")\n",
    "\n",
    "my_new_car = Car('kia', 'k5', 2024)\n",
    "print(my_new_car.get_descriptive_name())\n",
    "\n",
    "my_new_car.update_odometer(1000)\n",
    "my_new_car.read_odometer()\n",
    "my_new_car.update_odometer(500)"
   ]
  },
  {
   "cell_type": "markdown",
   "id": "af79be71-c79e-4ed2-ba14-22f89d47195a",
   "metadata": {},
   "source": [
    "##### 메서드를 통해 속성값 증가시키기"
   ]
  },
  {
   "cell_type": "code",
   "execution_count": 14,
   "id": "37613da9-fe69-4781-9859-1c90bcbf534b",
   "metadata": {},
   "outputs": [
    {
     "name": "stdout",
     "output_type": "stream",
     "text": [
      "2019 Hyundai Sonata\n",
      "이 차량의 주행거리는 23500 Km 입니다.\n",
      "이 차량의 주행거리는 23600 Km 입니다.\n"
     ]
    }
   ],
   "source": [
    "class Car:\n",
    "    \"\"\"자동차를 나타내는 단순한 시도.\"\"\"\n",
    "    \n",
    "    def __init__(self, make, model, year):\n",
    "        \"\"\"자동차를 설명하는 속성들을 초기화.\"\"\"\n",
    "        self.make = make\n",
    "        self.model = model\n",
    "        self.year = year\n",
    "        self.odometer_reading = 0  # 주행거리를 나타내는 속성 추가하고 기본값을 0 으로 설정\n",
    "        \n",
    "    def get_descriptive_name(self):\n",
    "        \"\"\"깔끔하게 처리된 이름을 반환.\"\"\"\n",
    "        long_name = f\"{self.year} {self.make} {self.model}\"\n",
    "        return long_name.title()\n",
    "\n",
    "    def read_odometer(self):\n",
    "        \"\"\"차량의 주행거리를 보여주는 문장을 프린트.\"\"\"\n",
    "        print(f\"이 차량의 주행거리는 {self.odometer_reading} Km 입니다.\")\n",
    "\n",
    "    def update_odometer(self, mileage):  # 주행계 값을 설정하는 메서드 추가\n",
    "        \"\"\"\n",
    "        주행계 값을 주어진 값으로 설정.\n",
    "        주행계 값을 뒤로 돌리려는 시도는 거부.\n",
    "        \"\"\"\n",
    "        if mileage >= self.odometer_reading:\n",
    "            self.odometer_reading = mileage\n",
    "        else:\n",
    "            print(\"주행계는 되돌릴 수 없습니다!\")\n",
    "\n",
    "    def increment_odometer(self, miles):\n",
    "        \"\"\"주행계 값을 주어진 값만큼 더하기.\"\"\"\n",
    "        self.odometer_reading += miles\n",
    "\n",
    "my_used_car = Car('hyundai', 'sonata', 2019)\n",
    "print(my_used_car.get_descriptive_name())\n",
    "\n",
    "my_used_car.update_odometer(23_500)\n",
    "my_used_car.read_odometer()\n",
    "\n",
    "my_used_car.increment_odometer(100)\n",
    "my_used_car.read_odometer()"
   ]
  },
  {
   "attachments": {},
   "cell_type": "markdown",
   "id": "f793503d-322d-4ee6-83f2-4397f034ee5a",
   "metadata": {},
   "source": [
    "### 상속(Inheritance)\n",
    "#### 자식 클래스를 위한 `__init__()` 메서드"
   ]
  },
  {
   "cell_type": "code",
   "execution_count": 15,
   "id": "1be2d32a-eb45-4ed6-8ef2-5c7609ac2256",
   "metadata": {},
   "outputs": [
    {
     "name": "stdout",
     "output_type": "stream",
     "text": [
      "2024 Kia Ev6\n"
     ]
    }
   ],
   "source": [
    "class Car:                         # 부모 클래스는 같은 파일에 있어야 하며, 자식 클래스보다 먼저 정의되어야 한다.\n",
    "    \"\"\"자동차를 나타내는 단순한 시도.\"\"\"\n",
    "    \n",
    "    def __init__(self, make, model, year):\n",
    "        \"\"\"자동차를 설명하는 속성들을 초기화.\"\"\"\n",
    "        self.make = make\n",
    "        self.model = model\n",
    "        self.year = year\n",
    "        self.odometer_reading = 0  # 주행거리를 나타내는 속성 추가하고 기본값을 0 으로 설정\n",
    "        \n",
    "    def get_descriptive_name(self):\n",
    "        \"\"\"깔끔하게 처리된 이름을 반환.\"\"\"\n",
    "        long_name = f\"{self.year} {self.make} {self.model}\"\n",
    "        return long_name.title()\n",
    "\n",
    "    def read_odometer(self):\n",
    "        \"\"\"차량의 주행거리를 보여주는 문장을 프린트.\"\"\"\n",
    "        print(f\"이 차량의 주행거리는 {self.odometer_reading} Km 입니다.\")\n",
    "\n",
    "    def update_odometer(self, mileage):  \n",
    "        \"\"\"\n",
    "        주행계 값을 주어진 값으로 설정.\n",
    "        주행계 값을 뒤로 돌리려는 시도는 거부.\n",
    "        \"\"\"\n",
    "        if mileage >= self.odometer_reading:\n",
    "            self.odometer_reading = mileage\n",
    "        else:\n",
    "            print(\"주행계는 되돌릴 수 없습니다!\")\n",
    "\n",
    "    def increment_odometer(self, miles):\n",
    "        \"\"\"주행계 값을 주어진 값만큼 더하기.\"\"\"\n",
    "        self.odometer_reading += miles\n",
    "\n",
    "class ElectricCar(Car):   # 괄호 안에 부모 클래스(superclass)\n",
    "    \"\"\"전기자동차에만 국한된 차의 특성들을 나타낸다.\"\"\"\n",
    "\n",
    "    def __init__(self, make, model, year):  # 부모 클래스인 Car의 인스턴스를 만들기 위해 제공해야 하는 정보\n",
    "        \"\"\"부모 클래스의 속성들을 초기화.\"\"\"\n",
    "        super().__init__(make, model, year) # 부모 클래스의 __init__() 메서드 호출. 부모 클래스의 모든 속성과 메서드가 상속된다.\n",
    "\n",
    "\n",
    "my_ev = ElectricCar('kia', 'ev6', 2024)\n",
    "print(my_ev.get_descriptive_name())"
   ]
  },
  {
   "cell_type": "markdown",
   "id": "0ebda9c4-76e5-4c7b-8d36-91400f22d673",
   "metadata": {},
   "source": [
    "#### 자식 클래스를 위한 속성과 메서드 정의"
   ]
  },
  {
   "cell_type": "code",
   "execution_count": 17,
   "id": "1fbba345-c55d-494b-b6b8-537ef41cc342",
   "metadata": {},
   "outputs": [
    {
     "name": "stdout",
     "output_type": "stream",
     "text": [
      "2024 Kia Ev6\n",
      "이 자동차의 배터리 용량은 40-kWh 입니다.\n"
     ]
    }
   ],
   "source": [
    "class Car:                         # 부모 클래스는 같은 파일에 있어야 하며, 자식 클래스보다 먼저 정의되어야 한다.\n",
    "    \"\"\"자동차를 나타내는 단순한 시도.\"\"\"\n",
    "    \n",
    "    def __init__(self, make, model, year):\n",
    "        \"\"\"자동차를 설명하는 속성들을 초기화.\"\"\"\n",
    "        self.make = make\n",
    "        self.model = model\n",
    "        self.year = year\n",
    "        self.odometer_reading = 0  # 주행거리를 나타내는 속성 추가하고 기본값을 0 으로 설정\n",
    "        \n",
    "    def get_descriptive_name(self):\n",
    "        \"\"\"깔끔하게 처리된 이름을 반환.\"\"\"\n",
    "        long_name = f\"{self.year} {self.make} {self.model}\"\n",
    "        return long_name.title()\n",
    "\n",
    "    def read_odometer(self):\n",
    "        \"\"\"차량의 주행거리를 보여주는 문장을 프린트.\"\"\"\n",
    "        print(f\"이 차량의 주행거리는 {self.odometer_reading} Km 입니다.\")\n",
    "\n",
    "    def update_odometer(self, mileage):  \n",
    "        \"\"\"\n",
    "        주행계 값을 주어진 값으로 설정.\n",
    "        주행계 값을 뒤로 돌리려는 시도는 거부.\n",
    "        \"\"\"\n",
    "        if mileage >= self.odometer_reading:\n",
    "            self.odometer_reading = mileage\n",
    "        else:\n",
    "            print(\"주행계는 되돌릴 수 없습니다!\")\n",
    "\n",
    "    def increment_odometer(self, miles):\n",
    "        \"\"\"주행계 값을 주어진 값만큼 더하기.\"\"\"\n",
    "        self.odometer_reading += miles\n",
    "\n",
    "class ElectricCar(Car):   # 괄호 안에 부모 클래스(superclass)\n",
    "    \"\"\"전기자동차에만 국한된 차의 특성들을 나타낸다.\"\"\"\n",
    "\n",
    "    def __init__(self, make, model, year):  # 부모 클래스인 Car의 인스턴스를 만들기 위해 제공해야 하는 정보\n",
    "        \"\"\"\n",
    "        부모 클래스의 속성과 메서드를 초기화한다.\n",
    "        그런 다음, 전기자동차에만 국한된 차의 특성들을 나타낸다.\n",
    "        \"\"\"\n",
    "        super().__init__(make, model, year) # 부모 클래스의 __init__() 메서드 호출. 부모 클래스의 모든 속성과 메서드가 상속된다.\n",
    "        self.battery_size = 40\n",
    "\n",
    "    def describe_battery(self):\n",
    "        \"\"\"배터리 용량을 나타내는 문장을 프린트.\"\"\"\n",
    "        print(f\"이 자동차의 배터리 용량은 {self.battery_size}-kWh 입니다.\")    \n",
    "\n",
    "my_ev = ElectricCar('kia', 'ev6', 2024)\n",
    "print(my_ev.get_descriptive_name())\n",
    "my_ev.describe_battery()"
   ]
  },
  {
   "cell_type": "markdown",
   "id": "55e9297a-bbb5-4ed3-96b6-b855b48dddf1",
   "metadata": {},
   "source": [
    "#### 부모 클래스에서 받은 메서드 재정의(overriding)"
   ]
  },
  {
   "cell_type": "code",
   "execution_count": 19,
   "id": "9f598a8f-af18-4222-9863-1982c273ed74",
   "metadata": {},
   "outputs": [
    {
     "name": "stdout",
     "output_type": "stream",
     "text": [
      "2024 Kia Ev6\n",
      "전기차는 연료 탱크가 없습니다!\n"
     ]
    }
   ],
   "source": [
    "class Car:                         # 부모 클래스는 같은 파일에 있어야 하며, 자식 클래스보다 먼저 정의되어야 한다.\n",
    "    \"\"\"자동차를 나타내는 단순한 시도.\"\"\"\n",
    "    \n",
    "    def __init__(self, make, model, year):\n",
    "        \"\"\"자동차를 설명하는 속성들을 초기화.\"\"\"\n",
    "        self.make = make\n",
    "        self.model = model\n",
    "        self.year = year\n",
    "        self.odometer_reading = 0  # 주행거리를 나타내는 속성 추가하고 기본값을 0 으로 설정\n",
    "        \n",
    "    def get_descriptive_name(self):\n",
    "        \"\"\"깔끔하게 처리된 이름을 반환.\"\"\"\n",
    "        long_name = f\"{self.year} {self.make} {self.model}\"\n",
    "        return long_name.title()\n",
    "\n",
    "    def read_odometer(self):\n",
    "        \"\"\"차량의 주행거리를 보여주는 문장을 프린트.\"\"\"\n",
    "        print(f\"이 차량의 주행거리는 {self.odometer_reading} Km 입니다.\")\n",
    "\n",
    "    def update_odometer(self, mileage):  \n",
    "        \"\"\"\n",
    "        주행계 값을 주어진 값으로 설정.\n",
    "        주행계 값을 뒤로 돌리려는 시도는 거부.\n",
    "        \"\"\"\n",
    "        if mileage >= self.odometer_reading:\n",
    "            self.odometer_reading = mileage\n",
    "        else:\n",
    "            print(\"주행계는 되돌릴 수 없습니다!\")\n",
    "\n",
    "    def increment_odometer(self, miles):\n",
    "        \"\"\"주행계 값을 주어진 값만큼 더하기.\"\"\"\n",
    "        self.odometer_reading += miles\n",
    "\n",
    "    def fill_gas_tank(self):  # 부모 클래스는 화석연료 자동차를 나타내므로 이 메서드가 필요하다.\n",
    "        \"\"\"연료 탱크를 채운다.\"\"\"\n",
    "        print(f\"이제 연료 탱크를 가득 채웠습니다.\")\n",
    "\n",
    "class ElectricCar(Car):   # 괄호 안에 부모 클래스(superclass)\n",
    "    \"\"\"전기자동차에만 국한된 차의 특성들을 나타낸다.\"\"\"\n",
    "\n",
    "    def __init__(self, make, model, year):  # 부모 클래스인 Car의 인스턴스를 만들기 위해 제공해야 하는 정보\n",
    "        \"\"\"\n",
    "        부모 클래스의 속성과 메서드를 초기화한다.\n",
    "        그런 다음, 전기자동차에만 국한된 차의 특성들을 나타낸다.\n",
    "        \"\"\"\n",
    "        super().__init__(make, model, year) # 부모 클래스의 __init__() 메서드 호출. 부모 클래스의 모든 속성과 메서드가 상속된다.\n",
    "        self.battery_size = 40\n",
    "\n",
    "    def describe_battery(self):\n",
    "        \"\"\"배터리 용량을 나타내는 문장을 프린트.\"\"\"\n",
    "        print(f\"이 자동차의 배터리 용량은 {self.battery_size}-kWh 입니다.\")    \n",
    "\n",
    "    def fill_gas_tank(self):  # 전기차에서 이 메서드는 맞지 않는다. 충전하는 메서드로 바꿔야 한다.\n",
    "        \"\"\"전기차는 연료 탱크가 없다.\"\"\"\n",
    "        print(f\"전기차는 연료 탱크가 없습니다!\")\n",
    "        \n",
    "my_ev = ElectricCar('kia', 'ev6', 2024)\n",
    "print(my_ev.get_descriptive_name())\n",
    "my_ev.fill_gas_tank()"
   ]
  },
  {
   "cell_type": "markdown",
   "id": "0041126a-e0b5-4559-b233-bbc1f7d8837c",
   "metadata": {},
   "source": [
    "#### 합성(Composition)"
   ]
  },
  {
   "cell_type": "code",
   "execution_count": 20,
   "id": "24fab175-adea-4df8-bf0f-28f071122627",
   "metadata": {},
   "outputs": [
    {
     "name": "stdout",
     "output_type": "stream",
     "text": [
      "2024 Kia Ev6\n",
      "This car has a 40-kWh battery.\n"
     ]
    }
   ],
   "source": [
    "class Car:                         # 부모 클래스는 같은 파일에 있어야 하며, 자식 클래스보다 먼저 정의되어야 한다.\n",
    "    \"\"\"자동차를 나타내는 단순한 시도.\"\"\"\n",
    "    \n",
    "    def __init__(self, make, model, year):\n",
    "        \"\"\"자동차를 설명하는 속성들을 초기화.\"\"\"\n",
    "        self.make = make\n",
    "        self.model = model\n",
    "        self.year = year\n",
    "        self.odometer_reading = 0  # 주행거리를 나타내는 속성 추가하고 기본값을 0 으로 설정\n",
    "        \n",
    "    def get_descriptive_name(self):\n",
    "        \"\"\"깔끔하게 처리된 이름을 반환.\"\"\"\n",
    "        long_name = f\"{self.year} {self.make} {self.model}\"\n",
    "        return long_name.title()\n",
    "\n",
    "    def read_odometer(self):\n",
    "        \"\"\"차량의 주행거리를 보여주는 문장을 프린트.\"\"\"\n",
    "        print(f\"이 차량의 주행거리는 {self.odometer_reading} Km 입니다.\")\n",
    "\n",
    "    def update_odometer(self, mileage):  \n",
    "        \"\"\"\n",
    "        주행계 값을 주어진 값으로 설정.\n",
    "        주행계 값을 뒤로 돌리려는 시도는 거부.\n",
    "        \"\"\"\n",
    "        if mileage >= self.odometer_reading:\n",
    "            self.odometer_reading = mileage\n",
    "        else:\n",
    "            print(\"주행계는 되돌릴 수 없습니다!\")\n",
    "\n",
    "    def increment_odometer(self, miles):\n",
    "        \"\"\"주행계 값을 주어진 값만큼 더하기.\"\"\"\n",
    "        self.odometer_reading += miles\n",
    "\n",
    "    def fill_gas_tank(self):  # 부모 클래스는 화석연료 자동차를 나타내므로 이 메서드가 필요하다.\n",
    "        \"\"\"연료 탱크를 채운다.\"\"\"\n",
    "        print(f\"이제 연료 탱크를 가득 채웠습니다.\")\n",
    "\n",
    "class Battery:\n",
    "    \"\"\"전기차 배터리를 모델링하기 위한 간단한 시도.\"\"\"\n",
    "\n",
    "    def __init__(self, battery_size=40):\n",
    "        \"\"\"배터리 속성 초기화.\"\"\"\n",
    "        self.battery_size = battery_size\n",
    "\n",
    "    def describe_battery(self):\n",
    "        \"\"\"배터리 용량을 나타내는 문장을 프린트.\"\"\"\n",
    "        print(f\"이 자동차의 배터리 용량은 {self.battery_size}-kWh 입니다.\")\n",
    "\n",
    "class ElectricCar(Car):   # 괄호 안에 부모 클래스(superclass)\n",
    "    \"\"\"전기자동차에만 국한된 차의 특성들을 나타낸다.\"\"\"\n",
    "\n",
    "    def __init__(self, make, model, year):  # 부모 클래스인 Car의 인스턴스를 만들기 위해 제공해야 하는 정보\n",
    "        \"\"\"\n",
    "        부모 클래스의 속성과 메서드를 초기화한다.\n",
    "        그런 다음, 전기자동차에만 국한된 차의 특성들을 나타낸다.\n",
    "        \"\"\"\n",
    "        super().__init__(make, model, year) # 부모 클래스의 __init__() 메서드 호출. 부모 클래스의 모든 속성과 메서드가 상속된다.\n",
    "        self.battery = Battery()  # 컴포지션\n",
    "\n",
    "    def fill_gas_tank(self):  # 전기차에서 이 메서드는 맞지 않는다. 충전하는 메서드로 바꿔야 한다.\n",
    "        \"\"\"전기차는 연료 탱크가 없다.\"\"\"\n",
    "        print(f\"전기차는 연료 탱크가 없습니다!\")\n",
    "        \n",
    "my_ev = ElectricCar('kia', 'ev6', 2024)\n",
    "print(my_ev.get_descriptive_name())\n",
    "my_ev.battery.describe_battery()"
   ]
  },
  {
   "cell_type": "markdown",
   "id": "cf48e8ff-f81b-44e3-8c95-5c34b837db61",
   "metadata": {},
   "source": [
    "#### Battery 클래스를 확장해보자"
   ]
  },
  {
   "cell_type": "code",
   "execution_count": 22,
   "id": "70cdd7fb-d49a-4d4f-bc78-fc0d72f2d10b",
   "metadata": {},
   "outputs": [
    {
     "name": "stdout",
     "output_type": "stream",
     "text": [
      "2024 Kia Ev6\n",
      "이 자동차의 배터리 용량은 40-kWh 입니다.\n",
      "완전 충전 상태에서 450 Km를 주행할 수 있습니다.\n"
     ]
    }
   ],
   "source": [
    "class Car:                         # 부모 클래스는 같은 파일에 있어야 하며, 자식 클래스보다 먼저 정의되어야 한다.\n",
    "    \"\"\"자동차를 나타내는 단순한 시도.\"\"\"\n",
    "    \n",
    "    def __init__(self, make, model, year):\n",
    "        \"\"\"자동차를 설명하는 속성들을 초기화.\"\"\"\n",
    "        self.make = make\n",
    "        self.model = model\n",
    "        self.year = year\n",
    "        self.odometer_reading = 0  # 주행거리를 나타내는 속성 추가하고 기본값을 0 으로 설정\n",
    "        \n",
    "    def get_descriptive_name(self):\n",
    "        \"\"\"깔끔하게 처리된 이름을 반환.\"\"\"\n",
    "        long_name = f\"{self.year} {self.make} {self.model}\"\n",
    "        return long_name.title()\n",
    "\n",
    "    def read_odometer(self):\n",
    "        \"\"\"차량의 주행거리를 보여주는 문장을 프린트.\"\"\"\n",
    "        print(f\"이 차량의 주행거리는 {self.odometer_reading} Km 입니다.\")\n",
    "\n",
    "    def update_odometer(self, mileage):  \n",
    "        \"\"\"\n",
    "        주행계 값을 주어진 값으로 설정.\n",
    "        주행계 값을 뒤로 돌리려는 시도는 거부.\n",
    "        \"\"\"\n",
    "        if mileage >= self.odometer_reading:\n",
    "            self.odometer_reading = mileage\n",
    "        else:\n",
    "            print(\"주행계는 되돌릴 수 없습니다!\")\n",
    "\n",
    "    def increment_odometer(self, miles):\n",
    "        \"\"\"주행계 값을 주어진 값만큼 더하기.\"\"\"\n",
    "        self.odometer_reading += miles\n",
    "\n",
    "    def fill_gas_tank(self):  # 부모 클래스는 화석연료 자동차를 나타내므로 이 메서드가 필요하다.\n",
    "        \"\"\"연료 탱크를 채운다.\"\"\"\n",
    "        print(f\"이제 연료 탱크를 가득 채웠습니다.\")\n",
    "\n",
    "class Battery:\n",
    "    \"\"\"전기차 배터리를 모델링하기 위한 간단한 시도.\"\"\"\n",
    "\n",
    "    def __init__(self, battery_size=40):\n",
    "        \"\"\"배터리 속성 초기화.\"\"\"\n",
    "        self.battery_size = battery_size\n",
    "\n",
    "    def describe_battery(self):\n",
    "        \"\"\"배터리 용량을 나타내는 문장을 프린트.\"\"\"\n",
    "        print(f\"이 자동차의 배터리 용량은 {self.battery_size}-kWh 입니다.\")\n",
    "\n",
    "    def get_range(self):\n",
    "        \"\"\"현재 배터리로 갈 수 있는 주행거리를 프린트.\"\"\"\n",
    "        if self.battery_size == 40:\n",
    "            range = 450\n",
    "        elif self.battery_size == 65:\n",
    "            range = 625\n",
    "        \n",
    "        print(f\"완전 충전 상태에서 {range} Km를 주행할 수 있습니다.\")\n",
    "\n",
    "class ElectricCar(Car):   # 괄호 안에 부모 클래스(superclass)\n",
    "    \"\"\"전기자동차에만 국한된 차의 특성들을 나타낸다.\"\"\"\n",
    "\n",
    "    def __init__(self, make, model, year):  # 부모 클래스인 Car의 인스턴스를 만들기 위해 제공해야 하는 정보\n",
    "        \"\"\"\n",
    "        부모 클래스의 속성과 메서드를 초기화한다.\n",
    "        그런 다음, 전기자동차에만 국한된 차의 특성들을 나타낸다.\n",
    "        \"\"\"\n",
    "        super().__init__(make, model, year) # 부모 클래스의 __init__() 메서드 호출. 부모 클래스의 모든 속성과 메서드가 상속된다.\n",
    "        self.battery = Battery()  # 컴포지션\n",
    "\n",
    "    def fill_gas_tank(self):  # 전기차에서 이 메서드는 맞지 않는다. 충전하는 메서드로 바꿔야 한다.\n",
    "        \"\"\"전기차는 연료 탱크가 없다.\"\"\"\n",
    "        print(f\"전기차는 연료 탱크가 없습니다!\")\n",
    "        \n",
    "my_ev = ElectricCar('kia', 'ev6', 2024)\n",
    "print(my_ev.get_descriptive_name())\n",
    "my_ev.battery.describe_battery()\n",
    "my_ev.battery.get_range()"
   ]
  },
  {
   "cell_type": "code",
   "execution_count": null,
   "id": "e07fa3cf-bc49-44c8-97a1-139868cb95e3",
   "metadata": {},
   "outputs": [],
   "source": []
  }
 ],
 "metadata": {
  "kernelspec": {
   "display_name": "PythonClass",
   "language": "python",
   "name": "pyclass"
  },
  "language_info": {
   "codemirror_mode": {
    "name": "ipython",
    "version": 3
   },
   "file_extension": ".py",
   "mimetype": "text/x-python",
   "name": "python",
   "nbconvert_exporter": "python",
   "pygments_lexer": "ipython3",
   "version": "3.12.9"
  }
 },
 "nbformat": 4,
 "nbformat_minor": 5
}
