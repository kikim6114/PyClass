{
 "cells": [
  {
   "cell_type": "markdown",
   "id": "fe4952a6-c109-41fc-be88-3d00a6438325",
   "metadata": {},
   "source": [
    "## 클래스의 생성과 사용\n",
    "### Dog 클래스 만들기"
   ]
  },
  {
   "cell_type": "code",
   "execution_count": 9,
   "id": "a3c9ccb6-422c-4709-b265-219c4d8a2224",
   "metadata": {},
   "outputs": [],
   "source": [
    "class Dog:\n",
    "    \"\"\"강아지를 모델링하는 단순한 방법\"\"\"\n",
    "    \n",
    "    def __init__(self, name, age):\n",
    "        \"\"\"속성 name과 age를 초기화\"\"\"\n",
    "        self.name = name\n",
    "        self.age = age\n",
    "\n",
    "    def sit(self):\n",
    "        \"\"\"앉으라고 명령하면 앉는 강아지를 시뮬레이션\"\"\"\n",
    "        print(f\"{self.name}가 앉았습니다.\")\n",
    "\n",
    "    def roll_over(self):\n",
    "        \"\"\"구르라고 명령하면 구르는 강아지를 시뮬레이션\"\"\"\n",
    "        print(f\"{self.name}가 굴렀습니다!\")"
   ]
  },
  {
   "cell_type": "markdown",
   "id": "2e1942fd-362a-4f5b-aa85-a504718d0b44",
   "metadata": {},
   "source": [
    "### 클래스로부터 인스턴스 생성하기"
   ]
  },
  {
   "cell_type": "code",
   "execution_count": 10,
   "id": "6e1ff00c-c588-4305-8440-e670a6f0be51",
   "metadata": {},
   "outputs": [
    {
     "name": "stdout",
     "output_type": "stream",
     "text": [
      "내 강아지 이름은 봉자입니다.\n",
      "내 강아지 나이는 6살입니다.\n"
     ]
    }
   ],
   "source": [
    "my_dog = Dog('봉자', 6)\n",
    "\n",
    "print(f\"내 강아지 이름은 {my_dog.name}입니다.\")\n",
    "print(f\"내 강아지 나이는 {my_dog.age}살입니다.\")"
   ]
  },
  {
   "cell_type": "markdown",
   "id": "27654402-faef-4b1c-9161-541836d93083",
   "metadata": {},
   "source": [
    "#### 메서드 호출"
   ]
  },
  {
   "cell_type": "code",
   "execution_count": 11,
   "id": "8387d4d6-eaf4-422c-a927-9ebc772f7d43",
   "metadata": {},
   "outputs": [
    {
     "name": "stdout",
     "output_type": "stream",
     "text": [
      "봉자가 앉았습니다.\n",
      "봉자가 굴렀습니다!\n"
     ]
    }
   ],
   "source": [
    "my_dog.sit()\n",
    "my_dog.roll_over()"
   ]
  },
  {
   "cell_type": "markdown",
   "id": "4c6c58f4-3f72-46ca-a608-f46f438ae6ed",
   "metadata": {},
   "source": [
    "#### 인스턴스 여러 개 만들기"
   ]
  },
  {
   "cell_type": "code",
   "execution_count": 12,
   "id": "f607888b-7454-43b1-a78f-7b9d7315ca47",
   "metadata": {},
   "outputs": [
    {
     "name": "stdout",
     "output_type": "stream",
     "text": [
      "내 강아지 이름은 봉자입니다.\n",
      "내 강아지 나이는 6살입니다.\n",
      "봉자가 앉았습니다.\n",
      "\n",
      "아가씨 강아지 이름은 땡칠입니다.\n",
      "아가씨 강아지 나이는 3살입니다.\n",
      "땡칠가 앉았습니다.\n"
     ]
    }
   ],
   "source": [
    "my_dog = Dog('봉자', 6)\n",
    "your_dog = Dog('땡칠', 3)\n",
    "\n",
    "print(f\"내 강아지 이름은 {my_dog.name}입니다.\")\n",
    "print(f\"내 강아지 나이는 {my_dog.age}살입니다.\")\n",
    "my_dog.sit()\n",
    "\n",
    "print(f\"\\n아가씨 강아지 이름은 {your_dog.name}입니다.\")\n",
    "print(f\"아가씨 강아지 나이는 {your_dog.age}살입니다.\")\n",
    "your_dog.sit()"
   ]
  },
  {
   "cell_type": "code",
   "execution_count": null,
   "id": "0bbc8e3e-47be-4af2-8a00-2b5b28bd0095",
   "metadata": {},
   "outputs": [],
   "source": []
  }
 ],
 "metadata": {
  "kernelspec": {
   "display_name": "PythonClass",
   "language": "python",
   "name": "pyclass"
  },
  "language_info": {
   "codemirror_mode": {
    "name": "ipython",
    "version": 3
   },
   "file_extension": ".py",
   "mimetype": "text/x-python",
   "name": "python",
   "nbconvert_exporter": "python",
   "pygments_lexer": "ipython3",
   "version": "3.12.9"
  }
 },
 "nbformat": 4,
 "nbformat_minor": 5
}
