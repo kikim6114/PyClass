{
 "cells": [
  {
   "cell_type": "markdown",
   "id": "6eac0a53-778b-4a48-a70c-c370622449b2",
   "metadata": {},
   "source": [
    "### 단일 클래스 import"
   ]
  },
  {
   "cell_type": "code",
   "execution_count": 1,
   "id": "be7df955-3f7e-4148-9bac-5bc7341fc08f",
   "metadata": {},
   "outputs": [],
   "source": [
    "import car"
   ]
  },
  {
   "cell_type": "code",
   "execution_count": 2,
   "id": "cfb84d15-bbe5-4b5b-ad95-2c67ba02ec90",
   "metadata": {},
   "outputs": [
    {
     "data": {
      "text/plain": [
       "'자동차를 나타내는 데 사용될 수 있는 클래스'"
      ]
     },
     "execution_count": 2,
     "metadata": {},
     "output_type": "execute_result"
    }
   ],
   "source": [
    "car.__doc__"
   ]
  },
  {
   "cell_type": "code",
   "execution_count": 3,
   "id": "9b8c5e52-1649-4682-a1e2-ef1f0df0f60e",
   "metadata": {},
   "outputs": [
    {
     "name": "stdout",
     "output_type": "stream",
     "text": [
      "Help on module car:\n",
      "\n",
      "NAME\n",
      "    car - 자동차를 나타내는 데 사용될 수 있는 클래스\n",
      "\n",
      "CLASSES\n",
      "    builtins.object\n",
      "        Car\n",
      "\n",
      "    class Car(builtins.object)\n",
      "     |  Car(make, model, year)\n",
      "     |\n",
      "     |  자동차를 나타내는 단순한 시도.\n",
      "     |\n",
      "     |  Methods defined here:\n",
      "     |\n",
      "     |  __init__(self, make, model, year)\n",
      "     |      자동차를 설명하는 속성들을 초기화.\n",
      "     |\n",
      "     |  fill_gas_tank(self)\n",
      "     |      연료 탱크를 채운다.\n",
      "     |\n",
      "     |  get_descriptive_name(self)\n",
      "     |      깔끔하게 처리된 이름을 반환.\n",
      "     |\n",
      "     |  increment_odometer(self, miles)\n",
      "     |      주행계 값을 주어진 값만큼 더하기.\n",
      "     |\n",
      "     |  read_odometer(self)\n",
      "     |      차량의 주행거리를 보여주는 문장을 프린트.\n",
      "     |\n",
      "     |  update_odometer(self, mileage)\n",
      "     |      주행계 값을 주어진 값으로 설정.\n",
      "     |      주행계 값을 뒤로 돌리려는 시도는 거부.\n",
      "     |\n",
      "     |  ----------------------------------------------------------------------\n",
      "     |  Data descriptors defined here:\n",
      "     |\n",
      "     |  __dict__\n",
      "     |      dictionary for instance variables\n",
      "     |\n",
      "     |  __weakref__\n",
      "     |      list of weak references to the object\n",
      "\n",
      "FILE\n",
      "    c:\\pyclass\\ch09\\car.py\n",
      "\n",
      "\n"
     ]
    }
   ],
   "source": [
    "help(car)"
   ]
  },
  {
   "cell_type": "code",
   "execution_count": 4,
   "id": "5c31e715-99c6-4d87-9e71-b131e3aad2da",
   "metadata": {},
   "outputs": [
    {
     "name": "stdout",
     "output_type": "stream",
     "text": [
      "2022 Kia K7\n",
      "이 차량의 주행거리는 2300 Km 입니다.\n"
     ]
    }
   ],
   "source": [
    "from car import Car\n",
    "\n",
    "my_new_car = Car('kia', 'k7', 2022)\n",
    "print(my_new_car.get_descriptive_name())\n",
    "my_new_car.odometer_reading = 2300\n",
    "my_new_car.read_odometer()"
   ]
  },
  {
   "cell_type": "markdown",
   "id": "b77d700b-7d5d-4c6e-8d29-b4be5241705f",
   "metadata": {},
   "source": [
    "### 여러 클래스를 한 모듈에 저장하기"
   ]
  },
  {
   "cell_type": "code",
   "execution_count": 1,
   "id": "11b3f9d2-739c-4a36-8c85-9b069bbd54d6",
   "metadata": {},
   "outputs": [
    {
     "name": "stdout",
     "output_type": "stream",
     "text": [
      "2025 Hyundai Ioniq5N\n",
      "이 자동차의 배터리 용량은 40-kWh 입니다.\n",
      "완전 충전 상태에서 450 Km를 주행할 수 있습니다.\n"
     ]
    }
   ],
   "source": [
    "from car import ElectricCar\n",
    "\n",
    "my_ioniq = ElectricCar('hyundai', 'ioniq5n', 2025)\n",
    "print(my_ioniq.get_descriptive_name())\n",
    "my_ioniq.battery.describe_battery()\n",
    "my_ioniq.battery.get_range()"
   ]
  },
  {
   "cell_type": "markdown",
   "id": "f30b025c-0abc-4742-a3d5-47cbae17db95",
   "metadata": {},
   "source": [
    "### 모듈에서 여러 클래스 import 하기"
   ]
  },
  {
   "cell_type": "code",
   "execution_count": 6,
   "id": "74b77398-5f67-4751-aa39-098693aa9c0e",
   "metadata": {},
   "outputs": [
    {
     "name": "stdout",
     "output_type": "stream",
     "text": [
      "2018 Bmw M6\n",
      "2025 Kia Ev6\n"
     ]
    }
   ],
   "source": [
    "from car import Car, ElectricCar\n",
    "\n",
    "my_bmw = Car('bmw', 'm6', 2018)\n",
    "print(my_bmw.get_descriptive_name())\n",
    "my_ev = ElectricCar('kia', 'ev6', 2025)\n",
    "print(my_ev.get_descriptive_name())"
   ]
  },
  {
   "cell_type": "markdown",
   "id": "72f3e3fa-cc6e-4638-9103-9dbd8b61833b",
   "metadata": {},
   "source": [
    "### 모듈 전체 import 하기"
   ]
  },
  {
   "cell_type": "code",
   "execution_count": 9,
   "id": "af41d29e-d7de-4307-8089-9e9508a1082c",
   "metadata": {},
   "outputs": [
    {
     "name": "stdout",
     "output_type": "stream",
     "text": [
      "2018 Bmw M6\n",
      "2025 Kia Ev6\n"
     ]
    }
   ],
   "source": [
    "import car\n",
    "\n",
    "my_bmw = car.Car('bmw', 'm6', 2018)\n",
    "print(my_bmw.get_descriptive_name())\n",
    "my_ev = car.ElectricCar('kia', 'ev6', 2025)\n",
    "print(my_ev.get_descriptive_name())"
   ]
  },
  {
   "cell_type": "markdown",
   "id": "9386bc27-fb0a-4d6e-a455-de06ec838491",
   "metadata": {},
   "source": [
    "### 모듈에서 모듈을 import 하기"
   ]
  },
  {
   "cell_type": "code",
   "execution_count": 10,
   "id": "64ad962e-8064-4cd0-b437-35bf3f697788",
   "metadata": {},
   "outputs": [
    {
     "name": "stdout",
     "output_type": "stream",
     "text": [
      "2018 Bmw M6\n",
      "2025 Kia Ev6\n"
     ]
    }
   ],
   "source": [
    "from car import Car\n",
    "from electric_car import ElectricCar\n",
    "\n",
    "my_bmw = Car('bmw', 'm6', 2018)\n",
    "print(my_bmw.get_descriptive_name())\n",
    "my_ev = ElectricCar('kia', 'ev6', 2025)\n",
    "print(my_ev.get_descriptive_name())"
   ]
  },
  {
   "cell_type": "code",
   "execution_count": null,
   "id": "901661be-defa-4365-894b-0c5981d690b1",
   "metadata": {},
   "outputs": [],
   "source": []
  }
 ],
 "metadata": {
  "kernelspec": {
   "display_name": "PythonClass",
   "language": "python",
   "name": "pyclass"
  },
  "language_info": {
   "codemirror_mode": {
    "name": "ipython",
    "version": 3
   },
   "file_extension": ".py",
   "mimetype": "text/x-python",
   "name": "python",
   "nbconvert_exporter": "python",
   "pygments_lexer": "ipython3",
   "version": "3.12.9"
  }
 },
 "nbformat": 4,
 "nbformat_minor": 5
}
