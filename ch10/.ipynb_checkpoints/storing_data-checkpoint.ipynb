{
 "cells": [
  {
   "cell_type": "markdown",
   "id": "654ec494-2e83-471d-b6dc-9b5d1ca1e514",
   "metadata": {},
   "source": [
    "## 데이터 저장\n",
    "#### json.dumps(_data_)"
   ]
  },
  {
   "cell_type": "code",
   "execution_count": 1,
   "id": "29be06b0-d95f-4473-b2fa-abd913dda798",
   "metadata": {},
   "outputs": [
    {
     "data": {
      "text/plain": [
       "20"
      ]
     },
     "execution_count": 1,
     "metadata": {},
     "output_type": "execute_result"
    }
   ],
   "source": [
    "from pathlib import Path\n",
    "import json\n",
    "\n",
    "numbers = [2, 3, 5, 7, 11, 13]\n",
    "\n",
    "path = Path('numbers.json')\n",
    "contents = json.dumps(numbers)\n",
    "path.write_text(contents)"
   ]
  },
  {
   "cell_type": "markdown",
   "id": "f5123d09-4188-414e-b61c-d201f5e01acc",
   "metadata": {},
   "source": [
    "#### json.loads(_data_)"
   ]
  },
  {
   "cell_type": "code",
   "execution_count": 3,
   "id": "22010387-22f6-4c25-856f-69f428c18660",
   "metadata": {},
   "outputs": [
    {
     "name": "stdout",
     "output_type": "stream",
     "text": [
      "[2, 3, 5, 7, 11, 13]\n"
     ]
    }
   ],
   "source": [
    "from pathlib import Path\n",
    "import json\n",
    "\n",
    "path = Path('numbers.json')\n",
    "contents = path.read_text()\n",
    "numbers = json.loads(contents)\n",
    "\n",
    "print(numbers)"
   ]
  },
  {
   "cell_type": "markdown",
   "id": "d1b9a840-44c0-45fc-be99-e427ce2da8f3",
   "metadata": {},
   "source": [
    "#### 사용자 데이터 저장 및 읽기"
   ]
  },
  {
   "cell_type": "code",
   "execution_count": 5,
   "id": "28e609fb-4bce-4736-bf7b-1ee435ab811c",
   "metadata": {},
   "outputs": [
    {
     "name": "stdin",
     "output_type": "stream",
     "text": [
      "성함을 알려주세요:  배철수\n"
     ]
    },
    {
     "name": "stdout",
     "output_type": "stream",
     "text": [
      "다시 오시면 성함을 기억하고 있겠습니다. 배철수씨!\n"
     ]
    }
   ],
   "source": [
    "from pathlib import Path\n",
    "import json\n",
    "\n",
    "username = input(\"성함을 알려주세요: \")\n",
    "path = Path('username.json')\n",
    "contents = json.dumps(username)\n",
    "path.write_text(contents)\n",
    "\n",
    "print(f\"다시 오시면 존함을 기억하고 있겠습니다. {username}님!\")"
   ]
  },
  {
   "cell_type": "markdown",
   "id": "e404f5d9-c156-40e7-9b2a-f4eb3b2b151f",
   "metadata": {},
   "source": [
    "#### 고객에게 인사하기"
   ]
  },
  {
   "cell_type": "code",
   "execution_count": 7,
   "id": "0e580bdf-b70b-45c5-9d99-f33cac08f5c1",
   "metadata": {},
   "outputs": [
    {
     "name": "stdout",
     "output_type": "stream",
     "text": [
      "다시 뵙게 되어 반갑습니다, 배철수님!\n"
     ]
    }
   ],
   "source": [
    "from pathlib import Path\n",
    "import json\n",
    "\n",
    "path = Path('username.json')\n",
    "contents = path.read_text()\n",
    "username = json.loads(contents)\n",
    "\n",
    "print(f\"다시 뵙게 되어 반갑습니다, {username}님!\")"
   ]
  },
  {
   "cell_type": "markdown",
   "id": "de41a3f8-fe8c-49e8-ba7f-1cf03ac4fbc6",
   "metadata": {},
   "source": [
    "#### 결합"
   ]
  },
  {
   "cell_type": "code",
   "execution_count": 9,
   "id": "a0f6368c-da2b-4de9-9cfa-756f6608b33b",
   "metadata": {},
   "outputs": [
    {
     "name": "stdin",
     "output_type": "stream",
     "text": [
      "성함을 알려주세요:  배철수\n"
     ]
    },
    {
     "name": "stdout",
     "output_type": "stream",
     "text": [
      "다시 오시면 존함을 기억하고 있겠습니다. 배철수님!\n"
     ]
    }
   ],
   "source": [
    "from pathlib import Path\n",
    "import json\n",
    "\n",
    "path = Path('username.json')\n",
    "if path.exists():\n",
    "    contents = path.read_text()\n",
    "    username = json.loads(contents)\n",
    "    print(f\"다시 오셨군요, {username}님!\")\n",
    "else:\n",
    "    username = input(\"성함을 알려주세요: \")\n",
    "    contents = json.dumps(username)\n",
    "    path.write_text(contents)\n",
    "    print(f\"다시 오시면 존함을 기억하고 있겠습니다. {username}님!\")"
   ]
  },
  {
   "cell_type": "markdown",
   "id": "b11efd64-1ca2-40a0-a867-5c572f115a41",
   "metadata": {},
   "source": [
    "#### 리팩토링-1"
   ]
  },
  {
   "cell_type": "code",
   "execution_count": 10,
   "id": "e68ddcf1-13a1-459a-b4cf-f384cd76932e",
   "metadata": {},
   "outputs": [
    {
     "name": "stdout",
     "output_type": "stream",
     "text": [
      "다시 오셨군요, 배철수님!\n"
     ]
    }
   ],
   "source": [
    "from pathlib import Path\n",
    "import json\n",
    "\n",
    "def greet_user():\n",
    "    \"\"\"고객 이름으로 인사하기.\"\"\"\n",
    "    path = Path('username.json')\n",
    "    if path.exists():\n",
    "        contents = path.read_text()\n",
    "        username = json.loads(contents)\n",
    "        print(f\"다시 오셨군요, {username}님!\")\n",
    "    else:\n",
    "        username = input(\"성함을 알려주세요: \")\n",
    "        contents = json.dumps(username)\n",
    "        path.write_text(contents)\n",
    "        print(f\"다시 오시면 존함을 기억하고 있겠습니다. {username}님!\")\n",
    "\n",
    "greet_user()"
   ]
  },
  {
   "cell_type": "markdown",
   "id": "7277e0b9-ae87-4e5a-9153-6b59ae7dbd60",
   "metadata": {},
   "source": [
    "#### 리팩토링-2"
   ]
  },
  {
   "cell_type": "code",
   "execution_count": 11,
   "id": "4b034010-b719-4a91-b770-71223e2bc5ab",
   "metadata": {},
   "outputs": [
    {
     "name": "stdout",
     "output_type": "stream",
     "text": [
      "다시 오셨군요, 배철수님!\n"
     ]
    }
   ],
   "source": [
    "from pathlib import Path\n",
    "import json\n",
    "\n",
    "def get_stored_username(path):\n",
    "    \"\"\"저장된 사용자명이 있으면 읽어오기.\"\"\"\n",
    "    if path.exists():\n",
    "        contents = path.read_text()\n",
    "        username = json.loads(contents)\n",
    "        return username\n",
    "    else:\n",
    "        return None\n",
    "        \n",
    "def greet_user():\n",
    "    \"\"\"고객 이름으로 인사하기.\"\"\"\n",
    "    path = Path('username.json')\n",
    "    username = get_stored_username(path)\n",
    "    if username:\n",
    "        print(f\"다시 오셨군요, {username}님!\")\n",
    "    else:\n",
    "        username = input(\"성함을 알려주세요: \")\n",
    "        contents = json.dumps(username)\n",
    "        path.write_text(contents)\n",
    "        print(f\"다시 오시면 존함을 기억하고 있겠습니다. {username}님!\")\n",
    "\n",
    "greet_user()"
   ]
  },
  {
   "cell_type": "markdown",
   "id": "1cca6f31-ce37-48f2-b584-cc61d1d8da72",
   "metadata": {},
   "source": [
    "#### 리팩토링-3"
   ]
  },
  {
   "cell_type": "code",
   "execution_count": null,
   "id": "83bc5f92-5fb3-475a-b79d-20c752d06ddf",
   "metadata": {},
   "outputs": [],
   "source": [
    "from pathlib import Path\n",
    "import json\n",
    "\n",
    "def get_stored_username(path):\n",
    "    \"\"\"저장된 사용자명이 있으면 읽어오기.\"\"\"\n",
    "    if path.exists():\n",
    "        contents = path.read_text()\n",
    "        username = json.loads(contents)\n",
    "        return username\n",
    "    else:\n",
    "        return None\n",
    "\n",
    "def get_new_username(path):\n",
    "    \"\"\"새 사용자명 입력 받기.\"\"\"\n",
    "    username = input(\"What is your name? \")\n",
    "    contents = json.dumps(username)\n",
    "    path.write_text(contents)\n",
    "    return username\n",
    "\n",
    "def greet_user():\n",
    "    \"\"\"고객 이름으로 인사하기.\"\"\"\n",
    "    path = Path('username.json')\n",
    "    username = get_stored_username(path)\n",
    "    if username:\n",
    "        print(f\"다시 오셨군요, {username}님!\")\n",
    "    else:\n",
    "        username = get_new_username(path)\n",
    "        print(f\"다시 오시면 존함을 기억하고 있겠습니다. {username}님!\")\n",
    "\n",
    "greet_user()"
   ]
  }
 ],
 "metadata": {
  "kernelspec": {
   "display_name": "PythonClass",
   "language": "python",
   "name": "pyclass"
  },
  "language_info": {
   "codemirror_mode": {
    "name": "ipython",
    "version": 3
   },
   "file_extension": ".py",
   "mimetype": "text/x-python",
   "name": "python",
   "nbconvert_exporter": "python",
   "pygments_lexer": "ipython3",
   "version": "3.12.9"
  }
 },
 "nbformat": 4,
 "nbformat_minor": 5
}
