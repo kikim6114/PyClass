{
 "cells": [
  {
   "cell_type": "markdown",
   "id": "b305d5ea-d734-42f3-81a1-cc0d93ee664f",
   "metadata": {},
   "source": [
    "## 예외 처리\n",
    "#### ZeroDivisionError 예외 "
   ]
  },
  {
   "cell_type": "code",
   "execution_count": 1,
   "id": "cac45de6-42de-4c92-84ba-739761bb1641",
   "metadata": {},
   "outputs": [
    {
     "ename": "ZeroDivisionError",
     "evalue": "division by zero",
     "output_type": "error",
     "traceback": [
      "\u001b[1;31m---------------------------------------------------------------------------\u001b[0m",
      "\u001b[1;31mZeroDivisionError\u001b[0m                         Traceback (most recent call last)",
      "Cell \u001b[1;32mIn[1], line 1\u001b[0m\n\u001b[1;32m----> 1\u001b[0m \u001b[38;5;28mprint\u001b[39m(\u001b[38;5;241m5\u001b[39m\u001b[38;5;241m/\u001b[39m\u001b[38;5;241m0\u001b[39m)\n",
      "\u001b[1;31mZeroDivisionError\u001b[0m: division by zero"
     ]
    }
   ],
   "source": [
    "print(5/0)"
   ]
  },
  {
   "cell_type": "markdown",
   "id": "6bf75a01-92db-4bd8-a51d-7820544b8201",
   "metadata": {},
   "source": [
    "#### try-except 블록 사용하기"
   ]
  },
  {
   "cell_type": "code",
   "execution_count": 2,
   "id": "2646e9d4-e45d-4f03-8cfd-aeed56eb6775",
   "metadata": {},
   "outputs": [
    {
     "name": "stdout",
     "output_type": "stream",
     "text": [
      "You can't divide by zero!\n"
     ]
    }
   ],
   "source": [
    "try:\n",
    "    print(5/0)\n",
    "except ZeroDivisionError:\n",
    "    print(\"0으로 나눌 수 없습니다!\")"
   ]
  },
  {
   "cell_type": "markdown",
   "id": "51fe4879-8bcd-4bd5-9b2a-a9a289bfaf92",
   "metadata": {},
   "source": [
    "#### 예외 처리로 충돌(Crash) 방지하기"
   ]
  },
  {
   "cell_type": "code",
   "execution_count": 3,
   "id": "1bf12daf-06f5-4cb0-8866-d0bed73f409d",
   "metadata": {},
   "outputs": [
    {
     "name": "stdout",
     "output_type": "stream",
     "text": [
      "숫자 두 개를 주면 나누기를 해드립니다.\n",
      "끝내려면 'q'를 입력하세요.\n"
     ]
    },
    {
     "name": "stdin",
     "output_type": "stream",
     "text": [
      "\n",
      "첫번째 숫자:  5\n",
      "두번째 숫자:  0\n"
     ]
    },
    {
     "ename": "ZeroDivisionError",
     "evalue": "division by zero",
     "output_type": "error",
     "traceback": [
      "\u001b[1;31m---------------------------------------------------------------------------\u001b[0m",
      "\u001b[1;31mZeroDivisionError\u001b[0m                         Traceback (most recent call last)",
      "Cell \u001b[1;32mIn[3], line 11\u001b[0m\n\u001b[0;32m      9\u001b[0m \u001b[38;5;28;01mif\u001b[39;00m second_number \u001b[38;5;241m==\u001b[39m \u001b[38;5;124m'\u001b[39m\u001b[38;5;124mq\u001b[39m\u001b[38;5;124m'\u001b[39m:\n\u001b[0;32m     10\u001b[0m     \u001b[38;5;28;01mbreak\u001b[39;00m\n\u001b[1;32m---> 11\u001b[0m answer \u001b[38;5;241m=\u001b[39m \u001b[38;5;28mint\u001b[39m(first_number) \u001b[38;5;241m/\u001b[39m \u001b[38;5;28mint\u001b[39m(second_number)\n\u001b[0;32m     12\u001b[0m \u001b[38;5;28mprint\u001b[39m(answer)\n",
      "\u001b[1;31mZeroDivisionError\u001b[0m: division by zero"
     ]
    }
   ],
   "source": [
    "print(\"숫자 두 개를 주면 나누기를 해드립니다.\")\n",
    "print(\"끝내려면 'q'를 입력하세요.\")\n",
    "\n",
    "while True:\n",
    "    first_number = input(\"\\n첫번째 숫자: \")\n",
    "    if first_number == 'q':\n",
    "        break\n",
    "    second_number = input(\"두번째 숫자: \")\n",
    "    if second_number == 'q':\n",
    "        break\n",
    "    answer = int(first_number) / int(second_number)\n",
    "    print(answer)"
   ]
  },
  {
   "cell_type": "markdown",
   "id": "ae6ef35e-1c6f-491e-b12f-ff3f48a113d9",
   "metadata": {},
   "source": [
    "#### else 블록"
   ]
  },
  {
   "cell_type": "code",
   "execution_count": 7,
   "id": "a89df7c5-a0f9-4d60-ba6f-52b5d2c6aacd",
   "metadata": {},
   "outputs": [
    {
     "name": "stdout",
     "output_type": "stream",
     "text": [
      "숫자 두 개를 주면 나누기를 해드립니다.\n",
      "끝내려면 'q'를 입력하세요.\n"
     ]
    },
    {
     "name": "stdin",
     "output_type": "stream",
     "text": [
      "\n",
      "첫번째 숫자:  5\n",
      "두번째 숫자:  0\n"
     ]
    },
    {
     "name": "stdout",
     "output_type": "stream",
     "text": [
      "0으로 나눌 수 없습니다!\n"
     ]
    },
    {
     "name": "stdin",
     "output_type": "stream",
     "text": [
      "\n",
      "첫번째 숫자:  5\n",
      "두번째 숫자:  2\n"
     ]
    },
    {
     "name": "stdout",
     "output_type": "stream",
     "text": [
      "2.5\n"
     ]
    },
    {
     "name": "stdin",
     "output_type": "stream",
     "text": [
      "\n",
      "첫번째 숫자:  q\n"
     ]
    }
   ],
   "source": [
    "print(\"숫자 두 개를 주면 나누기를 해드립니다.\")\n",
    "print(\"끝내려면 'q'를 입력하세요.\")\n",
    "\n",
    "while True:\n",
    "    first_number = input(\"\\n첫번째 숫자: \")\n",
    "    if first_number == 'q':\n",
    "        break\n",
    "    second_number = input(\"두번째 숫자: \")\n",
    "    if second_number == 'q':\n",
    "        break\n",
    "    try:\n",
    "        answer = int(first_number) / int(second_number)\n",
    "    except ZeroDivisionError:\n",
    "        print(\"0으로 나눌 수 없습니다!\")\n",
    "    else:\n",
    "        print(answer)"
   ]
  },
  {
   "cell_type": "markdown",
   "id": "dbeb5bf6-8c0f-47ec-bd52-35fee3c3f06d",
   "metadata": {},
   "source": [
    "#### FileNotFoundError 예외 발생"
   ]
  },
  {
   "cell_type": "code",
   "execution_count": 8,
   "id": "23cabf71-a7a6-4771-8d94-812b59d91801",
   "metadata": {},
   "outputs": [
    {
     "ename": "FileNotFoundError",
     "evalue": "[Errno 2] No such file or directory: 'alice.txt'",
     "output_type": "error",
     "traceback": [
      "\u001b[1;31m---------------------------------------------------------------------------\u001b[0m",
      "\u001b[1;31mFileNotFoundError\u001b[0m                         Traceback (most recent call last)",
      "Cell \u001b[1;32mIn[8], line 4\u001b[0m\n\u001b[0;32m      1\u001b[0m \u001b[38;5;28;01mfrom\u001b[39;00m \u001b[38;5;21;01mpathlib\u001b[39;00m \u001b[38;5;28;01mimport\u001b[39;00m Path\n\u001b[0;32m      3\u001b[0m path \u001b[38;5;241m=\u001b[39m Path(\u001b[38;5;124m'\u001b[39m\u001b[38;5;124malice.txt\u001b[39m\u001b[38;5;124m'\u001b[39m)\n\u001b[1;32m----> 4\u001b[0m contents \u001b[38;5;241m=\u001b[39m path\u001b[38;5;241m.\u001b[39mread_text(encoding\u001b[38;5;241m=\u001b[39m\u001b[38;5;124m'\u001b[39m\u001b[38;5;124mutf-8\u001b[39m\u001b[38;5;124m'\u001b[39m)\n",
      "File \u001b[1;32m~\\anaconda3\\envs\\pyclass\\Lib\\pathlib.py:1027\u001b[0m, in \u001b[0;36mPath.read_text\u001b[1;34m(self, encoding, errors)\u001b[0m\n\u001b[0;32m   1023\u001b[0m \u001b[38;5;250m\u001b[39m\u001b[38;5;124;03m\"\"\"\u001b[39;00m\n\u001b[0;32m   1024\u001b[0m \u001b[38;5;124;03mOpen the file in text mode, read it, and close the file.\u001b[39;00m\n\u001b[0;32m   1025\u001b[0m \u001b[38;5;124;03m\"\"\"\u001b[39;00m\n\u001b[0;32m   1026\u001b[0m encoding \u001b[38;5;241m=\u001b[39m io\u001b[38;5;241m.\u001b[39mtext_encoding(encoding)\n\u001b[1;32m-> 1027\u001b[0m \u001b[38;5;28;01mwith\u001b[39;00m \u001b[38;5;28mself\u001b[39m\u001b[38;5;241m.\u001b[39mopen(mode\u001b[38;5;241m=\u001b[39m\u001b[38;5;124m'\u001b[39m\u001b[38;5;124mr\u001b[39m\u001b[38;5;124m'\u001b[39m, encoding\u001b[38;5;241m=\u001b[39mencoding, errors\u001b[38;5;241m=\u001b[39merrors) \u001b[38;5;28;01mas\u001b[39;00m f:\n\u001b[0;32m   1028\u001b[0m     \u001b[38;5;28;01mreturn\u001b[39;00m f\u001b[38;5;241m.\u001b[39mread()\n",
      "File \u001b[1;32m~\\anaconda3\\envs\\pyclass\\Lib\\pathlib.py:1013\u001b[0m, in \u001b[0;36mPath.open\u001b[1;34m(self, mode, buffering, encoding, errors, newline)\u001b[0m\n\u001b[0;32m   1011\u001b[0m \u001b[38;5;28;01mif\u001b[39;00m \u001b[38;5;124m\"\u001b[39m\u001b[38;5;124mb\u001b[39m\u001b[38;5;124m\"\u001b[39m \u001b[38;5;129;01mnot\u001b[39;00m \u001b[38;5;129;01min\u001b[39;00m mode:\n\u001b[0;32m   1012\u001b[0m     encoding \u001b[38;5;241m=\u001b[39m io\u001b[38;5;241m.\u001b[39mtext_encoding(encoding)\n\u001b[1;32m-> 1013\u001b[0m \u001b[38;5;28;01mreturn\u001b[39;00m io\u001b[38;5;241m.\u001b[39mopen(\u001b[38;5;28mself\u001b[39m, mode, buffering, encoding, errors, newline)\n",
      "\u001b[1;31mFileNotFoundError\u001b[0m: [Errno 2] No such file or directory: 'alice.txt'"
     ]
    }
   ],
   "source": [
    "from pathlib import Path\n",
    "\n",
    "path = Path('alice.txt')\n",
    "contents = path.read_text(encoding='utf-8')"
   ]
  },
  {
   "cell_type": "markdown",
   "id": "ed180065-871f-4f6e-999c-79bdea621129",
   "metadata": {},
   "source": []
  },
  {
   "cell_type": "code",
   "execution_count": 10,
   "id": "a7e61e0c-c131-4553-bb4a-f01486f96656",
   "metadata": {},
   "outputs": [
    {
     "name": "stdout",
     "output_type": "stream",
     "text": [
      "미안합니다만, 파일 alice.txt는 존재하지 않습니다.\n"
     ]
    }
   ],
   "source": [
    "from pathlib import Path\n",
    "\n",
    "path = Path('alice.txt')\n",
    "try:\n",
    "    contents = path.read_text(encoding='utf-8')\n",
    "except FileNotFoundError:\n",
    "    print(f\"미안합니다만, 파일 {path}는 존재하지 않습니다.\")"
   ]
  },
  {
   "cell_type": "markdown",
   "id": "0d2583e7-7509-480c-b6e4-b9bec6f92767",
   "metadata": {},
   "source": [
    "#### try-except 블록 도입"
   ]
  },
  {
   "cell_type": "code",
   "execution_count": 15,
   "id": "b655800f-1ae7-4eeb-b774-059d098262c7",
   "metadata": {},
   "outputs": [
    {
     "name": "stdout",
     "output_type": "stream",
     "text": [
      "파일 alice.txt 에 있는 단어 수는 대략 29594 개 입니다.\n"
     ]
    }
   ],
   "source": [
    "from pathlib import Path\n",
    "\n",
    "path = Path('alice.txt')\n",
    "try:\n",
    "    contents = path.read_text(encoding='utf-8')\n",
    "except FileNotFoundError:\n",
    "    print(f\"미안합니다만, 파일 {path}는 존재하지 않습니다.\")\n",
    "else:\n",
    "    # 파일에 있는 대략적인 단어 수 세기:\n",
    "    words = contents.split()\n",
    "    num_words = len(words)\n",
    "    print(f\"파일 {path} 에 있는 단어 수는 대략 {num_words} 개 입니다.\")"
   ]
  },
  {
   "cell_type": "markdown",
   "id": "ddd2a082-5e65-4a31-aa47-f820bceb926e",
   "metadata": {},
   "source": [
    "#### 단어 수 세기\n"
   ]
  },
  {
   "cell_type": "code",
   "execution_count": 17,
   "id": "64b0f498-dd18-469f-852c-1f2b2f4e3a76",
   "metadata": {},
   "outputs": [
    {
     "name": "stdout",
     "output_type": "stream",
     "text": [
      "파일 alice.txt 에 있는 단어 수는 대략 29594 개 입니다.\n"
     ]
    }
   ],
   "source": [
    "from pathlib import Path\n",
    "\n",
    "def count_words(path):\n",
    "    \"\"\"파일에 있는 대략적인 단어 수 세기.\"\"\"\n",
    "    try:\n",
    "        contents = path.read_text(encoding='utf-8')\n",
    "    except FileNotFoundError:\n",
    "        print(f\"미안합니다만, 파일 {path}는 존재하지 않습니다.\")\n",
    "    else:\n",
    "        # 파일에 있는 대략적인 단어 수 세기:\n",
    "        words = contents.split()\n",
    "        num_words = len(words)\n",
    "        print(f\"파일 {path} 에 있는 단어 수는 대략 {num_words} 개 입니다.\")\n",
    "\n",
    "path = Path('alice.txt')\n",
    "count_words(path)"
   ]
  },
  {
   "cell_type": "markdown",
   "id": "cd156c85-a406-4fa8-9e5a-fc19703479fe",
   "metadata": {},
   "source": [
    "#### 여러 개의 파일 다루기"
   ]
  },
  {
   "cell_type": "code",
   "execution_count": 19,
   "id": "aac988f9-1a6b-4de0-957e-5afd18faf596",
   "metadata": {},
   "outputs": [
    {
     "name": "stdout",
     "output_type": "stream",
     "text": [
      "파일 alice.txt 에 있는 단어 수는 대략 29594 개 입니다.\n",
      "미안합니다만, 파일 siddhartha.txt는 존재하지 않습니다.\n",
      "파일 moby_dick.txt 에 있는 단어 수는 대략 215136 개 입니다.\n",
      "파일 little_women.txt 에 있는 단어 수는 대략 189079 개 입니다.\n"
     ]
    }
   ],
   "source": [
    "from pathlib import Path\n",
    "\n",
    "def count_words(path):\n",
    "    \"\"\"파일에 있는 대략적인 단어 수 세기.\"\"\"\n",
    "    try:\n",
    "        contents = path.read_text(encoding='utf-8')\n",
    "    except FileNotFoundError:\n",
    "        print(f\"미안합니다만, 파일 {path}는 존재하지 않습니다.\")\n",
    "    else:\n",
    "        # 파일에 있는 대략적인 단어 수 세기:\n",
    "        words = contents.split()\n",
    "        num_words = len(words)\n",
    "        print(f\"파일 {path} 에 있는 단어 수는 대략 {num_words} 개 입니다.\")\n",
    "        \n",
    "filenames = ['alice.txt', 'siddhartha.txt', 'moby_dick.txt', 'little_women.txt']\n",
    "for filename in filenames:\n",
    "    path = Path(filename)\n",
    "    count_words(path)"
   ]
  },
  {
   "cell_type": "code",
   "execution_count": null,
   "id": "5ad9b937-dd76-4a9d-81a9-e57efc455631",
   "metadata": {},
   "outputs": [],
   "source": []
  }
 ],
 "metadata": {
  "kernelspec": {
   "display_name": "PythonClass",
   "language": "python",
   "name": "pyclass"
  },
  "language_info": {
   "codemirror_mode": {
    "name": "ipython",
    "version": 3
   },
   "file_extension": ".py",
   "mimetype": "text/x-python",
   "name": "python",
   "nbconvert_exporter": "python",
   "pygments_lexer": "ipython3",
   "version": "3.12.9"
  }
 },
 "nbformat": 4,
 "nbformat_minor": 5
}
