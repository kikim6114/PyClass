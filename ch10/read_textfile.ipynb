{
 "cells": [
  {
   "cell_type": "markdown",
   "id": "c5ef740f-8e43-43a1-9584-80ea82953352",
   "metadata": {},
   "source": [
    "## 파일 읽기\n",
    "#### 파일 내용 읽기\n",
    "파일명: `pi_digits.txt`\n",
    "```\n",
    "3.1415926535  \n",
    "  8979323846  \n",
    "  2643383279  \n",
    "```"
   ]
  },
  {
   "cell_type": "code",
   "execution_count": 1,
   "id": "46e01aea-92e3-4a40-8c57-1ec2a85cb979",
   "metadata": {},
   "outputs": [
    {
     "name": "stdout",
     "output_type": "stream",
     "text": [
      "3.1415926535\n",
      "  8979323846\n",
      "  2643383279\n",
      "\n"
     ]
    }
   ],
   "source": [
    "from pathlib import Path\n",
    "\n",
    "path = Path('pi_digits.txt')\n",
    "contents = path.read_text()\n",
    "print(contents)"
   ]
  },
  {
   "cell_type": "markdown",
   "id": "f1bf8fe6-5da7-4a6f-9e83-c590367c39a9",
   "metadata": {},
   "source": [
    "#### 공백을 없앤 개선된 코드"
   ]
  },
  {
   "cell_type": "code",
   "execution_count": 3,
   "id": "bf17902f-70f4-49c0-9f1d-d2cc4edb68b6",
   "metadata": {},
   "outputs": [
    {
     "name": "stdout",
     "output_type": "stream",
     "text": [
      "3.1415926535\n",
      "  8979323846\n",
      "  2643383279\n"
     ]
    }
   ],
   "source": [
    "from pathlib import Path\n",
    "\n",
    "path = Path('pi_digits.txt')\n",
    "contents = path.read_text().rstrip()\n",
    "print(contents)"
   ]
  },
  {
   "cell_type": "markdown",
   "id": "7b29fceb-ef7e-4cb2-96f3-65646b7b7458",
   "metadata": {},
   "source": [
    "#### 파일 내용을 한 줄씩 읽어서 프린트하기"
   ]
  },
  {
   "cell_type": "code",
   "execution_count": 4,
   "id": "eff7804b-ac86-431c-9750-e672ee0c0432",
   "metadata": {},
   "outputs": [
    {
     "name": "stdout",
     "output_type": "stream",
     "text": [
      "3.1415926535\n",
      "  8979323846\n",
      "  2643383279\n"
     ]
    }
   ],
   "source": [
    "path = Path('pi_digits.txt')\n",
    "contents = path.read_text().rstrip()\n",
    "\n",
    "lines = contents.splitlines()\n",
    "for line in lines:\n",
    "    print(line)"
   ]
  },
  {
   "cell_type": "markdown",
   "id": "d5952e68-5d24-4ec1-b827-74734c6c3749",
   "metadata": {},
   "source": [
    "#### 파일 내용을 공백이 없는 하나의 문자열로 출력(1)"
   ]
  },
  {
   "cell_type": "code",
   "execution_count": 5,
   "id": "96a81213-d2f0-46bc-934e-a09ae1df1ad2",
   "metadata": {},
   "outputs": [
    {
     "name": "stdout",
     "output_type": "stream",
     "text": [
      "3.1415926535  8979323846  2643383279\n",
      "36\n"
     ]
    }
   ],
   "source": [
    "from pathlib import Path\n",
    "\n",
    "path = Path('pi_digits.txt')\n",
    "contents = path.read_text()\n",
    "\n",
    "lines = contents.splitlines()\n",
    "pi_string = ''\n",
    "for line in lines:\n",
    "    pi_string += line\n",
    "\n",
    "print(pi_string)\n",
    "print(len(pi_string))"
   ]
  },
  {
   "cell_type": "markdown",
   "id": "1efd4e04-37dd-4943-b2b2-3690a52783cc",
   "metadata": {},
   "source": [
    "#### 파일 내용을 공백이 없는 하나의 문자열로 출력(2)"
   ]
  },
  {
   "cell_type": "code",
   "execution_count": 6,
   "id": "3976241c-9f8b-4a12-b31c-a753b3755b6d",
   "metadata": {},
   "outputs": [
    {
     "name": "stdout",
     "output_type": "stream",
     "text": [
      "3.141592653589793238462643383279\n",
      "32\n"
     ]
    }
   ],
   "source": [
    "from pathlib import Path\n",
    "\n",
    "path = Path('pi_digits.txt')\n",
    "contents = path.read_text()\n",
    "\n",
    "lines = contents.splitlines()\n",
    "pi_string = ''\n",
    "for line in lines:\n",
    "    pi_string += line.lstrip()\n",
    "\n",
    "print(pi_string)\n",
    "print(len(pi_string))"
   ]
  },
  {
   "cell_type": "markdown",
   "id": "0e8c9480-433b-472a-8f29-a3e3956a5cb3",
   "metadata": {},
   "source": [
    "#### 큰 파일: 백만자리 수"
   ]
  },
  {
   "cell_type": "code",
   "execution_count": 7,
   "id": "8449b650-b1d8-4936-ba20-53ac8e6d5a23",
   "metadata": {},
   "outputs": [
    {
     "name": "stdout",
     "output_type": "stream",
     "text": [
      "3.14159265358979323846264338327950288419716939937510...\n",
      "1000002\n"
     ]
    }
   ],
   "source": [
    "from pathlib import Path\n",
    "\n",
    "path = Path('pi_million_digits.txt')\n",
    "contents = path.read_text()\n",
    "\n",
    "lines = contents.splitlines()\n",
    "pi_string = ''\n",
    "for line in lines:\n",
    "    pi_string += line.lstrip()\n",
    "\n",
    "print(f\"{pi_string[:52]}...\")\n",
    "print(len(pi_string))"
   ]
  },
  {
   "cell_type": "markdown",
   "id": "8052f791-705d-4d78-83c1-5e92cc9b430c",
   "metadata": {},
   "source": [
    "#### 파이의 숫자들 중에 내 생일이 있을까?"
   ]
  },
  {
   "cell_type": "code",
   "execution_count": 8,
   "id": "b55aaa4d-a0ae-44ba-98df-7cb8279afc62",
   "metadata": {},
   "outputs": [
    {
     "name": "stdin",
     "output_type": "stream",
     "text": [
      "생년월일을 입력하세요(YYMMDD):  960722\n"
     ]
    },
    {
     "name": "stdout",
     "output_type": "stream",
     "text": [
      "파이의 처음 백만자리 숫자들 중에 당신의 생일이 없습니다!\n"
     ]
    }
   ],
   "source": [
    "from pathlib import Path\n",
    "\n",
    "path = Path('pi_million_digits.txt')\n",
    "contents = path.read_text()\n",
    "\n",
    "lines = contents.splitlines()\n",
    "pi_string = ''\n",
    "for line in lines:\n",
    "    pi_string += line.lstrip()\n",
    "\n",
    "birthday = input(\"생년월일을 입력하세요(YYMMDD): \")\n",
    "if birthday in pi_string:\n",
    "    print(\"파이의 처음 백만자리 숫자들 중에 당신의 생일이 있습니다!\")\n",
    "else:\n",
    "    print(\"파이의 처음 백만자리 숫자들 중에 당신의 생일이 없습니다!\")"
   ]
  },
  {
   "cell_type": "markdown",
   "id": "703de1a2-2555-404a-bfb4-2f081785f0c7",
   "metadata": {},
   "source": [
    "## 파일 쓰기\n",
    "#### 한 줄 쓰기"
   ]
  },
  {
   "cell_type": "code",
   "execution_count": 11,
   "id": "320c80fc-ea55-4b54-9d2b-eacb80ec9efb",
   "metadata": {},
   "outputs": [
    {
     "data": {
      "text/plain": [
       "16"
      ]
     },
     "execution_count": 11,
     "metadata": {},
     "output_type": "execute_result"
    }
   ],
   "source": [
    "from pathlib import Path\n",
    "\n",
    "path = Path('programming.txt')\n",
    "path.write_text(\"나는 프로그래밍을 좋아합니다.\")"
   ]
  },
  {
   "cell_type": "markdown",
   "id": "4af8cf8c-aa3f-4038-a4e0-e2d6019e1386",
   "metadata": {},
   "source": [
    "#### 여러 줄 쓰기"
   ]
  },
  {
   "cell_type": "code",
   "execution_count": 13,
   "id": "0b18831b-8d1a-483c-837f-00e8193a1b0f",
   "metadata": {},
   "outputs": [
    {
     "data": {
      "text/plain": [
       "63"
      ]
     },
     "execution_count": 13,
     "metadata": {},
     "output_type": "execute_result"
    }
   ],
   "source": [
    "from pathlib import Path\n",
    "\n",
    "contents = \"나는 프로그래밍을 좋아합니다.\\n\"\n",
    "contents += \"나는 새로운 게임을 만드는 것을 좋아합니다.\\n\"\n",
    "contents += \"나는 데이터 다루는 것도 좋아합니다.\\n\"\n",
    "\n",
    "path = Path('programming.txt')\n",
    "path.write_text(contents)"
   ]
  },
  {
   "cell_type": "code",
   "execution_count": null,
   "id": "6c45a309-bd43-4f7a-85b8-09bdd3400686",
   "metadata": {},
   "outputs": [],
   "source": []
  }
 ],
 "metadata": {
  "kernelspec": {
   "display_name": "PythonClass",
   "language": "python",
   "name": "pyclass"
  },
  "language_info": {
   "codemirror_mode": {
    "name": "ipython",
    "version": 3
   },
   "file_extension": ".py",
   "mimetype": "text/x-python",
   "name": "python",
   "nbconvert_exporter": "python",
   "pygments_lexer": "ipython3",
   "version": "3.12.9"
  }
 },
 "nbformat": 4,
 "nbformat_minor": 5
}
