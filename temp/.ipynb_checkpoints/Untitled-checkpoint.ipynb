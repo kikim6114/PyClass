{
 "cells": [
  {
   "cell_type": "markdown",
   "id": "c16684ef-5035-4afb-b043-dcb59411e4dd",
   "metadata": {},
   "source": [
    "# "
   ]
  },
  {
   "cell_type": "code",
   "execution_count": 1,
   "id": "c49a7b6c-c6a8-441e-82ae-7139620072bb",
   "metadata": {},
   "outputs": [],
   "source": [
    "import numpy as np"
   ]
  },
  {
   "cell_type": "code",
   "execution_count": 8,
   "id": "c9e38e1e-6aa3-406d-a019-ae6b9e04b6c6",
   "metadata": {},
   "outputs": [],
   "source": [
    "A11=np.array([[1, -2, 4],\n",
    "     [2, 1, 1],\n",
    "    ])\n",
    "A21=np.array([[3, 3, 2]\n",
    "    ])\n",
    "A12=np.array([[1, 3],\n",
    "     [1, 1],\n",
    "    ])\n",
    "A22=np.array([[-1, 2]\n",
    "    ])"
   ]
  },
  {
   "cell_type": "code",
   "execution_count": 11,
   "id": "513e8638-0652-4334-a0ab-3b5fc0a2e34b",
   "metadata": {},
   "outputs": [],
   "source": [
    "B11=np.array([[1, -2],\n",
    "     [2, 1, ],\n",
    "              [0, 3]\n",
    "    ])\n",
    "B21=np.array([[4, 7],\n",
    "     [6, 2],\n",
    "    ])"
   ]
  },
  {
   "cell_type": "code",
   "execution_count": 14,
   "id": "16a247df-86f3-41a3-ae8f-ffeb047de723",
   "metadata": {},
   "outputs": [
    {
     "data": {
      "text/plain": [
       "array([[19, 21],\n",
       "       [14,  9]])"
      ]
     },
     "execution_count": 14,
     "metadata": {},
     "output_type": "execute_result"
    }
   ],
   "source": [
    "A11@B11+A12@B21"
   ]
  },
  {
   "cell_type": "code",
   "execution_count": 16,
   "id": "52340318-3fe7-4d53-a330-171f8aec2165",
   "metadata": {},
   "outputs": [
    {
     "data": {
      "text/plain": [
       "array([[17,  0]])"
      ]
     },
     "execution_count": 16,
     "metadata": {},
     "output_type": "execute_result"
    }
   ],
   "source": [
    "A21@B11+A22@B21"
   ]
  },
  {
   "cell_type": "code",
   "execution_count": null,
   "id": "c0550684-840a-47f5-b544-ead6882f0e4f",
   "metadata": {},
   "outputs": [],
   "source": []
  }
 ],
 "metadata": {
  "kernelspec": {
   "display_name": "PythonClass",
   "language": "python",
   "name": "pyclass"
  },
  "language_info": {
   "codemirror_mode": {
    "name": "ipython",
    "version": 3
   },
   "file_extension": ".py",
   "mimetype": "text/x-python",
   "name": "python",
   "nbconvert_exporter": "python",
   "pygments_lexer": "ipython3",
   "version": "3.12.3"
  }
 },
 "nbformat": 4,
 "nbformat_minor": 5
}
