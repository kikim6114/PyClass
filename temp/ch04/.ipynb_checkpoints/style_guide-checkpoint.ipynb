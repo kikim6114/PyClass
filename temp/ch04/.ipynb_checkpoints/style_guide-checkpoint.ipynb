{
 "cells": [
  {
   "cell_type": "markdown",
   "id": "69407c11-abbf-46d8-89e2-03be21fef386",
   "metadata": {},
   "source": [
    "[출처] PEP8 한국어 번역 (zerosheepmoo.github.io/pep8-in-korean/)"
   ]
  },
  {
   "cell_type": "markdown",
   "id": "0afbe213-94aa-4b13-8719-7f10ed079921",
   "metadata": {},
   "source": [
    "## 들여쓰기"
   ]
  },
  {
   "cell_type": "markdown",
   "id": "4d07dc12-6caf-4720-9e24-21c5b02c8cf9",
   "metadata": {},
   "source": [
    "##### 옳은 예"
   ]
  },
  {
   "cell_type": "code",
   "execution_count": null,
   "id": "3c780b23-46a3-4562-8bdd-26e59a788016",
   "metadata": {},
   "outputs": [],
   "source": [
    "foo = long_function_name(var_one, var_two,\n",
    "                         var_three, var_four)\n",
    "\n",
    "def long_function_name(\n",
    "        var_one, var_two, var_three,\n",
    "        var_four):\n",
    "    print(var_one)\n",
    "\n",
    "foo = long_function_name(\n",
    "    var_one, var_two,\n",
    "    var_three, var_four)"
   ]
  },
  {
   "cell_type": "markdown",
   "id": "9ad0fc41-d629-4092-ab5e-a6c1a8e63134",
   "metadata": {},
   "source": [
    "##### 잘못"
   ]
  },
  {
   "cell_type": "code",
   "execution_count": null,
   "id": "802ece0a-10e7-4ea0-a801-f1f7ca900260",
   "metadata": {},
   "outputs": [],
   "source": [
    "foo = long_function_name(var_one, var_two,\n",
    "    var_three, var_four)\n",
    "\n",
    "def long_function_name(\n",
    "    var_one, var_two, var_three,\n",
    "    var_four):\n",
    "    print(var_one)"
   ]
  },
  {
   "cell_type": "markdown",
   "id": "42779e00-8bb2-4e6b-a4ca-d64fd9fbde52",
   "metadata": {},
   "source": [
    "#### 인수 목록 또는 리스트의 마지막 괄호 위치"
   ]
  },
  {
   "cell_type": "code",
   "execution_count": null,
   "id": "9bb06e66-fab2-4635-ae0b-373fa42e1303",
   "metadata": {},
   "outputs": [],
   "source": [
    "def some_function_that_takes_arguments(*kargs):\n",
    "    return"
   ]
  },
  {
   "cell_type": "code",
   "execution_count": null,
   "id": "db4a244e-3620-4d2b-9c72-0f1eab9a169d",
   "metadata": {},
   "outputs": [],
   "source": [
    "my_list = [\n",
    "    1, 2, 3,\n",
    "    4, 5, 6,\n",
    "    ]\n",
    "result = some_function_that_takes_arguments(\n",
    "    'a', 'b', 'c',\n",
    "    'd', 'e', 'f',\n",
    "    )"
   ]
  },
  {
   "cell_type": "code",
   "execution_count": null,
   "id": "9543274b-7e30-4b5f-9932-b759dd593b2a",
   "metadata": {},
   "outputs": [],
   "source": [
    "my_list = [\n",
    "    1, 2, 3,\n",
    "    4, 5, 6,\n",
    "]\n",
    "result = some_function_that_takes_arguments(\n",
    "    'a', 'b', 'c',\n",
    "    'd', 'e', 'f',\n",
    ")"
   ]
  },
  {
   "cell_type": "markdown",
   "id": "4388df1a-cc22-44f6-8009-14de922a1d86",
   "metadata": {},
   "source": [
    "#### 이항 연산자 줄바꿈"
   ]
  },
  {
   "cell_type": "code",
   "execution_count": null,
   "id": "e5e0befb-b230-4728-9d27-c6b72e801ee1",
   "metadata": {},
   "outputs": [],
   "source": [
    "income = (gross_wages\n",
    "          + taxable_interest\n",
    "          + (dividends - qualified_dividends)\n",
    "          - ira_deduction\n",
    "          - student_loan_interest)"
   ]
  },
  {
   "cell_type": "markdown",
   "id": "e2204a59-f811-40a9-b94d-b4522e219a90",
   "metadata": {},
   "source": [
    "#### 가져오기(import)"
   ]
  },
  {
   "cell_type": "code",
   "execution_count": null,
   "id": "0b62ce45-e565-4bc3-9e5e-da11fa65e0f8",
   "metadata": {},
   "outputs": [],
   "source": [
    "import os\n",
    "import sys\n",
    "from subprocess import Popen, PIPE"
   ]
  },
  {
   "cell_type": "markdown",
   "id": "0ff6f7ba-38b8-4b98-8e4e-d9a3f9a5cacd",
   "metadata": {},
   "source": [
    "## 식과 문장에서의 공백"
   ]
  },
  {
   "cell_type": "code",
   "execution_count": null,
   "id": "427dd371-c091-4b9d-9b41-197ce4427d55",
   "metadata": {},
   "outputs": [],
   "source": [
    "spam(ham[1], {eggs: 2})\n",
    "spam( ham[ 1 ], { eggs: 2 } )"
   ]
  },
  {
   "cell_type": "code",
   "execution_count": null,
   "id": "a2efe98a-db6f-4f28-af21-8c61d7015d45",
   "metadata": {},
   "outputs": [],
   "source": [
    "foo = (0,)\n",
    "bar = (0, )"
   ]
  },
  {
   "cell_type": "code",
   "execution_count": null,
   "id": "b0935e52-ddb2-4a17-89ba-8f862a2ce304",
   "metadata": {},
   "outputs": [],
   "source": [
    "if x == 4: print x, y; x, y = y, x\n",
    "if x == 4 : print x , y ; x , y = y , x"
   ]
  },
  {
   "cell_type": "code",
   "execution_count": null,
   "id": "6073af2b-f42b-410b-9d14-3375b8489261",
   "metadata": {},
   "outputs": [],
   "source": [
    "spam(1)\n",
    "spam (1)"
   ]
  },
  {
   "cell_type": "markdown",
   "id": "6db11a0c-7fd7-45a2-a160-70da2a14b60f",
   "metadata": {},
   "source": [
    "##### 슬라이싱에서 콜론은 이항 연산자처럼 작동하며 양쪽에 동일한 양의 공백이 있어야 한다.\n"
   ]
  },
  {
   "cell_type": "code",
   "execution_count": null,
   "id": "87685a63-89b6-4094-93d3-e4b9990a35bd",
   "metadata": {},
   "outputs": [],
   "source": [
    "# 옳음\n",
    "ham[1:9], ham[1:9:3], ham[:9:3], ham[1::3], ham[1:9:]\n",
    "ham[lower:upper], ham[lower:upper:], ham[lower::step]\n",
    "ham[lower+offset : upper+offset]\n",
    "ham[: upper_fn(x) : step_fn(x)], ham[:: step_fn(x)]\n",
    "ham[lower + offset : upper + offset]"
   ]
  },
  {
   "cell_type": "code",
   "execution_count": null,
   "id": "41bb9fc7-4ab5-465a-b8ad-a09e4a3e351a",
   "metadata": {},
   "outputs": [],
   "source": [
    "# 그름\n",
    "ham[lower + offset:upper + offset]\n",
    "ham[1: 9], ham[1 :9], ham[1:9 :3]\n",
    "ham[lower : : upper]\n",
    "ham[ : upper]"
   ]
  },
  {
   "attachments": {},
   "cell_type": "markdown",
   "id": "e2c0abaf-727b-43c4-91d0-b4ebe3e39cd2",
   "metadata": {},
   "source": [
    "##### 연산자 관련"
   ]
  },
  {
   "cell_type": "code",
   "execution_count": null,
   "id": "b567dc10-186f-496b-9087-53044c0b2e2f",
   "metadata": {},
   "outputs": [],
   "source": [
    "# 옳음\n",
    "i = i + 1\n",
    "submitted += 1\n",
    "x = x*2 - 1\n",
    "hypot2 = x*x + y*y\n",
    "c = (a+b) * (a-b)"
   ]
  },
  {
   "cell_type": "code",
   "execution_count": null,
   "id": "f9fc8689-b209-45f2-9a3d-72d70c90f7d9",
   "metadata": {},
   "outputs": [],
   "source": [
    "# 그름\n",
    "i=i+1\n",
    "submitted +=1\n",
    "x = x * 2 - 1\n",
    "hypot2 = x * x + y * y\n",
    "c = (a + b) * (a - b)"
   ]
  }
 ],
 "metadata": {
  "kernelspec": {
   "display_name": "PythonClass",
   "language": "python",
   "name": "pyclass"
  },
  "language_info": {
   "codemirror_mode": {
    "name": "ipython",
    "version": 3
   },
   "file_extension": ".py",
   "mimetype": "text/x-python",
   "name": "python",
   "nbconvert_exporter": "python",
   "pygments_lexer": "ipython3",
   "version": "3.12.3"
  }
 },
 "nbformat": 4,
 "nbformat_minor": 5
}
