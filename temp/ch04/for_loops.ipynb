{
 "cells": [
  {
   "cell_type": "markdown",
   "id": "28225662-3611-40d6-ba31-d06ccf5ba5fc",
   "metadata": {},
   "source": [
    "#### 기본적인 `for` 루프"
   ]
  },
  {
   "cell_type": "code",
   "execution_count": null,
   "id": "a2a7a2a4-9e30-426c-b382-00c80ea9cb68",
   "metadata": {},
   "outputs": [],
   "source": [
    "flowers = ['rose', 'tulip', 'lily']\n",
    "for flower in flowers:\n",
    "    print(flower)\n",
    "print(\"Good job!\")"
   ]
  },
  {
   "cell_type": "markdown",
   "id": "60ea158b-b2ba-442a-a6b2-1b4865355bd4",
   "metadata": {},
   "source": [
    "#### 이터러블(Iterable)"
   ]
  },
  {
   "cell_type": "code",
   "execution_count": 1,
   "id": "afd35ddf-7bac-460b-8901-9458a687f8c0",
   "metadata": {},
   "outputs": [
    {
     "name": "stdout",
     "output_type": "stream",
     "text": [
      "rose\n",
      "tulip\n",
      "lily\n"
     ]
    }
   ],
   "source": [
    "flowers = ['rose', 'tulip', 'lily']\n",
    "my_iter = iter(flowers)\n",
    "print(next(my_iter))\n",
    "print(next(my_iter))\n",
    "print(next(my_iter))"
   ]
  },
  {
   "cell_type": "markdown",
   "id": "a132841a-06f5-4609-9a2a-7591443a007f",
   "metadata": {},
   "source": [
    "#### iterable과 iterator를 사용한 for 루프 원리"
   ]
  },
  {
   "cell_type": "code",
   "execution_count": 13,
   "id": "4c79d2b8-8abf-4120-b100-4955d7cfb1ff",
   "metadata": {},
   "outputs": [
    {
     "name": "stdout",
     "output_type": "stream",
     "text": [
      "<class 'list_iterator'>\n",
      "rose\n",
      "tulip\n"
     ]
    }
   ],
   "source": [
    "flowers_iter = flowers.__iter__()\n",
    "print(type(flowers_iter))\n",
    "\n",
    "flower = flowers_iter.__next__()\n",
    "print(flower)\n",
    "flower = flowers_iter.__next__()\n",
    "print(flower)"
   ]
  },
  {
   "cell_type": "markdown",
   "id": "4fa4a600-dd5b-4354-b4df-c0df18424ef1",
   "metadata": {},
   "source": [
    "#### 객체의 내장 메서드 및 속성 목록 보기"
   ]
  },
  {
   "cell_type": "code",
   "execution_count": 15,
   "id": "3d239a30-8dec-4afe-b54f-fef5dc3d133e",
   "metadata": {},
   "outputs": [
    {
     "name": "stdout",
     "output_type": "stream",
     "text": [
      "['__add__', '__class__', '__class_getitem__', '__contains__', '__delattr__', '__delitem__', '__dir__', '__doc__', '__eq__', '__format__', '__ge__', '__getattribute__', '__getitem__', '__getstate__', '__gt__', '__hash__', '__iadd__', '__imul__', '__init__', '__init_subclass__', '__iter__', '__le__', '__len__', '__lt__', '__mul__', '__ne__', '__new__', '__reduce__', '__reduce_ex__', '__repr__', '__reversed__', '__rmul__', '__setattr__', '__setitem__', '__sizeof__', '__str__', '__subclasshook__', 'append', 'clear', 'copy', 'count', 'extend', 'index', 'insert', 'pop', 'remove', 'reverse', 'sort']\n"
     ]
    }
   ],
   "source": [
    "print(dir(flowers))"
   ]
  },
  {
   "cell_type": "code",
   "execution_count": 16,
   "id": "f68ad71b-6895-4cc5-b23b-33e6451ffafe",
   "metadata": {},
   "outputs": [
    {
     "name": "stdout",
     "output_type": "stream",
     "text": [
      "['__class__', '__delattr__', '__dir__', '__doc__', '__eq__', '__format__', '__ge__', '__getattribute__', '__getstate__', '__gt__', '__hash__', '__init__', '__init_subclass__', '__iter__', '__le__', '__length_hint__', '__lt__', '__ne__', '__new__', '__next__', '__reduce__', '__reduce_ex__', '__repr__', '__setattr__', '__setstate__', '__sizeof__', '__str__', '__subclasshook__']\n"
     ]
    }
   ],
   "source": [
    "print(dir(flowers_iter))"
   ]
  },
  {
   "attachments": {},
   "cell_type": "markdown",
   "id": "2ac5f84e-3f17-46f3-945e-2cf3c2929878",
   "metadata": {},
   "source": [
    "####일을 더 해볼까?"
   ]
  },
  {
   "cell_type": "code",
   "execution_count": 18,
   "id": "6a338bcf-17ec-4a97-b44f-3a572dace982",
   "metadata": {},
   "outputs": [
    {
     "name": "stdout",
     "output_type": "stream",
     "text": [
      "['Seoul', 13, 9.96]\n",
      "['London', 11, 9.05]\n",
      "['Paris', 12, 10.9]\n"
     ]
    }
   ],
   "source": [
    "cities = [['Seoul', 13, 9.96], \n",
    "          ['London', 11, 9.05], \n",
    "          ['Paris', 12, 10.90]]\n",
    "\n",
    "for city in cities:\n",
    "    print(city)"
   ]
  },
  {
   "cell_type": "markdown",
   "id": "67bda9ea-953e-4b87-8a1f-bdadfeda382f",
   "metadata": {},
   "source": [
    "#### 조금 더"
   ]
  },
  {
   "cell_type": "code",
   "execution_count": 22,
   "id": "8cdbefce-8865-4510-8ea1-1c420f666242",
   "metadata": {
    "scrolled": true
   },
   "outputs": [
    {
     "name": "stdout",
     "output_type": "stream",
     "text": [
      "Seoul의 연평균기온은 13°C 입니다.\n",
      "           화씨로는  55.4°F 입니다.\n",
      "London의 연평균기온은 11°C 입니다.\n",
      "           화씨로는  51.8°F 입니다.\n",
      "Paris의 연평균기온은 12°C 입니다.\n",
      "           화씨로는  53.6°F 입니다.\n"
     ]
    }
   ],
   "source": [
    "for city in cities:\n",
    "    print(f\"{city[0]}의 연평균기온은 {city[1]}{chr(176)}C 입니다.\")\n",
    "    print(f\"           화씨로는 {city[1]*1.8+32: .1f}{chr(176)}F 입니다.\")"
   ]
  },
  {
   "cell_type": "markdown",
   "id": "c33182b9-1cd9-4868-b39a-79a651c00f8d",
   "metadata": {},
   "source": [
    "#### `for` 루프 전후에 할 일이 있는 경우"
   ]
  },
  {
   "cell_type": "code",
   "execution_count": null,
   "id": "04ea12f0-346e-429e-b7fd-ede5f6d31021",
   "metadata": {},
   "outputs": [],
   "source": [
    "cities = [['Seoul', 13, 9.96], ['London1', 11, 9.05], ['Paris', 12, 10.90]]\n",
    "total_temp = 0\n",
    "total_pop = 0\n",
    "\n",
    "for city in cities:\n",
    "    total_temp += city[1]\n",
    "    total_pop += city[2]\n",
    "\n",
    "print(f\"Average temperature of {len(cities)} cities is {average_temp: .1f}{chr(176)}C.\")\n",
    "print(f\"Total of populations for {len(cities)} cities are {total_pop: .1f} millions.\")"
   ]
  },
  {
   "cell_type": "markdown",
   "id": "89228467-87e1-4258-9e78-5b51f9ee5f3b",
   "metadata": {},
   "source": [
    "#### 중첩 `for` 루프와 들여쓰기"
   ]
  },
  {
   "cell_type": "code",
   "execution_count": null,
   "id": "8c29a412-998a-4d07-8b57-9f850dba25be",
   "metadata": {},
   "outputs": [],
   "source": [
    "scores = [[4, 5, 14, 8], [3, 12, 3, 9], [11, 7, 19, 1]]\n",
    "max_score = 0\n",
    "for grp in scores:\n",
    "    for s in grp:\n",
    "        if s > max_score:\n",
    "            max_score = s\n",
    "print(max_score)"
   ]
  }
 ],
 "metadata": {
  "kernelspec": {
   "display_name": "PythonClass",
   "language": "python",
   "name": "pyclass"
  },
  "language_info": {
   "codemirror_mode": {
    "name": "ipython",
    "version": 3
   },
   "file_extension": ".py",
   "mimetype": "text/x-python",
   "name": "python",
   "nbconvert_exporter": "python",
   "pygments_lexer": "ipython3",
   "version": "3.12.3"
  }
 },
 "nbformat": 4,
 "nbformat_minor": 5
}
