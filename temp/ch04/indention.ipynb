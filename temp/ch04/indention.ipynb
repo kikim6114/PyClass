{
 "cells": [
  {
   "cell_type": "markdown",
   "id": "2f469f2b-18fb-4127-9f4e-ec13d3487bc9",
   "metadata": {},
   "source": [
    "#### 들여쓰기 빼먹기 오류"
   ]
  },
  {
   "cell_type": "code",
   "execution_count": 1,
   "id": "62ff45cc-d4e0-43b4-8721-86d509b889ef",
   "metadata": {},
   "outputs": [
    {
     "ename": "IndentationError",
     "evalue": "expected an indented block after 'for' statement on line 2 (468131205.py, line 3)",
     "output_type": "error",
     "traceback": [
      "\u001b[1;36m  Cell \u001b[1;32mIn[1], line 3\u001b[1;36m\u001b[0m\n\u001b[1;33m    print(\"Good job!\")\u001b[0m\n\u001b[1;37m    ^\u001b[0m\n\u001b[1;31mIndentationError\u001b[0m\u001b[1;31m:\u001b[0m expected an indented block after 'for' statement on line 2\n"
     ]
    }
   ],
   "source": [
    "flowers = ['rose', 'tulip', 'lily']\n",
    "for flower in flowers:\n",
    "print(\"Good job!\")"
   ]
  },
  {
   "cell_type": "code",
   "execution_count": 2,
   "id": "5523c6db-cd9b-4a6f-b942-990bd725969d",
   "metadata": {},
   "outputs": [
    {
     "name": "stdout",
     "output_type": "stream",
     "text": [
      "Seoul의 연평균기온은 13°C 입니다.\n",
      "London1의 연평균기온은 11°C 입니다.\n",
      "Paris의 연평균기온은 12°C 입니다.\n",
      "       화씨로는  53.6°F 입니다.\n"
     ]
    }
   ],
   "source": [
    "cities = [['Seoul', 13, 9.96], ['London1', 11, 9.05], ['Paris', 12, 10.90]]\n",
    "for city in cities:\n",
    "    print(f\"{city[0]}의 연평균기온은 {city[1]}{chr(176)}C 입니다.\")\n",
    "print(f\"       화씨로는 {city[1]*1.8+32: .1f}{chr(176)}F 입니다.\")"
   ]
  },
  {
   "cell_type": "markdown",
   "id": "f5b48072-8d30-4471-bf9d-bc953581c766",
   "metadata": {},
   "source": [
    "#### 필요 없는 들여쓰기"
   ]
  },
  {
   "cell_type": "code",
   "execution_count": 5,
   "id": "6645b90f-16fb-425b-aacf-8e7f36a102e0",
   "metadata": {},
   "outputs": [
    {
     "ename": "IndentationError",
     "evalue": "unexpected indent (1834497283.py, line 2)",
     "output_type": "error",
     "traceback": [
      "\u001b[1;36m  Cell \u001b[1;32mIn[5], line 2\u001b[1;36m\u001b[0m\n\u001b[1;33m    print(flowers)\u001b[0m\n\u001b[1;37m    ^\u001b[0m\n\u001b[1;31mIndentationError\u001b[0m\u001b[1;31m:\u001b[0m unexpected indent\n"
     ]
    }
   ],
   "source": [
    "flowers = ['rose', 'tulip', 'lily']\n",
    " print(flowers)"
   ]
  },
  {
   "cell_type": "code",
   "execution_count": null,
   "id": "6da7a6cf-3965-4bdc-8dab-8071cc59f59b",
   "metadata": {},
   "outputs": [],
   "source": [
    "for i in range(5):\n",
    "    for j"
   ]
  }
 ],
 "metadata": {
  "kernelspec": {
   "display_name": "PythonClass",
   "language": "python",
   "name": "pyclass"
  },
  "language_info": {
   "codemirror_mode": {
    "name": "ipython",
    "version": 3
   },
   "file_extension": ".py",
   "mimetype": "text/x-python",
   "name": "python",
   "nbconvert_exporter": "python",
   "pygments_lexer": "ipython3",
   "version": "3.12.3"
  }
 },
 "nbformat": 4,
 "nbformat_minor": 5
}
