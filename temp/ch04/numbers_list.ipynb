{
 "cells": [
  {
   "attachments": {},
   "cell_type": "markdown",
   "id": "d8b321bd-f95e-4962-a856-73e04c884427",
   "metadata": {},
   "source": [
    "#### `class list([iterable])`"
   ]
  },
  {
   "cell_type": "code",
   "execution_count": 9,
   "id": "cb98966f-0ab5-4bbb-99ef-805235443ff4",
   "metadata": {},
   "outputs": [
    {
     "name": "stdout",
     "output_type": "stream",
     "text": [
      "['d', 'a', 'f', 'f', 'o', 'd', 'i', 'l']\n"
     ]
    }
   ],
   "source": [
    "flower = 'daffodil'\n",
    "list_flower = list(flower)\n",
    "print(list_flower)"
   ]
  },
  {
   "cell_type": "markdown",
   "id": "14031040-cbcc-4e74-80dd-2fa5f3ae616c",
   "metadata": {},
   "source": [
    "#### `range()` 함수 사용하기\n",
    "**1~5 까지의 숫자 인쇄하기**"
   ]
  },
  {
   "cell_type": "code",
   "execution_count": 2,
   "id": "4e9115fd-3469-4087-a8f8-ae53040cdad0",
   "metadata": {},
   "outputs": [
    {
     "name": "stdout",
     "output_type": "stream",
     "text": [
      "1\n",
      "2\n",
      "3\n",
      "4\n"
     ]
    }
   ],
   "source": [
    "for value in range(1, 5):\n",
    "    print(value)"
   ]
  },
  {
   "cell_type": "code",
   "execution_count": 3,
   "id": "e0faf981-afb5-4870-966b-da00cc15d22b",
   "metadata": {},
   "outputs": [
    {
     "name": "stdout",
     "output_type": "stream",
     "text": [
      "1\n",
      "2\n",
      "3\n",
      "4\n",
      "5\n"
     ]
    }
   ],
   "source": [
    "for value in range(1, 6):\n",
    "    print(value)"
   ]
  },
  {
   "cell_type": "code",
   "execution_count": 18,
   "id": "e5bea7e2-cdbb-4735-b88a-dc347d48c66b",
   "metadata": {},
   "outputs": [
    {
     "data": {
      "text/plain": [
       "[1, 3, 5, 7, 9]"
      ]
     },
     "execution_count": 18,
     "metadata": {},
     "output_type": "execute_result"
    }
   ],
   "source": [
    "list(range(1, 11, 2))               "
   ]
  },
  {
   "cell_type": "markdown",
   "id": "e87ef467-6ef1-4f7e-b480-595fd1e1825c",
   "metadata": {},
   "source": [
    "#### Tips & Hints"
   ]
  },
  {
   "cell_type": "code",
   "execution_count": 22,
   "id": "9c541d19-692a-495a-8248-c286f025d171",
   "metadata": {},
   "outputs": [
    {
     "data": {
      "text/plain": [
       "[1, 2, 3, 4, 5, 6, 7, 8, 9, 10]"
      ]
     },
     "execution_count": 22,
     "metadata": {},
     "output_type": "execute_result"
    }
   ],
   "source": [
    "list(range(10))\n",
    "list(range(1, 11))"
   ]
  },
  {
   "cell_type": "code",
   "execution_count": 23,
   "id": "432f6f72-4043-451b-a74a-6310c8e70b7a",
   "metadata": {},
   "outputs": [],
   "source": [
    "from IPython.core.interactiveshell import InteractiveShell\n",
    "InteractiveShell.ast_node_interactivity = \"all\""
   ]
  },
  {
   "cell_type": "code",
   "execution_count": 25,
   "id": "5b34be7d-a1f9-422f-9cdb-c32781b705c6",
   "metadata": {},
   "outputs": [
    {
     "data": {
      "text/plain": [
       "[0, 1, 2, 3, 4, 5, 6, 7, 8, 9]"
      ]
     },
     "execution_count": 25,
     "metadata": {},
     "output_type": "execute_result"
    },
    {
     "data": {
      "text/plain": [
       "[1, 2, 3, 4, 5, 6, 7, 8, 9, 10]"
      ]
     },
     "execution_count": 25,
     "metadata": {},
     "output_type": "execute_result"
    },
    {
     "data": {
      "text/plain": [
       "[0, 5, 10, 15, 20, 25]"
      ]
     },
     "execution_count": 25,
     "metadata": {},
     "output_type": "execute_result"
    },
    {
     "data": {
      "text/plain": [
       "[0, -1, -2, -3, -4, -5, -6, -7, -8, -9]"
      ]
     },
     "execution_count": 25,
     "metadata": {},
     "output_type": "execute_result"
    },
    {
     "data": {
      "text/plain": [
       "[]"
      ]
     },
     "execution_count": 25,
     "metadata": {},
     "output_type": "execute_result"
    },
    {
     "data": {
      "text/plain": [
       "[]"
      ]
     },
     "execution_count": 25,
     "metadata": {},
     "output_type": "execute_result"
    }
   ],
   "source": [
    "list(range(10))\n",
    "list(range(1, 11))\n",
    "list(range(0, 30, 5))\n",
    "list(range(0, -10, -1))\n",
    "list(range(0))\n",
    "list(range(1, 0))"
   ]
  },
  {
   "cell_type": "code",
   "execution_count": 20,
   "id": "2b933391-8acf-4659-a971-ee5427999760",
   "metadata": {},
   "outputs": [],
   "source": [
    "from IPython.core.interactiveshell import InteractiveShell\n",
    "InteractiveShell.ast_node_interactivity = \"last_expr\""
   ]
  },
  {
   "attachments": {},
   "cell_type": "markdown",
   "id": "98ab4f23-d440-4a3f-9c55-04c319ab8524",
   "metadata": {},
   "source": [
    "#### 리스트 컴프리헨션List Comprehension이란?"
   ]
  },
  {
   "cell_type": "code",
   "execution_count": 26,
   "id": "4423065e-638a-4d45-bddb-75e7abf88fc2",
   "metadata": {},
   "outputs": [
    {
     "name": "stdout",
     "output_type": "stream",
     "text": [
      "[1, 4, 9, 16, 25, 36, 49, 64, 81, 100]\n"
     ]
    }
   ],
   "source": [
    "squares = []\n",
    "for value in range(1,11):\n",
    "    squares.append(value**2)\n",
    "    \n",
    "print(squares)"
   ]
  },
  {
   "cell_type": "code",
   "execution_count": 27,
   "id": "7208b474-0757-4cfb-9c8c-40827bd970f0",
   "metadata": {},
   "outputs": [
    {
     "name": "stdout",
     "output_type": "stream",
     "text": [
      "[1, 4, 9, 16, 25, 36, 49, 64, 81, 100]\n"
     ]
    }
   ],
   "source": [
    "squares = [value**2 for value in range(1, 11)]\n",
    "print(squares)"
   ]
  },
  {
   "cell_type": "code",
   "execution_count": null,
   "id": "8f06bf30-8105-487a-b184-9296d286ffa5",
   "metadata": {},
   "outputs": [],
   "source": []
  }
 ],
 "metadata": {
  "kernelspec": {
   "display_name": "PythonClass",
   "language": "python",
   "name": "pyclass"
  },
  "language_info": {
   "codemirror_mode": {
    "name": "ipython",
    "version": 3
   },
   "file_extension": ".py",
   "mimetype": "text/x-python",
   "name": "python",
   "nbconvert_exporter": "python",
   "pygments_lexer": "ipython3",
   "version": "3.12.3"
  }
 },
 "nbformat": 4,
 "nbformat_minor": 5
}
